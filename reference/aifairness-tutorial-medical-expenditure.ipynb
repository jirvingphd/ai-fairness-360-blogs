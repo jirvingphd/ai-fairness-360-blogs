{
 "cells": [
  {
   "cell_type": "markdown",
   "metadata": {},
   "source": [
    "# Tutorial: AIFairness 360"
   ]
  },
  {
   "cell_type": "markdown",
   "metadata": {},
   "source": [
    "- 07/19/24 -  Practicing AI Fairness 360\n",
    "> Following along with:\n",
    ">- Video: https://community.ibm.com/community/user/ai-datascience/viewdocument/removing-unfair-bias-in-machine-lea\n",
    ">- Example Notebook: https://github.com/Trusted-AI/AIF360/blob/main/examples/tutorial_medical_expenditure.ipynb"
   ]
  },
  {
   "cell_type": "markdown",
   "metadata": {},
   "source": [
    "### Use case\n",
    "\n",
    "In order to demonstrate how AIF 360 can be used to detect and mitigate bias in classfier models, we adopt the following use case:\n",
    "\n",
    "- a data scientist develops a 'fair' healthcare utilization scoring model with respect to defined protected classes. Fairness may be dictated by legal or government regulations, such as a requirement that additional care decisions be not predicated on factors such as race of the patient.\n",
    "\n",
    "- developer takes the model AND performance characteristics / specs of the model (e.g. accuracy, fairness tests, etc. basically the model factsheet) and deploys the model in an enterprise app that prioritizes cases for care management.\n",
    "\n",
    "- the app is put into production and starts scoring people and making recommendations.\n",
    "\n",
    "- explanations are generated for each recommendation\n",
    "\n",
    "- both recommendations and associated explanations are given to nurses as a part of the care management process. The nurses can evaluate the recommendations for quality and correctness and provide feedback.\n",
    "\n",
    "- nurse feedback as well as analysis of usage data with respect to specs of the model w.r.t accuracy and fairness is communicated to AI Ops specialist and LOB user periodically.\n",
    "\n",
    "- when significant drift in model specs relative to the model factsheet is observed, the model is sent back for retraining."
   ]
  },
  {
   "cell_type": "markdown",
   "metadata": {},
   "source": []
  },
  {
   "cell_type": "markdown",
   "metadata": {},
   "source": [
    "# The Data"
   ]
  },
  {
   "cell_type": "markdown",
   "metadata": {},
   "source": [
    "> Source https://github.com/Trusted-AI/AIF360/blob/main/examples/tutorial_medical_expenditure.ipynb#2.%20Data%20Used\n",
    "\n",
    "\n",
    "The specific data used is the [2015 Full Year Consolidated Data File](https://meps.ahrq.gov/mepsweb/data_stats/download_data_files_detail.jsp?cboPufNumber=HC-181) as well as the [2016 Full Year Consolidated Data File](https://meps.ahrq.gov/mepsweb/data_stats/download_data_files_detail.jsp?cboPufNumber=HC-192).\n",
    "\n",
    "The 2015 file contains data from rounds 3,4,5 of panel 19 (2014) and rounds 1,2,3 of panel 20 (2015). The 2016 file contains data from rounds 3,4,5 of panel 20 (2015) and rounds 1,2,3 of panel 21 (2016).\n",
    "\n",
    "For this demonstration, three datasets were constructed: one from panel 19, round 5 (used for learning models), one from panel 20, round 3 (used for deployment/testing of model - steps); the other from panel 21, round 3 (used for re-training and deployment/testing of updated model).\n",
    "\n",
    "***For each dataset, the sensitive attribute is 'RACE' constructed as follows: 'Whites' (privileged class) defined by the features RACEV2X = 1 (White) and HISPANX = 2 (non Hispanic); 'Non-Whites' that included everyone else.***\n",
    "\n",
    "Along with race as the sensitive feature, other features used for modeling include demographics (such as age, gender, active duty status), physical/mental health assessments, diagnosis codes (such as history of diagnosis of cancer, or diabetes), and limitations (such as cognitive or hearing or vision limitation).\n",
    "\n",
    "To measure utilization, a composite feature, 'UTILIZATION', was created to measure the total number of trips requiring some sort of medical care by summing up the following features: OBTOTV15(16), the number of office based visits; OPTOTV15(16), the number of outpatient visits; ERTOT15(16), the number of ER visits; IPNGTD15(16), the number of inpatient nights, and + HHTOTD16, the number of home health visits.\n",
    "\n",
    ">The model classification task is to predict whether a person would have 'high' utilization (defined as UTILIZATION >= 10, roughly the average utilization for the considered population). High utilization respondents constituted around 17% of each dataset.\n",
    "\n",
    "To simulate the scenario, each dataset is split into 3 parts: a train, a validation, and a test/deployment part.\n",
    "\n",
    "We assume that the model is initially built and tuned using the 2015 Panel 19 train/test data. (Use case steps 1-2.) It is then put into practice and used to score people to identify potential candidates for care management (Use case steps 3-5). Initial deployment is simulated to 2015 Panel 20 deployment data. To show change in performance and/or fairness over time, (use case steps 6-7), the 2016 Panel 21 deployment data is used. Finally, if drift is observed, the 2015 train/validation data is used to learn a new model and evaluated again on the 2016 deployment data\n",
    "\n"
   ]
  },
  {
   "cell_type": "markdown",
   "metadata": {},
   "source": [
    "## Training Models"
   ]
  },
  {
   "cell_type": "code",
   "execution_count": 3,
   "metadata": {},
   "outputs": [],
   "source": [
    "# !pip install lime"
   ]
  },
  {
   "cell_type": "code",
   "execution_count": 4,
   "metadata": {},
   "outputs": [],
   "source": [
    "import sys\n",
    "sys.path.insert(0, '../')\n",
    "\n",
    "# %matplotlib inline\n",
    "import matplotlib.pyplot as plt\n",
    "import numpy as np\n",
    "from IPython.display import Markdown, display\n",
    "\n",
    "# Datasets\n",
    "from aif360.datasets import MEPSDataset19\n",
    "from aif360.datasets import MEPSDataset20\n",
    "from aif360.datasets import MEPSDataset21"
   ]
  },
  {
   "cell_type": "code",
   "execution_count": 5,
   "metadata": {},
   "outputs": [],
   "source": [
    "\n",
    "# Preprocessing\n",
    "from sklearn.preprocessing import StandardScaler\n",
    "from sklearn.model_selection import train_test_split\n",
    "\n",
    "# Classifiers\n",
    "from sklearn.ensemble import RandomForestClassifier\n",
    "from sklearn.linear_model import LogisticRegression\n",
    "from sklearn.pipeline import make_pipeline\n",
    "\n"
   ]
  },
  {
   "cell_type": "code",
   "execution_count": 6,
   "metadata": {},
   "outputs": [
    {
     "name": "stderr",
     "output_type": "stream",
     "text": [
      "/opt/homebrew/Caskroom/miniforge/base/envs/fair-env/lib/python3.12/site-packages/torch/_functorch/deprecated.py:61: UserWarning: We've integrated functorch into PyTorch. As the final step of the integration, functorch.vmap is deprecated as of PyTorch 2.0 and will be deleted in a future version of PyTorch >= 2.3. Please use torch.vmap instead; see the PyTorch 2.0 release notes and/or the torch.func migration guide for more details https://pytorch.org/docs/master/func.migrating.html\n",
      "  warn_deprecated('vmap', 'torch.vmap')\n"
     ]
    }
   ],
   "source": [
    "## Metrics\n",
    "from aif360.metrics import BinaryLabelDatasetMetric\n",
    "from aif360.metrics import ClassificationMetric\n",
    "\n",
    "# Explainers\n",
    "from aif360.explainers import MetricTextExplainer\n"
   ]
  },
  {
   "cell_type": "code",
   "execution_count": 7,
   "metadata": {},
   "outputs": [],
   "source": [
    "# !pip install lime"
   ]
  },
  {
   "cell_type": "code",
   "execution_count": 8,
   "metadata": {},
   "outputs": [],
   "source": [
    "# Bias mitigation techniques\n",
    "from aif360.algorithms.preprocessing import Reweighing\n",
    "from aif360.algorithms.inprocessing import PrejudiceRemover\n",
    "\n",
    "## Lime explainer\n",
    "from aif360.datasets.lime_encoder import LimeEncoder\n",
    "import lime\n",
    "from lime.lime_tabular import LimeTabularExplainer\n",
    "# from aif360.explainers.lime import Lime\n",
    "\n",
    "np.random.seed(1)"
   ]
  },
  {
   "cell_type": "markdown",
   "metadata": {},
   "source": [
    "## 3.1. Load data & create train/val/test splits for training model\n"
   ]
  },
  {
   "cell_type": "markdown",
   "metadata": {},
   "source": [
    "### Tutorial's Way"
   ]
  },
  {
   "cell_type": "markdown",
   "metadata": {},
   "source": [
    "To install the data (after installing R with homebrew):\n",
    "```bash\n",
    "cd \"/opt/homebrew/Caskroom/miniforge/base/envs/fair-env/lib/python3.12/site-packages/aif360/data/raw/meps/\"\n",
    "Rscript generate_data.R\n",
    "```"
   ]
  },
  {
   "cell_type": "code",
   "execution_count": 9,
   "metadata": {},
   "outputs": [
    {
     "data": {
      "text/plain": [
       "               instance weights features                                    \\\n",
       "                                         protected attribute                 \n",
       "                                     AGE                RACE  PCS42  MCS42   \n",
       "instance names                                                               \n",
       "6274                9584.405538     56.0                 0.0  24.59  38.23   \n",
       "4403               13501.448564     19.0                 1.0  -1.00  -1.00   \n",
       "8660                   0.000000     73.0                 1.0  -1.00  -1.00   \n",
       "1220               45482.792820     73.0                 1.0  23.64  63.41   \n",
       "12020               4639.875613      2.0                 0.0  -1.00  -1.00   \n",
       "...                         ...      ...                 ...    ...    ...   \n",
       "13556               8527.049685      7.0                 1.0  -1.00  -1.00   \n",
       "16232               6809.283500     18.0                 0.0  52.40  62.66   \n",
       "279                 3750.437997     19.0                 0.0  56.41  50.58   \n",
       "4710                6853.044637     16.0                 0.0  -1.00  -1.00   \n",
       "5825                5441.955183     75.0                 0.0  -1.00  -1.00   \n",
       "\n",
       "                                                            ...          \\\n",
       "                                                            ...           \n",
       "               K6SUM42 REGION=1 REGION=2 REGION=3 REGION=4  ... EMPST=4   \n",
       "instance names                                              ...           \n",
       "6274              11.0      1.0      0.0      0.0      0.0  ...     1.0   \n",
       "4403              -1.0      1.0      0.0      0.0      0.0  ...     0.0   \n",
       "8660              -1.0      0.0      0.0      0.0      1.0  ...     0.0   \n",
       "1220               3.0      0.0      1.0      0.0      0.0  ...     1.0   \n",
       "12020             -1.0      0.0      1.0      0.0      0.0  ...     0.0   \n",
       "...                ...      ...      ...      ...      ...  ...     ...   \n",
       "13556             -1.0      0.0      1.0      0.0      0.0  ...     0.0   \n",
       "16232              0.0      0.0      0.0      1.0      0.0  ...     1.0   \n",
       "279                0.0      0.0      0.0      0.0      1.0  ...     0.0   \n",
       "4710              -1.0      0.0      0.0      0.0      1.0  ...     1.0   \n",
       "5825              -1.0      0.0      0.0      1.0      0.0  ...     1.0   \n",
       "\n",
       "                                                                               \\\n",
       "                                                                                \n",
       "               POVCAT=1 POVCAT=2 POVCAT=3 POVCAT=4 POVCAT=5 INSCOV=1 INSCOV=2   \n",
       "instance names                                                                  \n",
       "6274                1.0      0.0      0.0      0.0      0.0      0.0      1.0   \n",
       "4403                0.0      0.0      0.0      1.0      0.0      0.0      1.0   \n",
       "8660                0.0      0.0      0.0      0.0      1.0      1.0      0.0   \n",
       "1220                0.0      0.0      0.0      0.0      1.0      1.0      0.0   \n",
       "12020               0.0      1.0      0.0      0.0      0.0      1.0      0.0   \n",
       "...                 ...      ...      ...      ...      ...      ...      ...   \n",
       "13556               0.0      0.0      0.0      1.0      0.0      1.0      0.0   \n",
       "16232               0.0      0.0      0.0      1.0      0.0      0.0      0.0   \n",
       "279                 0.0      0.0      1.0      0.0      0.0      0.0      1.0   \n",
       "4710                0.0      1.0      0.0      0.0      0.0      0.0      1.0   \n",
       "5825                1.0      0.0      0.0      0.0      0.0      1.0      0.0   \n",
       "\n",
       "                        labels  \n",
       "                                \n",
       "               INSCOV=3         \n",
       "instance names                  \n",
       "6274                0.0    1.0  \n",
       "4403                0.0    0.0  \n",
       "8660                0.0    0.0  \n",
       "1220                0.0    1.0  \n",
       "12020               0.0    0.0  \n",
       "...                 ...    ...  \n",
       "13556               0.0    0.0  \n",
       "16232               1.0    0.0  \n",
       "279                 0.0    0.0  \n",
       "4710                0.0    0.0  \n",
       "5825                0.0    1.0  \n",
       "\n",
       "[7915 rows x 140 columns]"
      ]
     },
     "execution_count": 9,
     "metadata": {},
     "output_type": "execute_result"
    }
   ],
   "source": [
    "# Download the dataset and split into train and test and validation\n",
    "(dataset_orig_panel19_train,\n",
    " dataset_orig_panel19_val,\n",
    " dataset_orig_panel19_test) = MEPSDataset19().split([0.5, 0.8], shuffle=True)\n",
    "dataset_orig_panel19_train"
   ]
  },
  {
   "cell_type": "code",
   "execution_count": 10,
   "metadata": {},
   "outputs": [
    {
     "name": "stdout",
     "output_type": "stream",
     "text": [
      "['AGE', 'RACE', 'PCS42', 'MCS42', 'K6SUM42', 'REGION=1', 'REGION=2', 'REGION=3', 'REGION=4', 'SEX=1', 'SEX=2', 'MARRY=1', 'MARRY=2', 'MARRY=3', 'MARRY=4', 'MARRY=5', 'MARRY=6', 'MARRY=7', 'MARRY=8', 'MARRY=9', 'MARRY=10', 'FTSTU=-1', 'FTSTU=1', 'FTSTU=2', 'FTSTU=3', 'ACTDTY=1', 'ACTDTY=2', 'ACTDTY=3', 'ACTDTY=4', 'HONRDC=1', 'HONRDC=2', 'HONRDC=3', 'HONRDC=4', 'RTHLTH=-1', 'RTHLTH=1', 'RTHLTH=2', 'RTHLTH=3', 'RTHLTH=4', 'RTHLTH=5', 'MNHLTH=-1', 'MNHLTH=1', 'MNHLTH=2', 'MNHLTH=3', 'MNHLTH=4', 'MNHLTH=5', 'HIBPDX=-1', 'HIBPDX=1', 'HIBPDX=2', 'CHDDX=-1', 'CHDDX=1', 'CHDDX=2', 'ANGIDX=-1', 'ANGIDX=1', 'ANGIDX=2', 'MIDX=-1', 'MIDX=1', 'MIDX=2', 'OHRTDX=-1', 'OHRTDX=1', 'OHRTDX=2', 'STRKDX=-1', 'STRKDX=1', 'STRKDX=2', 'EMPHDX=-1', 'EMPHDX=1', 'EMPHDX=2', 'CHBRON=-1', 'CHBRON=1', 'CHBRON=2', 'CHOLDX=-1', 'CHOLDX=1', 'CHOLDX=2', 'CANCERDX=-1', 'CANCERDX=1', 'CANCERDX=2', 'DIABDX=-1', 'DIABDX=1', 'DIABDX=2', 'JTPAIN=-1', 'JTPAIN=1', 'JTPAIN=2', 'ARTHDX=-1', 'ARTHDX=1', 'ARTHDX=2', 'ARTHTYPE=-1', 'ARTHTYPE=1', 'ARTHTYPE=2', 'ARTHTYPE=3', 'ASTHDX=1', 'ASTHDX=2', 'ADHDADDX=-1', 'ADHDADDX=1', 'ADHDADDX=2', 'PREGNT=-1', 'PREGNT=1', 'PREGNT=2', 'WLKLIM=-1', 'WLKLIM=1', 'WLKLIM=2', 'ACTLIM=-1', 'ACTLIM=1', 'ACTLIM=2', 'SOCLIM=-1', 'SOCLIM=1', 'SOCLIM=2', 'COGLIM=-1', 'COGLIM=1', 'COGLIM=2', 'DFHEAR42=-1', 'DFHEAR42=1', 'DFHEAR42=2', 'DFSEE42=-1', 'DFSEE42=1', 'DFSEE42=2', 'ADSMOK42=-1', 'ADSMOK42=1', 'ADSMOK42=2', 'PHQ242=-1', 'PHQ242=0', 'PHQ242=1', 'PHQ242=2', 'PHQ242=3', 'PHQ242=4', 'PHQ242=5', 'PHQ242=6', 'EMPST=-1', 'EMPST=1', 'EMPST=2', 'EMPST=3', 'EMPST=4', 'POVCAT=1', 'POVCAT=2', 'POVCAT=3', 'POVCAT=4', 'POVCAT=5', 'INSCOV=1', 'INSCOV=2', 'INSCOV=3']\n"
     ]
    }
   ],
   "source": [
    "feature_names = dataset_orig_panel19_train.feature_names\n",
    "print(feature_names)"
   ]
  },
  {
   "cell_type": "code",
   "execution_count": 11,
   "metadata": {},
   "outputs": [
    {
     "data": {
      "text/plain": [
       "'RACE'"
      ]
     },
     "execution_count": 11,
     "metadata": {},
     "output_type": "execute_result"
    }
   ],
   "source": [
    "# Slice the dataset to to identify the protected attribute\n",
    "sens_ind = 0\n",
    "sens_attr = dataset_orig_panel19_train.protected_attribute_names[sens_ind]\n",
    "sens_attr"
   ]
  },
  {
   "cell_type": "code",
   "execution_count": 12,
   "metadata": {},
   "outputs": [
    {
     "data": {
      "text/plain": [
       "[{'RACE': 0.0}]"
      ]
     },
     "execution_count": 12,
     "metadata": {},
     "output_type": "execute_result"
    }
   ],
   "source": [
    "# Define the unprivileged and privileged groups\n",
    "unprivileged_groups = [{sens_attr: v} for v in\n",
    "                       dataset_orig_panel19_train.unprivileged_protected_attributes[sens_ind]]\n",
    "\n",
    "unprivileged_groups"
   ]
  },
  {
   "cell_type": "code",
   "execution_count": 13,
   "metadata": {},
   "outputs": [
    {
     "data": {
      "text/plain": [
       "[{'RACE': 1.0}]"
      ]
     },
     "execution_count": 13,
     "metadata": {},
     "output_type": "execute_result"
    }
   ],
   "source": [
    "# Define the unprivileged and privileged groups\n",
    "privileged_groups = [{sens_attr: v} for v in\n",
    "                     dataset_orig_panel19_train.privileged_protected_attributes[sens_ind]]\n",
    "privileged_groups"
   ]
  },
  {
   "cell_type": "markdown",
   "metadata": {},
   "source": [
    "### my way"
   ]
  },
  {
   "cell_type": "code",
   "execution_count": 14,
   "metadata": {},
   "outputs": [
    {
     "data": {
      "text/plain": [
       "               instance weights features                                    \\\n",
       "                                         protected attribute                 \n",
       "                                     AGE                RACE  PCS42  MCS42   \n",
       "instance names                                                               \n",
       "0                  21854.981705     53.0                 1.0  25.93  58.47   \n",
       "1                  18169.604822     56.0                 1.0  20.42  26.57   \n",
       "3                  17191.832515     23.0                 1.0  53.12  50.33   \n",
       "4                  20261.485463      3.0                 1.0  -1.00  -1.00   \n",
       "5                      0.000000     27.0                 0.0  -1.00  -1.00   \n",
       "...                         ...      ...                 ...    ...    ...   \n",
       "16573               4111.315754     25.0                 0.0  56.71  62.39   \n",
       "16574               5415.228173     25.0                 0.0  56.71  62.39   \n",
       "16575               3896.116219      2.0                 1.0  -1.00  -1.00   \n",
       "16576               4883.851005     54.0                 0.0  43.97  42.45   \n",
       "16577               6630.588948     73.0                 0.0  42.68  43.46   \n",
       "\n",
       "                                                            ...          \\\n",
       "                                                            ...           \n",
       "               K6SUM42 REGION=1 REGION=2 REGION=3 REGION=4  ... EMPST=4   \n",
       "instance names                                              ...           \n",
       "0                  3.0      0.0      1.0      0.0      0.0  ...     1.0   \n",
       "1                 17.0      0.0      1.0      0.0      0.0  ...     1.0   \n",
       "3                  7.0      0.0      1.0      0.0      0.0  ...     0.0   \n",
       "4                 -1.0      0.0      1.0      0.0      0.0  ...     0.0   \n",
       "5                 -1.0      0.0      0.0      1.0      0.0  ...     0.0   \n",
       "...                ...      ...      ...      ...      ...  ...     ...   \n",
       "16573              0.0      0.0      0.0      1.0      0.0  ...     0.0   \n",
       "16574              0.0      0.0      0.0      1.0      0.0  ...     1.0   \n",
       "16575             -1.0      0.0      0.0      1.0      0.0  ...     0.0   \n",
       "16576             24.0      1.0      0.0      0.0      0.0  ...     0.0   \n",
       "16577              0.0      1.0      0.0      0.0      0.0  ...     1.0   \n",
       "\n",
       "                                                                               \\\n",
       "                                                                                \n",
       "               POVCAT=1 POVCAT=2 POVCAT=3 POVCAT=4 POVCAT=5 INSCOV=1 INSCOV=2   \n",
       "instance names                                                                  \n",
       "0                   1.0      0.0      0.0      0.0      0.0      0.0      1.0   \n",
       "1                   0.0      0.0      1.0      0.0      0.0      0.0      1.0   \n",
       "3                   0.0      1.0      0.0      0.0      0.0      0.0      1.0   \n",
       "4                   0.0      1.0      0.0      0.0      0.0      0.0      1.0   \n",
       "5                   0.0      0.0      1.0      0.0      0.0      1.0      0.0   \n",
       "...                 ...      ...      ...      ...      ...      ...      ...   \n",
       "16573               1.0      0.0      0.0      0.0      0.0      1.0      0.0   \n",
       "16574               1.0      0.0      0.0      0.0      0.0      1.0      0.0   \n",
       "16575               1.0      0.0      0.0      0.0      0.0      0.0      1.0   \n",
       "16576               0.0      0.0      1.0      0.0      0.0      0.0      1.0   \n",
       "16577               0.0      0.0      1.0      0.0      0.0      0.0      1.0   \n",
       "\n",
       "                        labels  \n",
       "                                \n",
       "               INSCOV=3         \n",
       "instance names                  \n",
       "0                   0.0    1.0  \n",
       "1                   0.0    1.0  \n",
       "3                   0.0    0.0  \n",
       "4                   0.0    0.0  \n",
       "5                   0.0    0.0  \n",
       "...                 ...    ...  \n",
       "16573               0.0    0.0  \n",
       "16574               0.0    0.0  \n",
       "16575               0.0    0.0  \n",
       "16576               0.0    0.0  \n",
       "16577               0.0    0.0  \n",
       "\n",
       "[15830 rows x 140 columns]"
      ]
     },
     "execution_count": 14,
     "metadata": {},
     "output_type": "execute_result"
    }
   ],
   "source": [
    "data = MEPSDataset19()\n",
    "data\n"
   ]
  },
  {
   "cell_type": "code",
   "execution_count": 15,
   "metadata": {},
   "outputs": [
    {
     "name": "stdout",
     "output_type": "stream",
     "text": [
      "<class 'pandas.core.frame.DataFrame'>\n",
      "Index: 15830 entries, 0 to 16577\n",
      "Columns: 139 entries, AGE to UTILIZATION\n",
      "dtypes: float64(139)\n",
      "memory usage: 16.9+ MB\n"
     ]
    },
    {
     "data": {
      "text/html": [
       "<div>\n",
       "<style scoped>\n",
       "    .dataframe tbody tr th:only-of-type {\n",
       "        vertical-align: middle;\n",
       "    }\n",
       "\n",
       "    .dataframe tbody tr th {\n",
       "        vertical-align: top;\n",
       "    }\n",
       "\n",
       "    .dataframe thead th {\n",
       "        text-align: right;\n",
       "    }\n",
       "</style>\n",
       "<table border=\"1\" class=\"dataframe\">\n",
       "  <thead>\n",
       "    <tr style=\"text-align: right;\">\n",
       "      <th></th>\n",
       "      <th>AGE</th>\n",
       "      <th>RACE</th>\n",
       "      <th>PCS42</th>\n",
       "      <th>MCS42</th>\n",
       "      <th>K6SUM42</th>\n",
       "      <th>REGION=1</th>\n",
       "      <th>REGION=2</th>\n",
       "      <th>REGION=3</th>\n",
       "      <th>REGION=4</th>\n",
       "      <th>SEX=1</th>\n",
       "      <th>...</th>\n",
       "      <th>EMPST=4</th>\n",
       "      <th>POVCAT=1</th>\n",
       "      <th>POVCAT=2</th>\n",
       "      <th>POVCAT=3</th>\n",
       "      <th>POVCAT=4</th>\n",
       "      <th>POVCAT=5</th>\n",
       "      <th>INSCOV=1</th>\n",
       "      <th>INSCOV=2</th>\n",
       "      <th>INSCOV=3</th>\n",
       "      <th>UTILIZATION</th>\n",
       "    </tr>\n",
       "  </thead>\n",
       "  <tbody>\n",
       "    <tr>\n",
       "      <th>0</th>\n",
       "      <td>53.0</td>\n",
       "      <td>1.0</td>\n",
       "      <td>25.93</td>\n",
       "      <td>58.47</td>\n",
       "      <td>3.0</td>\n",
       "      <td>0.0</td>\n",
       "      <td>1.0</td>\n",
       "      <td>0.0</td>\n",
       "      <td>0.0</td>\n",
       "      <td>1.0</td>\n",
       "      <td>...</td>\n",
       "      <td>1.0</td>\n",
       "      <td>1.0</td>\n",
       "      <td>0.0</td>\n",
       "      <td>0.0</td>\n",
       "      <td>0.0</td>\n",
       "      <td>0.0</td>\n",
       "      <td>0.0</td>\n",
       "      <td>1.0</td>\n",
       "      <td>0.0</td>\n",
       "      <td>1.0</td>\n",
       "    </tr>\n",
       "    <tr>\n",
       "      <th>1</th>\n",
       "      <td>56.0</td>\n",
       "      <td>1.0</td>\n",
       "      <td>20.42</td>\n",
       "      <td>26.57</td>\n",
       "      <td>17.0</td>\n",
       "      <td>0.0</td>\n",
       "      <td>1.0</td>\n",
       "      <td>0.0</td>\n",
       "      <td>0.0</td>\n",
       "      <td>0.0</td>\n",
       "      <td>...</td>\n",
       "      <td>1.0</td>\n",
       "      <td>0.0</td>\n",
       "      <td>0.0</td>\n",
       "      <td>1.0</td>\n",
       "      <td>0.0</td>\n",
       "      <td>0.0</td>\n",
       "      <td>0.0</td>\n",
       "      <td>1.0</td>\n",
       "      <td>0.0</td>\n",
       "      <td>1.0</td>\n",
       "    </tr>\n",
       "    <tr>\n",
       "      <th>3</th>\n",
       "      <td>23.0</td>\n",
       "      <td>1.0</td>\n",
       "      <td>53.12</td>\n",
       "      <td>50.33</td>\n",
       "      <td>7.0</td>\n",
       "      <td>0.0</td>\n",
       "      <td>1.0</td>\n",
       "      <td>0.0</td>\n",
       "      <td>0.0</td>\n",
       "      <td>0.0</td>\n",
       "      <td>...</td>\n",
       "      <td>0.0</td>\n",
       "      <td>0.0</td>\n",
       "      <td>1.0</td>\n",
       "      <td>0.0</td>\n",
       "      <td>0.0</td>\n",
       "      <td>0.0</td>\n",
       "      <td>0.0</td>\n",
       "      <td>1.0</td>\n",
       "      <td>0.0</td>\n",
       "      <td>0.0</td>\n",
       "    </tr>\n",
       "    <tr>\n",
       "      <th>4</th>\n",
       "      <td>3.0</td>\n",
       "      <td>1.0</td>\n",
       "      <td>-1.00</td>\n",
       "      <td>-1.00</td>\n",
       "      <td>-1.0</td>\n",
       "      <td>0.0</td>\n",
       "      <td>1.0</td>\n",
       "      <td>0.0</td>\n",
       "      <td>0.0</td>\n",
       "      <td>1.0</td>\n",
       "      <td>...</td>\n",
       "      <td>0.0</td>\n",
       "      <td>0.0</td>\n",
       "      <td>1.0</td>\n",
       "      <td>0.0</td>\n",
       "      <td>0.0</td>\n",
       "      <td>0.0</td>\n",
       "      <td>0.0</td>\n",
       "      <td>1.0</td>\n",
       "      <td>0.0</td>\n",
       "      <td>0.0</td>\n",
       "    </tr>\n",
       "    <tr>\n",
       "      <th>5</th>\n",
       "      <td>27.0</td>\n",
       "      <td>0.0</td>\n",
       "      <td>-1.00</td>\n",
       "      <td>-1.00</td>\n",
       "      <td>-1.0</td>\n",
       "      <td>0.0</td>\n",
       "      <td>0.0</td>\n",
       "      <td>1.0</td>\n",
       "      <td>0.0</td>\n",
       "      <td>1.0</td>\n",
       "      <td>...</td>\n",
       "      <td>0.0</td>\n",
       "      <td>0.0</td>\n",
       "      <td>0.0</td>\n",
       "      <td>1.0</td>\n",
       "      <td>0.0</td>\n",
       "      <td>0.0</td>\n",
       "      <td>1.0</td>\n",
       "      <td>0.0</td>\n",
       "      <td>0.0</td>\n",
       "      <td>0.0</td>\n",
       "    </tr>\n",
       "  </tbody>\n",
       "</table>\n",
       "<p>5 rows × 139 columns</p>\n",
       "</div>"
      ],
      "text/plain": [
       "    AGE  RACE  PCS42  MCS42  K6SUM42  REGION=1  REGION=2  REGION=3  REGION=4  \\\n",
       "0  53.0   1.0  25.93  58.47      3.0       0.0       1.0       0.0       0.0   \n",
       "1  56.0   1.0  20.42  26.57     17.0       0.0       1.0       0.0       0.0   \n",
       "3  23.0   1.0  53.12  50.33      7.0       0.0       1.0       0.0       0.0   \n",
       "4   3.0   1.0  -1.00  -1.00     -1.0       0.0       1.0       0.0       0.0   \n",
       "5  27.0   0.0  -1.00  -1.00     -1.0       0.0       0.0       1.0       0.0   \n",
       "\n",
       "   SEX=1  ...  EMPST=4  POVCAT=1  POVCAT=2  POVCAT=3  POVCAT=4  POVCAT=5  \\\n",
       "0    1.0  ...      1.0       1.0       0.0       0.0       0.0       0.0   \n",
       "1    0.0  ...      1.0       0.0       0.0       1.0       0.0       0.0   \n",
       "3    0.0  ...      0.0       0.0       1.0       0.0       0.0       0.0   \n",
       "4    1.0  ...      0.0       0.0       1.0       0.0       0.0       0.0   \n",
       "5    1.0  ...      0.0       0.0       0.0       1.0       0.0       0.0   \n",
       "\n",
       "   INSCOV=1  INSCOV=2  INSCOV=3  UTILIZATION  \n",
       "0       0.0       1.0       0.0          1.0  \n",
       "1       0.0       1.0       0.0          1.0  \n",
       "3       0.0       1.0       0.0          0.0  \n",
       "4       0.0       1.0       0.0          0.0  \n",
       "5       1.0       0.0       0.0          0.0  \n",
       "\n",
       "[5 rows x 139 columns]"
      ]
     },
     "execution_count": 15,
     "metadata": {},
     "output_type": "execute_result"
    }
   ],
   "source": [
    "# Separate the data as a dataframe and a data dictionary\n",
    "df,data_dict = data.convert_to_dataframe()\n",
    "df.info()\n",
    "df.head()"
   ]
  },
  {
   "cell_type": "code",
   "execution_count": 16,
   "metadata": {},
   "outputs": [
    {
     "data": {
      "text/plain": [
       "UTILIZATION\n",
       "0.0    13112\n",
       "1.0     2718\n",
       "Name: count, dtype: int64"
      ]
     },
     "execution_count": 16,
     "metadata": {},
     "output_type": "execute_result"
    }
   ],
   "source": [
    "# Binary target label\n",
    "df['UTILIZATION'].value_counts()"
   ]
  },
  {
   "cell_type": "code",
   "execution_count": 17,
   "metadata": {},
   "outputs": [
    {
     "data": {
      "text/plain": [
       "((7915, 139), (4749, 139), (3166, 139))"
      ]
     },
     "execution_count": 17,
     "metadata": {},
     "output_type": "execute_result"
    }
   ],
   "source": [
    "## Train test val split\n",
    "train, test_val = train_test_split(df, test_size=0.5, random_state=1, stratify=df['RACE'])\n",
    "test, val = train_test_split(test_val, test_size=0.4, random_state=1, stratify=test_val['RACE'])\n",
    "train.shape, test.shape, val.shape\n"
   ]
  },
  {
   "cell_type": "code",
   "execution_count": 18,
   "metadata": {},
   "outputs": [
    {
     "data": {
      "text/plain": [
       "dict_keys(['feature_names', 'label_names', 'protected_attribute_names', 'instance_names', 'instance_weights', 'privileged_protected_attributes', 'unprivileged_protected_attributes'])"
      ]
     },
     "execution_count": 18,
     "metadata": {},
     "output_type": "execute_result"
    }
   ],
   "source": [
    "# Exploring the data dictionary\n",
    "data_dict.keys()"
   ]
  },
  {
   "cell_type": "code",
   "execution_count": 19,
   "metadata": {},
   "outputs": [
    {
     "data": {
      "text/plain": [
       "['UTILIZATION']"
      ]
     },
     "execution_count": 19,
     "metadata": {},
     "output_type": "execute_result"
    }
   ],
   "source": [
    "data_dict['label_names']"
   ]
  },
  {
   "cell_type": "code",
   "execution_count": 20,
   "metadata": {},
   "outputs": [
    {
     "data": {
      "text/plain": [
       "['RACE']"
      ]
     },
     "execution_count": 20,
     "metadata": {},
     "output_type": "execute_result"
    }
   ],
   "source": [
    "data_dict['protected_attribute_names']"
   ]
  },
  {
   "cell_type": "code",
   "execution_count": 21,
   "metadata": {},
   "outputs": [
    {
     "data": {
      "text/plain": [
       "[array([1.])]"
      ]
     },
     "execution_count": 21,
     "metadata": {},
     "output_type": "execute_result"
    }
   ],
   "source": [
    "data_dict['privileged_protected_attributes']"
   ]
  },
  {
   "cell_type": "code",
   "execution_count": 22,
   "metadata": {},
   "outputs": [
    {
     "data": {
      "text/plain": [
       "[array([0.])]"
      ]
     },
     "execution_count": 22,
     "metadata": {},
     "output_type": "execute_result"
    }
   ],
   "source": [
    "data_dict['unprivileged_protected_attributes']"
   ]
  },
  {
   "cell_type": "code",
   "execution_count": null,
   "metadata": {},
   "outputs": [
    {
     "data": {
      "text/plain": [
       "([{'RACE': 1.0}], [{'RACE': 0.0}])"
      ]
     },
     "execution_count": 31,
     "metadata": {},
     "output_type": "execute_result"
    }
   ],
   "source": [
    "# Define the unprivileged and privileged groups\n",
    "privileged_groups =[ ]\n",
    "unprivileged_groups = [ ]\n",
    "\n",
    "for sens_attr in data_dict['protected_attribute_names']:\n",
    "    \n",
    "    temp = data_dict['privileged_protected_attributes']\n",
    "    privileged_groups.append({sens_attr: temp[0][0]})\n",
    "    \n",
    "    temp = data_dict['unprivileged_protected_attributes']\n",
    "    unprivileged_groups.append({sens_attr: temp[0][0]})\n",
    "privileged_groups, unprivileged_groups"
   ]
  },
  {
   "cell_type": "markdown",
   "metadata": {},
   "source": [
    "### Fairness Metrics for Original Data"
   ]
  },
  {
   "cell_type": "code",
   "execution_count": null,
   "metadata": {},
   "outputs": [
    {
     "data": {
      "text/plain": [
       "TypeError(\"'dataset' should be a BinaryLabelDataset or a MulticlassLabelDataset\")"
      ]
     },
     "metadata": {},
     "output_type": "display_data"
    }
   ],
   "source": [
    "try:\n",
    "    metric_orig_panel19_train = BinaryLabelDatasetMetric(\n",
    "            train,\n",
    "            unprivileged_groups=unprivileged_groups,\n",
    "            privileged_groups=privileged_groups)\n",
    "    explainer_orig_panel19_train = MetricTextExplainer(metric_orig_panel19_train)\n",
    "\n",
    "    print(explainer_orig_panel19_train.disparate_impact())\n",
    "except Exception as e:\n",
    "    display(e)"
   ]
  },
  {
   "cell_type": "markdown",
   "metadata": {},
   "source": [
    "> Metrics are only desgned to work with proprieatary data sets"
   ]
  },
  {
   "cell_type": "code",
   "execution_count": null,
   "metadata": {},
   "outputs": [
    {
     "data": {
      "text/plain": [
       "               instance weights features                                    \\\n",
       "                                         protected attribute                 \n",
       "                                     AGE                RACE  PCS42  MCS42   \n",
       "instance names                                                               \n",
       "9849                        1.0     57.0                 1.0  38.71  34.06   \n",
       "15176                       1.0     39.0                 0.0  -9.00  -9.00   \n",
       "10225                       1.0     39.0                 1.0  -1.00  -1.00   \n",
       "4926                        1.0     43.0                 0.0  59.99  46.10   \n",
       "10855                       1.0     25.0                 0.0  61.52  42.10   \n",
       "...                         ...      ...                 ...    ...    ...   \n",
       "15230                       1.0     10.0                 0.0  -1.00  -1.00   \n",
       "12459                       1.0      2.0                 0.0  -1.00  -1.00   \n",
       "7100                        1.0     62.0                 1.0  39.64  54.78   \n",
       "8482                        1.0     51.0                 1.0  -1.00  -1.00   \n",
       "1307                        1.0      8.0                 0.0  -1.00  -1.00   \n",
       "\n",
       "                                                            ...          \\\n",
       "                                                            ...           \n",
       "               K6SUM42 REGION=1 REGION=2 REGION=3 REGION=4  ... EMPST=4   \n",
       "instance names                                              ...           \n",
       "9849              16.0      0.0      1.0      0.0      0.0  ...     1.0   \n",
       "15176             20.0      0.0      0.0      0.0      1.0  ...     1.0   \n",
       "10225             -1.0      1.0      0.0      0.0      0.0  ...     0.0   \n",
       "4926               3.0      0.0      0.0      0.0      1.0  ...     0.0   \n",
       "10855             10.0      0.0      0.0      0.0      1.0  ...     0.0   \n",
       "...                ...      ...      ...      ...      ...  ...     ...   \n",
       "15230             -1.0      0.0      0.0      1.0      0.0  ...     0.0   \n",
       "12459             -1.0      0.0      1.0      0.0      0.0  ...     0.0   \n",
       "7100               4.0      0.0      1.0      0.0      0.0  ...     0.0   \n",
       "8482              -1.0      0.0      1.0      0.0      0.0  ...     1.0   \n",
       "1307              -1.0      0.0      1.0      0.0      0.0  ...     0.0   \n",
       "\n",
       "                                                                               \\\n",
       "                                                                                \n",
       "               POVCAT=1 POVCAT=2 POVCAT=3 POVCAT=4 POVCAT=5 INSCOV=1 INSCOV=2   \n",
       "instance names                                                                  \n",
       "9849                1.0      0.0      0.0      0.0      0.0      0.0      1.0   \n",
       "15176               0.0      0.0      0.0      0.0      1.0      0.0      1.0   \n",
       "10225               0.0      0.0      0.0      1.0      0.0      1.0      0.0   \n",
       "4926                0.0      0.0      0.0      0.0      1.0      1.0      0.0   \n",
       "10855               1.0      0.0      0.0      0.0      0.0      1.0      0.0   \n",
       "...                 ...      ...      ...      ...      ...      ...      ...   \n",
       "15230               1.0      0.0      0.0      0.0      0.0      0.0      1.0   \n",
       "12459               0.0      0.0      0.0      1.0      0.0      1.0      0.0   \n",
       "7100                0.0      0.0      1.0      0.0      0.0      1.0      0.0   \n",
       "8482                0.0      0.0      0.0      1.0      0.0      1.0      0.0   \n",
       "1307                1.0      0.0      0.0      0.0      0.0      0.0      1.0   \n",
       "\n",
       "                        labels  \n",
       "                                \n",
       "               INSCOV=3         \n",
       "instance names                  \n",
       "9849                0.0    0.0  \n",
       "15176               0.0    0.0  \n",
       "10225               0.0    0.0  \n",
       "4926                0.0    0.0  \n",
       "10855               0.0    0.0  \n",
       "...                 ...    ...  \n",
       "15230               0.0    0.0  \n",
       "12459               0.0    0.0  \n",
       "7100                0.0    1.0  \n",
       "8482                0.0    0.0  \n",
       "1307                0.0    0.0  \n",
       "\n",
       "[7915 rows x 140 columns]"
      ]
     },
     "execution_count": 33,
     "metadata": {},
     "output_type": "execute_result"
    }
   ],
   "source": [
    "from aif360.datasets import StandardDataset, BinaryLabelDataset\n",
    "\n",
    "# Specify the column names for labels and protected attributes\n",
    "label_name = 'UTILIZATION' # Replace with your actual label column name\n",
    "protected_attribute_names = data_dict['protected_attribute_names'] # Replace with your actual protected attribute column names\n",
    "\n",
    "# print(protected_attribute_names)\n",
    "# Create the AIF360 dataset\n",
    "dataset = StandardDataset(\n",
    "    train,\n",
    "    label_name=label_name,\n",
    "    protected_attribute_names=protected_attribute_names,\n",
    "    favorable_classes=[1],  # Specify the favorable class (adjust as needed)\n",
    "    privileged_classes=data_dict['privileged_protected_attributes']# Specify the privileged class for each protected attribute (adjust as needed)\n",
    ")\n",
    "\n",
    "dataset"
   ]
  },
  {
   "cell_type": "code",
   "execution_count": null,
   "metadata": {},
   "outputs": [],
   "source": [
    "# Assuming 'label' is your target column and 'gender' is your protected attribute\n",
    "def make_binary_dataset(train, data_dict):\n",
    "    binary_dataset_train = BinaryLabelDataset(\n",
    "        df=train,\n",
    "        label_names=[\"UTILIZATION\"], # Name of the label column\n",
    "        protected_attribute_names = data_dict['protected_attribute_names'], # Replace with your actual protected attribute column names\n",
    "        favorable_label=1,\n",
    "        unfavorable_label=0\n",
    "    )\n",
    "    return binary_dataset_train\n",
    "\n",
    "binary_dataset_train = make_binary_dataset(train, data_dict)\n",
    "binary_dataset_test = make_binary_dataset(test, data_dict)\n",
    "binary_dataset_val = make_binary_dataset(val, data_dict)"
   ]
  },
  {
   "cell_type": "code",
   "execution_count": null,
   "metadata": {},
   "outputs": [
    {
     "data": {
      "text/plain": [
       "[array([0.])]"
      ]
     },
     "execution_count": 35,
     "metadata": {},
     "output_type": "execute_result"
    }
   ],
   "source": [
    "data_dict['unprivileged_protected_attributes']"
   ]
  },
  {
   "cell_type": "code",
   "execution_count": null,
   "metadata": {},
   "outputs": [
    {
     "name": "stdout",
     "output_type": "stream",
     "text": [
      "Disparate impact (probability of favorable outcome for unprivileged instances / probability of favorable outcome for privileged instances): 0.5012581633592118\n"
     ]
    }
   ],
   "source": [
    "\n",
    "metric_orig_panel19_train = BinaryLabelDatasetMetric(\n",
    "        binary_dataset_train,\n",
    "        unprivileged_groups=unprivileged_groups,\n",
    "        privileged_groups=privileged_groups\n",
    ")\n",
    "explainer_orig_panel19_train = MetricTextExplainer(metric_orig_panel19_train)\n",
    "\n",
    "print(explainer_orig_panel19_train.disparate_impact())\n"
   ]
  },
  {
   "cell_type": "markdown",
   "metadata": {},
   "source": [
    "> Since the value for disparate impact is not 1, there is bias in the training dataset."
   ]
  },
  {
   "cell_type": "markdown",
   "metadata": {},
   "source": [
    "## To Do:\n",
    "- Clarify which group should be privileged vs. unpriviledged ***based on business case.***"
   ]
  },
  {
   "cell_type": "markdown",
   "metadata": {},
   "source": [
    "## Modeling"
   ]
  },
  {
   "cell_type": "markdown",
   "metadata": {},
   "source": [
    "### LogReg"
   ]
  },
  {
   "cell_type": "code",
   "execution_count": null,
   "metadata": {},
   "outputs": [],
   "source": [
    "import seaborn as sns"
   ]
  },
  {
   "cell_type": "code",
   "execution_count": null,
   "metadata": {},
   "outputs": [
    {
     "data": {
      "text/plain": [
       "<Axes: ylabel='Count'>"
      ]
     },
     "execution_count": 38,
     "metadata": {},
     "output_type": "execute_result"
    },
    {
     "data": {
      "image/png": "[encoded data removed]",
      "text/plain": [
       "<Figure size 640x480 with 1 Axes>"
      ]
     },
     "metadata": {},
     "output_type": "display_data"
    }
   ],
   "source": [
    "sns.histplot(binary_dataset_train.instance_weights)"
   ]
  },
  {
   "cell_type": "code",
   "execution_count": null,
   "metadata": {},
   "outputs": [
    {
     "data": {
      "text/plain": [
       "<Axes: ylabel='Count'>"
      ]
     },
     "execution_count": 39,
     "metadata": {},
     "output_type": "execute_result"
    },
    {
     "data": {
      "image/png": "[encoded data removed]",
      "text/plain": [
       "<Figure size 640x480 with 1 Axes>"
      ]
     },
     "metadata": {},
     "output_type": "display_data"
    }
   ],
   "source": [
    "# Compare to initital dataset weights\n",
    "sns.histplot(data.instance_weights)"
   ]
  },
  {
   "cell_type": "markdown",
   "metadata": {},
   "source": [
    "#### TO DO: Find out how to calculate instance_weights to include"
   ]
  },
  {
   "cell_type": "code",
   "execution_count": null,
   "metadata": {},
   "outputs": [],
   "source": [
    "scaler = StandardScaler()\n",
    "\n",
    "model_params = {'solver': 'liblinear', 'random_state': 1, 'max_iter': 1000}\n",
    "pipe = make_pipeline(scaler, LogisticRegression(**model_params))\n",
    "\n",
    "fit_params = {'logisticregression__sample_weight': binary_dataset_train.instance_weights} # Note that right now all are ==1\n",
    "lr_orig = pipe.fit(binary_dataset_train.features, binary_dataset_train.labels.ravel(), **fit_params)"
   ]
  },
  {
   "cell_type": "code",
   "execution_count": null,
   "metadata": {},
   "outputs": [
    {
     "name": "stdout",
     "output_type": "stream",
     "text": [
      "Collecting dojo_ds\n",
      "  Using cached dojo_ds-1.1.11-py2.py3-none-any.whl.metadata (1.5 kB)\n",
      "Using cached dojo_ds-1.1.11-py2.py3-none-any.whl (60 kB)\n",
      "Installing collected packages: dojo_ds\n",
      "Successfully installed dojo_ds-1.1.11\n",
      "Help on function evaluate_classification in module dojo_ds.evaluate:\n",
      "\n",
      "evaluate_classification(model, X_train=None, y_train=None, X_test=None, y_test=None, figsize=(6, 4), normalize='true', output_dict=False, cmap_train='Blues', cmap_test='Reds', colorbar=False, values_format='.2f', target_names=None, return_fig=False)\n",
      "    Evalutes an sklearn-compatible classification model on training and test data.\n",
      "    For each data split, return the classification report and confusion matrix display.\n",
      "\n",
      "    Args:\n",
      "        model (sklearn estimator): Classification model to evaluate.\n",
      "        X_train (Frame/Array, optional): Training data. Defaults to None.\n",
      "        y_train (Series/Array, optional): Training labels. Defaults to None.\n",
      "        X_test (Frame/Array, optional): Test data. Defaults to None.\n",
      "        y_test (Series/Array, optional): Test labels. Defaults to None.\n",
      "        figsize (tuple, optional): figsize for confusion matrix subplots. Defaults to (6,4).\n",
      "        normalize (str, optional): arg for sklearn's ConfusionMatrixDisplay. Defaults to 'true' (conf mat values normalized to true class).\n",
      "        output_dict (bool, optional):  Return the results of classification_report as a dict. Defaults to False. Defaults to False.\n",
      "        cmap_train (str, optional): Colormap for the ConfusionMatrixDisplay for training data. Defaults to 'Blues'.\n",
      "        cmap_test (str, optional): Colormap for the ConfusionMatrixDisplay for test data.  Defaults to \"Reds\".\n",
      "        colorbar (bool, optional): Arg for ConfusionMatrixDispaly: include colorbar or not. Defaults to False.\n",
      "        values_format (str, optional): Format values on confusion matrix. Defaults to \".2f\".\n",
      "        target_names (array, optional): Text labels for the integer-encoded target. Passed in numeric order [label for \"0\", label for \"1\", etc.]\n",
      "        return_fig (bool, optional): Whether the matplotlib figure for confusion matrix is returned. Defaults to False.\n",
      "                                          Note: Must set outout_dict to False and set return_fig to True to get figure returned.\n",
      "     Returns (Only 1 value is returned, but contents vary):\n",
      "        dict: Dictionary that contains results for \"train\" and \"test.\n",
      "              Contents of dictionary depending on output_dict and return_fig:\n",
      "              - if output_dict==True and return_fig==False: returns dictionary of classification report results\n",
      "            - if output_dict==False and return_fig==True: returns dictionary of confusion matrix displays.\n",
      "\n"
     ]
    }
   ],
   "source": [
    "!pip install dojo_ds\n",
    "import dojo_ds as ds\n",
    "\n",
    "help(ds.evaluate.evaluate_classification) #(lr_orig, binary_dataset_test, privileged_groups, unprivileged_groups)"
   ]
  },
  {
   "cell_type": "code",
   "execution_count": null,
   "metadata": {},
   "outputs": [
    {
     "name": "stdout",
     "output_type": "stream",
     "text": [
      "----------------------------------------------------------------------\n",
      " Classification Metrics: Training Data\n",
      "----------------------------------------------------------------------\n",
      "              precision    recall  f1-score   support\n",
      "\n",
      "         0.0       0.89      0.96      0.92      6542\n",
      "         1.0       0.69      0.42      0.52      1373\n",
      "\n",
      "    accuracy                           0.87      7915\n",
      "   macro avg       0.79      0.69      0.72      7915\n",
      "weighted avg       0.85      0.87      0.85      7915\n",
      "\n"
     ]
    },
    {
     "data": {
      "image/png": "[encoded data removed]",
      "text/plain": [
       "<Figure size 600x400 with 2 Axes>"
      ]
     },
     "metadata": {},
     "output_type": "display_data"
    },
    {
     "name": "stdout",
     "output_type": "stream",
     "text": [
      "\n",
      "----------------------------------------------------------------------\n",
      " Classification Metrics: Test Data\n",
      "----------------------------------------------------------------------\n",
      "              precision    recall  f1-score   support\n",
      "\n",
      "         0.0       0.89      0.96      0.92      3960\n",
      "         1.0       0.67      0.37      0.48       789\n",
      "\n",
      "    accuracy                           0.86      4749\n",
      "   macro avg       0.78      0.67      0.70      4749\n",
      "weighted avg       0.85      0.86      0.85      4749\n",
      "\n"
     ]
    },
    {
     "data": {
      "image/png": "[encoded data removed]",
      "text/plain": [
       "<Figure size 600x400 with 2 Axes>"
      ]
     },
     "metadata": {},
     "output_type": "display_data"
    }
   ],
   "source": [
    "ds.evaluate.evaluate_classification(lr_orig, binary_dataset_train.features, binary_dataset_train.labels.ravel(),\n",
    "                                    binary_dataset_test.features, binary_dataset_test.labels.ravel())"
   ]
  },
  {
   "cell_type": "markdown",
   "metadata": {},
   "source": [
    "#### [jmi] Using simple techniques to reveal bias"
   ]
  },
  {
   "cell_type": "code",
   "execution_count": null,
   "metadata": {},
   "outputs": [
    {
     "data": {
      "text/html": [
       "<div>\n",
       "<style scoped>\n",
       "    .dataframe tbody tr th:only-of-type {\n",
       "        vertical-align: middle;\n",
       "    }\n",
       "\n",
       "    .dataframe tbody tr th {\n",
       "        vertical-align: top;\n",
       "    }\n",
       "\n",
       "    .dataframe thead th {\n",
       "        text-align: right;\n",
       "    }\n",
       "</style>\n",
       "<table border=\"1\" class=\"dataframe\">\n",
       "  <thead>\n",
       "    <tr style=\"text-align: right;\">\n",
       "      <th></th>\n",
       "      <th></th>\n",
       "      <th>proportion</th>\n",
       "    </tr>\n",
       "    <tr>\n",
       "      <th>RACE</th>\n",
       "      <th>UTILIZATION</th>\n",
       "      <th></th>\n",
       "    </tr>\n",
       "  </thead>\n",
       "  <tbody>\n",
       "    <tr>\n",
       "      <th rowspan=\"2\" valign=\"top\">0.0</th>\n",
       "      <th>0.0</th>\n",
       "      <td>0.872027</td>\n",
       "    </tr>\n",
       "    <tr>\n",
       "      <th>1.0</th>\n",
       "      <td>0.127973</td>\n",
       "    </tr>\n",
       "    <tr>\n",
       "      <th rowspan=\"2\" valign=\"top\">1.0</th>\n",
       "      <th>0.0</th>\n",
       "      <td>0.744696</td>\n",
       "    </tr>\n",
       "    <tr>\n",
       "      <th>1.0</th>\n",
       "      <td>0.255304</td>\n",
       "    </tr>\n",
       "  </tbody>\n",
       "</table>\n",
       "</div>"
      ],
      "text/plain": [
       "                  proportion\n",
       "RACE UTILIZATION            \n",
       "0.0  0.0            0.872027\n",
       "     1.0            0.127973\n",
       "1.0  0.0            0.744696\n",
       "     1.0            0.255304"
      ]
     },
     "execution_count": 49,
     "metadata": {},
     "output_type": "execute_result"
    }
   ],
   "source": [
    "train.groupby('RACE')['UTILIZATION'].value_counts(normalize=True).to_frame()#.unstack().plot(kind='bar')#, stacked=True)"
   ]
  },
  {
   "cell_type": "markdown",
   "metadata": {},
   "source": [
    "- When RACE is 0, 12% are target=1.\n",
    "- When RACE is 1, 26% are target=1."
   ]
  },
  {
   "cell_type": "markdown",
   "metadata": {},
   "source": []
  },
  {
   "cell_type": "code",
   "execution_count": null,
   "metadata": {},
   "outputs": [
    {
     "data": {
      "text/plain": [
       "array([0., 1., 0., ..., 0., 0., 0.])"
      ]
     },
     "execution_count": 51,
     "metadata": {},
     "output_type": "execute_result"
    }
   ],
   "source": [
    "y_hat_train = pipe.predict(binary_dataset_train.features)\n",
    "y_hat_train"
   ]
  },
  {
   "cell_type": "code",
   "execution_count": null,
   "metadata": {},
   "outputs": [
    {
     "data": {
      "text/html": [
       "<div>\n",
       "<style scoped>\n",
       "    .dataframe tbody tr th:only-of-type {\n",
       "        vertical-align: middle;\n",
       "    }\n",
       "\n",
       "    .dataframe tbody tr th {\n",
       "        vertical-align: top;\n",
       "    }\n",
       "\n",
       "    .dataframe thead th {\n",
       "        text-align: right;\n",
       "    }\n",
       "</style>\n",
       "<table border=\"1\" class=\"dataframe\">\n",
       "  <thead>\n",
       "    <tr style=\"text-align: right;\">\n",
       "      <th></th>\n",
       "      <th></th>\n",
       "      <th>proportion</th>\n",
       "    </tr>\n",
       "    <tr>\n",
       "      <th>RACE</th>\n",
       "      <th>Model Prediction</th>\n",
       "      <th></th>\n",
       "    </tr>\n",
       "  </thead>\n",
       "  <tbody>\n",
       "    <tr>\n",
       "      <th rowspan=\"2\" valign=\"top\">0.0</th>\n",
       "      <th>0.0</th>\n",
       "      <td>0.936112</td>\n",
       "    </tr>\n",
       "    <tr>\n",
       "      <th>1.0</th>\n",
       "      <td>0.063888</td>\n",
       "    </tr>\n",
       "    <tr>\n",
       "      <th rowspan=\"2\" valign=\"top\">1.0</th>\n",
       "      <th>0.0</th>\n",
       "      <td>0.818246</td>\n",
       "    </tr>\n",
       "    <tr>\n",
       "      <th>1.0</th>\n",
       "      <td>0.181754</td>\n",
       "    </tr>\n",
       "  </tbody>\n",
       "</table>\n",
       "</div>"
      ],
      "text/plain": [
       "                       proportion\n",
       "RACE Model Prediction            \n",
       "0.0  0.0                 0.936112\n",
       "     1.0                 0.063888\n",
       "1.0  0.0                 0.818246\n",
       "     1.0                 0.181754"
      ]
     },
     "execution_count": 54,
     "metadata": {},
     "output_type": "execute_result"
    }
   ],
   "source": [
    "train['Model Prediction'] = y_hat_train\n",
    "train.groupby(\"RACE\")['Model Prediction'].value_counts(normalize=True).to_frame()#unstack().plot(kind='bar', stacked=True)"
   ]
  },
  {
   "cell_type": "markdown",
   "metadata": {},
   "source": [
    "- When RACE is 0, model predicts 1 for 6%  of the observations\n",
    "- When RACE is 1, model predicts 1 for 18% of the observations."
   ]
  },
  {
   "cell_type": "markdown",
   "metadata": {},
   "source": []
  },
  {
   "cell_type": "code",
   "execution_count": null,
   "metadata": {},
   "outputs": [],
   "source": []
  }
 ],
 "metadata": {
  "kernelspec": {
   "display_name": "fair-env",
   "language": "python",
   "name": "python3"
  },
  "language_info": {
   "codemirror_mode": {
    "name": "ipython",
    "version": 3
   },
   "file_extension": ".py",
   "mimetype": "text/x-python",
   "name": "python",
   "nbconvert_exporter": "python",
   "pygments_lexer": "ipython3",
   "version": "3.12.4"
  }
 },
 "nbformat": 4,
 "nbformat_minor": 2
}
