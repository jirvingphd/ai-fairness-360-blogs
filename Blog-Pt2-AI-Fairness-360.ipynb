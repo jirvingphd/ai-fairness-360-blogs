{
 "cells": [
  {
   "cell_type": "markdown",
   "metadata": {},
   "source": [
    "# Blog Post Series - AI Fairness 360: Mitigating Bias in Machine Learning Models"
   ]
  },
  {
   "cell_type": "markdown",
   "metadata": {},
   "source": [
    "## Part 2: Implementing Bias Mitigation Techniques with AI Fairness 360\n"
   ]
  },
  {
   "cell_type": "markdown",
   "metadata": {},
   "source": [
    "### Introduction\n"
   ]
  },
  {
   "cell_type": "markdown",
   "metadata": {},
   "source": [
    "\n",
    "Welcome back to our blog series on AI Fairness 360! In Part 1, we explored the foundational concepts of bias in AI and demonstrated how to create dataset objects and evaluate fairness metrics using IBM's AI Fairness 360 toolkit. Understanding and detecting bias in machine learning models is crucial, but the next step is equally important: mitigating this bias to ensure fair and equitable AI systems.\n",
    "\n",
    "In this second installment, we will delve into various bias mitigation techniques provided by AI Fairness 360. These techniques are designed to address bias at different stages of the machine learning pipeline, from pre-processing the data to post-processing the model's predictions. By implementing these techniques, we can reduce bias and improve the fairness of our AI models, ultimately leading to more ethical and responsible AI applications.\n"
   ]
  },
  {
   "cell_type": "markdown",
   "metadata": {},
   "source": [
    "\n",
    "### Learning Objectives\n",
    "\n",
    "By the end of this blog post, you will be able to:\n",
    "- Understand different bias mitigation techniques available in AI Fairness 360.\n",
    "- Implement pre-processing, in-processing, and post-processing bias mitigation algorithms.\n",
    "- Evaluate the effectiveness of these techniques using fairness metrics.\n"
   ]
  },
  {
   "cell_type": "markdown",
   "metadata": {},
   "source": [
    "\n",
    "### Prerequisites\n",
    "\n",
    "Before diving into the content, make sure you have:\n",
    "- A basic understanding of AI Fairness 360 and its dataset objects, as covered in Part 1.\n",
    "- Familiarity with Python and machine learning concepts.\n",
    "\n",
    "In this post, we will provide step-by-step guides and code snippets to help you implement and understand these bias mitigation techniques. Let's get started on the journey to making our AI models more fair and equitable!\n"
   ]
  },
  {
   "cell_type": "markdown",
   "metadata": {},
   "source": [
    "\n",
    "# **Overview of Bias Mitigation Techniques**\n"
   ]
  },
  {
   "cell_type": "markdown",
   "metadata": {},
   "source": [
    "\n",
    "Bias mitigation is an essential step in developing fair and ethical AI systems. AI Fairness 360 offers various techniques to reduce bias at different stages of the machine learning pipeline. These techniques can be broadly categorized into three types: pre-processing, in-processing, and post-processing.\n",
    "\n",
    "#### **A) Pre-Processing Techniques**\n",
    "\n",
    "Pre-processing techniques aim to modify the training data to reduce bias before the model is trained. By addressing bias in the dataset, these methods ensure that the model learns from a more balanced and fair representation of the data.\n",
    "\n",
    "- **Reweighing**: This technique assigns different weights to the examples in the training data based on the protected attributes to ensure that the model gives equal importance to all groups.\n",
    "- **Optimized Preprocessing**: This technique transforms the dataset to remove bias while preserving the relationships between features and the target variable.\n",
    "\n",
    "#### **B) In-Processing Techniques**\n",
    "\n",
    "In-processing techniques modify the learning algorithm itself to reduce bias during model training. These methods integrate fairness considerations directly into the training process.\n",
    "\n",
    "- **Adversarial Debiasing**: This technique uses adversarial learning to minimize bias. It trains the model to make accurate predictions while an adversary tries to detect bias based on the protected attributes.\n",
    "- **Prejudice Remover**: This technique adds a regularization term to the learning algorithm's objective function to penalize biased outcomes, promoting fairness during training.\n",
    "\n",
    "#### **C) Post-Processing Techniques**\n",
    "\n",
    "Post-processing techniques adjust the predictions of a trained model to reduce bias. These methods are applied after the model has been trained and focus on modifying the model’s outputs to ensure fairness.\n",
    "\n",
    "- **Equalized Odds Post-Processing**: This technique adjusts the model's predictions to achieve equalized odds, ensuring that the false positive and false negative rates are the same across different groups.\n",
    "- **Calibrated Equalized Odds Post-Processing**: This technique combines calibration with equalized odds to adjust the model's predictions, maintaining both fairness and accuracy.\n",
    "\n",
    "In the following sections, we will provide step-by-step guides to implement these techniques using AI Fairness 360. By understanding and applying these methods, you can develop AI models that are not only accurate but also fair and unbiased.\n"
   ]
  },
  {
   "cell_type": "markdown",
   "metadata": {},
   "source": [
    "\n",
    "## **A) Implementing Pre-Processing Techniques**\n"
   ]
  },
  {
   "cell_type": "markdown",
   "metadata": {},
   "source": [
    "\n",
    "Pre-processing techniques modify the training data to mitigate bias before the model is trained. These methods ensure that the model learns from a more balanced and fair dataset. In this section, we will focus on the Reweighing technique.\n",
    "\n",
    "### **Step-by-Step Guide: Reweighing Technique**\n",
    "\n",
    "The Reweighing technique assigns different weights to the examples in the training data based on the protected attributes to ensure that the model gives equal importance to all groups.\n"
   ]
  },
  {
   "cell_type": "markdown",
   "metadata": {},
   "source": [
    "\n",
    "#### 1. Load the Dataset and Convert to AIF360 Dataset Object\n",
    "\n",
    "First, we need to load the dataset and convert it into an AIF360 dataset object. We'll use the same Recidivism dataset from Part 1.\n"
   ]
  },
  {
   "cell_type": "code",
   "execution_count": 1,
   "metadata": {
    "execution": {
     "iopub.execute_input": "2024-08-02T18:51:57.407176Z",
     "iopub.status.busy": "2024-08-02T18:51:57.407094Z",
     "iopub.status.idle": "2024-08-02T18:52:00.813421Z",
     "shell.execute_reply": "2024-08-02T18:52:00.812901Z",
     "shell.execute_reply.started": "2024-08-02T18:51:57.407166Z"
    }
   },
   "outputs": [
    {
     "name": "stdout",
     "output_type": "stream",
     "text": [
      "<class 'pandas.core.frame.DataFrame'>\n",
      "Index: 25244 entries, 20655350 to 20999813\n",
      "Data columns (total 10 columns):\n",
      " #   Column                       Non-Null Count  Dtype  \n",
      "---  ------                       --------------  -----  \n",
      " 0   Race                         25244 non-null  object \n",
      " 1   Sex                          25241 non-null  object \n",
      " 2   Age                          25244 non-null  Int64  \n",
      " 3   Supervision Type             25244 non-null  object \n",
      " 4   Months Supervised            25244 non-null  Int64  \n",
      " 5   Supervision End Reason       25244 non-null  object \n",
      " 6   Supervision Offense Class    25244 non-null  object \n",
      " 7   Supervision Offense Type     25244 non-null  object \n",
      " 8   Supervision Offense Subtype  25244 non-null  object \n",
      " 9   Reincarcerated               25244 non-null  boolean\n",
      "dtypes: Int64(2), boolean(1), object(7)\n",
      "memory usage: 2.0+ MB\n"
     ]
    },
    {
     "data": {
      "text/html": [
       "<div>\n",
       "<style scoped>\n",
       "    .dataframe tbody tr th:only-of-type {\n",
       "        vertical-align: middle;\n",
       "    }\n",
       "\n",
       "    .dataframe tbody tr th {\n",
       "        vertical-align: top;\n",
       "    }\n",
       "\n",
       "    .dataframe thead th {\n",
       "        text-align: right;\n",
       "    }\n",
       "</style>\n",
       "<table border=\"1\" class=\"dataframe\">\n",
       "  <thead>\n",
       "    <tr style=\"text-align: right;\">\n",
       "      <th></th>\n",
       "      <th>Race</th>\n",
       "      <th>Sex</th>\n",
       "      <th>Age</th>\n",
       "      <th>Supervision Type</th>\n",
       "      <th>Months Supervised</th>\n",
       "      <th>Supervision End Reason</th>\n",
       "      <th>Supervision Offense Class</th>\n",
       "      <th>Supervision Offense Type</th>\n",
       "      <th>Supervision Offense Subtype</th>\n",
       "      <th>Reincarcerated</th>\n",
       "    </tr>\n",
       "    <tr>\n",
       "      <th>Offender Number</th>\n",
       "      <th></th>\n",
       "      <th></th>\n",
       "      <th></th>\n",
       "      <th></th>\n",
       "      <th></th>\n",
       "      <th></th>\n",
       "      <th></th>\n",
       "      <th></th>\n",
       "      <th></th>\n",
       "      <th></th>\n",
       "    </tr>\n",
       "  </thead>\n",
       "  <tbody>\n",
       "    <tr>\n",
       "      <th>20655350</th>\n",
       "      <td>0</td>\n",
       "      <td>0.0</td>\n",
       "      <td>35</td>\n",
       "      <td>Prison</td>\n",
       "      <td>125</td>\n",
       "      <td>Discharged - Expiration of Sentence</td>\n",
       "      <td>B Felony</td>\n",
       "      <td>Violent</td>\n",
       "      <td>Sex</td>\n",
       "      <td>False</td>\n",
       "    </tr>\n",
       "    <tr>\n",
       "      <th>18876932</th>\n",
       "      <td>1</td>\n",
       "      <td>0.0</td>\n",
       "      <td>30</td>\n",
       "      <td>Prison</td>\n",
       "      <td>49</td>\n",
       "      <td>Released to Special Sentence</td>\n",
       "      <td>D Felony</td>\n",
       "      <td>Other</td>\n",
       "      <td>Other Criminal</td>\n",
       "      <td>False</td>\n",
       "    </tr>\n",
       "    <tr>\n",
       "      <th>2424146</th>\n",
       "      <td>0</td>\n",
       "      <td>0.0</td>\n",
       "      <td>40</td>\n",
       "      <td>Prison</td>\n",
       "      <td>8</td>\n",
       "      <td>Parole Granted</td>\n",
       "      <td>Aggravated Misdemeanor</td>\n",
       "      <td>Public Order</td>\n",
       "      <td>Other Public Order</td>\n",
       "      <td>False</td>\n",
       "    </tr>\n",
       "    <tr>\n",
       "      <th>19088303</th>\n",
       "      <td>1</td>\n",
       "      <td>0.0</td>\n",
       "      <td>29</td>\n",
       "      <td>Work Release</td>\n",
       "      <td>2</td>\n",
       "      <td>Parole Granted</td>\n",
       "      <td>C Felony</td>\n",
       "      <td>Drug</td>\n",
       "      <td>Trafficking</td>\n",
       "      <td>False</td>\n",
       "    </tr>\n",
       "    <tr>\n",
       "      <th>20280797</th>\n",
       "      <td>0</td>\n",
       "      <td>0.0</td>\n",
       "      <td>38</td>\n",
       "      <td>Prison</td>\n",
       "      <td>11</td>\n",
       "      <td>Paroled w/Immediate Discharge</td>\n",
       "      <td>Aggravated Misdemeanor</td>\n",
       "      <td>Property</td>\n",
       "      <td>Burglary</td>\n",
       "      <td>False</td>\n",
       "    </tr>\n",
       "  </tbody>\n",
       "</table>\n",
       "</div>"
      ],
      "text/plain": [
       "                 Race  Sex  Age Supervision Type  Months Supervised  \\\n",
       "Offender Number                                                       \n",
       "20655350            0  0.0   35           Prison                125   \n",
       "18876932            1  0.0   30           Prison                 49   \n",
       "2424146             0  0.0   40           Prison                  8   \n",
       "19088303            1  0.0   29     Work Release                  2   \n",
       "20280797            0  0.0   38           Prison                 11   \n",
       "\n",
       "                              Supervision End Reason  \\\n",
       "Offender Number                                        \n",
       "20655350         Discharged - Expiration of Sentence   \n",
       "18876932                Released to Special Sentence   \n",
       "2424146                               Parole Granted   \n",
       "19088303                              Parole Granted   \n",
       "20280797               Paroled w/Immediate Discharge   \n",
       "\n",
       "                Supervision Offense Class Supervision Offense Type  \\\n",
       "Offender Number                                                      \n",
       "20655350                         B Felony                  Violent   \n",
       "18876932                         D Felony                    Other   \n",
       "2424146            Aggravated Misdemeanor             Public Order   \n",
       "19088303                         C Felony                     Drug   \n",
       "20280797           Aggravated Misdemeanor                 Property   \n",
       "\n",
       "                Supervision Offense Subtype  Reincarcerated  \n",
       "Offender Number                                              \n",
       "20655350                                Sex           False  \n",
       "18876932                     Other Criminal           False  \n",
       "2424146                  Other Public Order           False  \n",
       "19088303                        Trafficking           False  \n",
       "20280797                           Burglary           False  "
      ]
     },
     "execution_count": 1,
     "metadata": {},
     "output_type": "execute_result"
    }
   ],
   "source": [
    "\n",
    "import pandas as pd\n",
    "import numpy as np\n",
    "import matplotlib.pyplot as plt\n",
    "# Impute NaNs with most frequent value\n",
    "from sklearn.impute import SimpleImputer\n",
    "from sklearn.preprocessing import OneHotEncoder\n",
    "from sklearn.compose import ColumnTransformer\n",
    "from sklearn.pipeline import make_pipeline, Pipeline\n",
    "from sklearn.model_selection import train_test_split\n",
    "from sklearn.metrics import classification_report, ConfusionMatrixDisplay\n",
    "\n",
    "# Import BinaryLabelDataset\n",
    "from aif360.datasets import BinaryLabelDataset\n",
    "\n",
    "# Enable pandas dataframe output\n",
    "from sklearn import set_config\n",
    "set_config(transform_output='pandas')\n",
    "\n",
    "\n",
    "pd.set_option(\"display.max_columns\", 100)\n",
    "\n",
    "# Load the data \n",
    "df = pd.read_csv(\"data/Iowa_Prison_Recidivism_Status_20240724.csv\", \n",
    "                 index_col=0, usecols=range(0, 23-7))   \n",
    "\n",
    "## Quick Conversion of Dtypes for Clean Data\n",
    "df = df.convert_dtypes(convert_string=False)\n",
    "\n",
    "# Drop unnecessary columns\n",
    "drop_cols = ['Supervising Unit','Supervision Start Date','Supervision End Date'] + [c for c in df.columns if 'Year' in c]\n",
    "df = df.drop(columns=drop_cols)\n",
    "df.info()\n",
    "\n",
    "# Encode the 'race' column as binary white or non-white.\n",
    "race_map = {'White': 0, 'Black': 1, 'Hispanic': 1, 'Asian or Pacific Islander': 1,\n",
    "            'American Indian or Alaska Native': 1, 'Unknown': 1, 'Other':1}\n",
    "df['Race'] = df['Race'].map(race_map)\n",
    "\n",
    "# Encode the \"Sex\" column\n",
    "sex_map = {\"Male\": 0, \"Female\":1}\n",
    "df['Sex'] = df['Sex'].map(sex_map)\n",
    "\n",
    "\n",
    "df.head()\n",
    "\n"
   ]
  },
  {
   "cell_type": "code",
   "execution_count": 2,
   "metadata": {
    "execution": {
     "iopub.execute_input": "2024-08-02T18:52:00.814418Z",
     "iopub.status.busy": "2024-08-02T18:52:00.814134Z",
     "iopub.status.idle": "2024-08-02T18:52:00.828335Z",
     "shell.execute_reply": "2024-08-02T18:52:00.828076Z",
     "shell.execute_reply.started": "2024-08-02T18:52:00.814399Z"
    }
   },
   "outputs": [
    {
     "data": {
      "text/html": [
       "<style>#sk-container-id-1 {\n",
       "  /* Definition of color scheme common for light and dark mode */\n",
       "  --sklearn-color-text: black;\n",
       "  --sklearn-color-line: gray;\n",
       "  /* Definition of color scheme for unfitted estimators */\n",
       "  --sklearn-color-unfitted-level-0: #fff5e6;\n",
       "  --sklearn-color-unfitted-level-1: #f6e4d2;\n",
       "  --sklearn-color-unfitted-level-2: #ffe0b3;\n",
       "  --sklearn-color-unfitted-level-3: chocolate;\n",
       "  /* Definition of color scheme for fitted estimators */\n",
       "  --sklearn-color-fitted-level-0: #f0f8ff;\n",
       "  --sklearn-color-fitted-level-1: #d4ebff;\n",
       "  --sklearn-color-fitted-level-2: #b3dbfd;\n",
       "  --sklearn-color-fitted-level-3: cornflowerblue;\n",
       "\n",
       "  /* Specific color for light theme */\n",
       "  --sklearn-color-text-on-default-background: var(--sg-text-color, var(--theme-code-foreground, var(--jp-content-font-color1, black)));\n",
       "  --sklearn-color-background: var(--sg-background-color, var(--theme-background, var(--jp-layout-color0, white)));\n",
       "  --sklearn-color-border-box: var(--sg-text-color, var(--theme-code-foreground, var(--jp-content-font-color1, black)));\n",
       "  --sklearn-color-icon: #696969;\n",
       "\n",
       "  @media (prefers-color-scheme: dark) {\n",
       "    /* Redefinition of color scheme for dark theme */\n",
       "    --sklearn-color-text-on-default-background: var(--sg-text-color, var(--theme-code-foreground, var(--jp-content-font-color1, white)));\n",
       "    --sklearn-color-background: var(--sg-background-color, var(--theme-background, var(--jp-layout-color0, #111)));\n",
       "    --sklearn-color-border-box: var(--sg-text-color, var(--theme-code-foreground, var(--jp-content-font-color1, white)));\n",
       "    --sklearn-color-icon: #878787;\n",
       "  }\n",
       "}\n",
       "\n",
       "#sk-container-id-1 {\n",
       "  color: var(--sklearn-color-text);\n",
       "}\n",
       "\n",
       "#sk-container-id-1 pre {\n",
       "  padding: 0;\n",
       "}\n",
       "\n",
       "#sk-container-id-1 input.sk-hidden--visually {\n",
       "  border: 0;\n",
       "  clip: rect(1px 1px 1px 1px);\n",
       "  clip: rect(1px, 1px, 1px, 1px);\n",
       "  height: 1px;\n",
       "  margin: -1px;\n",
       "  overflow: hidden;\n",
       "  padding: 0;\n",
       "  position: absolute;\n",
       "  width: 1px;\n",
       "}\n",
       "\n",
       "#sk-container-id-1 div.sk-dashed-wrapped {\n",
       "  border: 1px dashed var(--sklearn-color-line);\n",
       "  margin: 0 0.4em 0.5em 0.4em;\n",
       "  box-sizing: border-box;\n",
       "  padding-bottom: 0.4em;\n",
       "  background-color: var(--sklearn-color-background);\n",
       "}\n",
       "\n",
       "#sk-container-id-1 div.sk-container {\n",
       "  /* jupyter's `normalize.less` sets `[hidden] { display: none; }`\n",
       "     but bootstrap.min.css set `[hidden] { display: none !important; }`\n",
       "     so we also need the `!important` here to be able to override the\n",
       "     default hidden behavior on the sphinx rendered scikit-learn.org.\n",
       "     See: https://github.com/scikit-learn/scikit-learn/issues/21755 */\n",
       "  display: inline-block !important;\n",
       "  position: relative;\n",
       "}\n",
       "\n",
       "#sk-container-id-1 div.sk-text-repr-fallback {\n",
       "  display: none;\n",
       "}\n",
       "\n",
       "div.sk-parallel-item,\n",
       "div.sk-serial,\n",
       "div.sk-item {\n",
       "  /* draw centered vertical line to link estimators */\n",
       "  background-image: linear-gradient(var(--sklearn-color-text-on-default-background), var(--sklearn-color-text-on-default-background));\n",
       "  background-size: 2px 100%;\n",
       "  background-repeat: no-repeat;\n",
       "  background-position: center center;\n",
       "}\n",
       "\n",
       "/* Parallel-specific style estimator block */\n",
       "\n",
       "#sk-container-id-1 div.sk-parallel-item::after {\n",
       "  content: \"\";\n",
       "  width: 100%;\n",
       "  border-bottom: 2px solid var(--sklearn-color-text-on-default-background);\n",
       "  flex-grow: 1;\n",
       "}\n",
       "\n",
       "#sk-container-id-1 div.sk-parallel {\n",
       "  display: flex;\n",
       "  align-items: stretch;\n",
       "  justify-content: center;\n",
       "  background-color: var(--sklearn-color-background);\n",
       "  position: relative;\n",
       "}\n",
       "\n",
       "#sk-container-id-1 div.sk-parallel-item {\n",
       "  display: flex;\n",
       "  flex-direction: column;\n",
       "}\n",
       "\n",
       "#sk-container-id-1 div.sk-parallel-item:first-child::after {\n",
       "  align-self: flex-end;\n",
       "  width: 50%;\n",
       "}\n",
       "\n",
       "#sk-container-id-1 div.sk-parallel-item:last-child::after {\n",
       "  align-self: flex-start;\n",
       "  width: 50%;\n",
       "}\n",
       "\n",
       "#sk-container-id-1 div.sk-parallel-item:only-child::after {\n",
       "  width: 0;\n",
       "}\n",
       "\n",
       "/* Serial-specific style estimator block */\n",
       "\n",
       "#sk-container-id-1 div.sk-serial {\n",
       "  display: flex;\n",
       "  flex-direction: column;\n",
       "  align-items: center;\n",
       "  background-color: var(--sklearn-color-background);\n",
       "  padding-right: 1em;\n",
       "  padding-left: 1em;\n",
       "}\n",
       "\n",
       "\n",
       "/* Toggleable style: style used for estimator/Pipeline/ColumnTransformer box that is\n",
       "clickable and can be expanded/collapsed.\n",
       "- Pipeline and ColumnTransformer use this feature and define the default style\n",
       "- Estimators will overwrite some part of the style using the `sk-estimator` class\n",
       "*/\n",
       "\n",
       "/* Pipeline and ColumnTransformer style (default) */\n",
       "\n",
       "#sk-container-id-1 div.sk-toggleable {\n",
       "  /* Default theme specific background. It is overwritten whether we have a\n",
       "  specific estimator or a Pipeline/ColumnTransformer */\n",
       "  background-color: var(--sklearn-color-background);\n",
       "}\n",
       "\n",
       "/* Toggleable label */\n",
       "#sk-container-id-1 label.sk-toggleable__label {\n",
       "  cursor: pointer;\n",
       "  display: block;\n",
       "  width: 100%;\n",
       "  margin-bottom: 0;\n",
       "  padding: 0.5em;\n",
       "  box-sizing: border-box;\n",
       "  text-align: center;\n",
       "}\n",
       "\n",
       "#sk-container-id-1 label.sk-toggleable__label-arrow:before {\n",
       "  /* Arrow on the left of the label */\n",
       "  content: \"▸\";\n",
       "  float: left;\n",
       "  margin-right: 0.25em;\n",
       "  color: var(--sklearn-color-icon);\n",
       "}\n",
       "\n",
       "#sk-container-id-1 label.sk-toggleable__label-arrow:hover:before {\n",
       "  color: var(--sklearn-color-text);\n",
       "}\n",
       "\n",
       "/* Toggleable content - dropdown */\n",
       "\n",
       "#sk-container-id-1 div.sk-toggleable__content {\n",
       "  max-height: 0;\n",
       "  max-width: 0;\n",
       "  overflow: hidden;\n",
       "  text-align: left;\n",
       "  /* unfitted */\n",
       "  background-color: var(--sklearn-color-unfitted-level-0);\n",
       "}\n",
       "\n",
       "#sk-container-id-1 div.sk-toggleable__content.fitted {\n",
       "  /* fitted */\n",
       "  background-color: var(--sklearn-color-fitted-level-0);\n",
       "}\n",
       "\n",
       "#sk-container-id-1 div.sk-toggleable__content pre {\n",
       "  margin: 0.2em;\n",
       "  border-radius: 0.25em;\n",
       "  color: var(--sklearn-color-text);\n",
       "  /* unfitted */\n",
       "  background-color: var(--sklearn-color-unfitted-level-0);\n",
       "}\n",
       "\n",
       "#sk-container-id-1 div.sk-toggleable__content.fitted pre {\n",
       "  /* unfitted */\n",
       "  background-color: var(--sklearn-color-fitted-level-0);\n",
       "}\n",
       "\n",
       "#sk-container-id-1 input.sk-toggleable__control:checked~div.sk-toggleable__content {\n",
       "  /* Expand drop-down */\n",
       "  max-height: 200px;\n",
       "  max-width: 100%;\n",
       "  overflow: auto;\n",
       "}\n",
       "\n",
       "#sk-container-id-1 input.sk-toggleable__control:checked~label.sk-toggleable__label-arrow:before {\n",
       "  content: \"▾\";\n",
       "}\n",
       "\n",
       "/* Pipeline/ColumnTransformer-specific style */\n",
       "\n",
       "#sk-container-id-1 div.sk-label input.sk-toggleable__control:checked~label.sk-toggleable__label {\n",
       "  color: var(--sklearn-color-text);\n",
       "  background-color: var(--sklearn-color-unfitted-level-2);\n",
       "}\n",
       "\n",
       "#sk-container-id-1 div.sk-label.fitted input.sk-toggleable__control:checked~label.sk-toggleable__label {\n",
       "  background-color: var(--sklearn-color-fitted-level-2);\n",
       "}\n",
       "\n",
       "/* Estimator-specific style */\n",
       "\n",
       "/* Colorize estimator box */\n",
       "#sk-container-id-1 div.sk-estimator input.sk-toggleable__control:checked~label.sk-toggleable__label {\n",
       "  /* unfitted */\n",
       "  background-color: var(--sklearn-color-unfitted-level-2);\n",
       "}\n",
       "\n",
       "#sk-container-id-1 div.sk-estimator.fitted input.sk-toggleable__control:checked~label.sk-toggleable__label {\n",
       "  /* fitted */\n",
       "  background-color: var(--sklearn-color-fitted-level-2);\n",
       "}\n",
       "\n",
       "#sk-container-id-1 div.sk-label label.sk-toggleable__label,\n",
       "#sk-container-id-1 div.sk-label label {\n",
       "  /* The background is the default theme color */\n",
       "  color: var(--sklearn-color-text-on-default-background);\n",
       "}\n",
       "\n",
       "/* On hover, darken the color of the background */\n",
       "#sk-container-id-1 div.sk-label:hover label.sk-toggleable__label {\n",
       "  color: var(--sklearn-color-text);\n",
       "  background-color: var(--sklearn-color-unfitted-level-2);\n",
       "}\n",
       "\n",
       "/* Label box, darken color on hover, fitted */\n",
       "#sk-container-id-1 div.sk-label.fitted:hover label.sk-toggleable__label.fitted {\n",
       "  color: var(--sklearn-color-text);\n",
       "  background-color: var(--sklearn-color-fitted-level-2);\n",
       "}\n",
       "\n",
       "/* Estimator label */\n",
       "\n",
       "#sk-container-id-1 div.sk-label label {\n",
       "  font-family: monospace;\n",
       "  font-weight: bold;\n",
       "  display: inline-block;\n",
       "  line-height: 1.2em;\n",
       "}\n",
       "\n",
       "#sk-container-id-1 div.sk-label-container {\n",
       "  text-align: center;\n",
       "}\n",
       "\n",
       "/* Estimator-specific */\n",
       "#sk-container-id-1 div.sk-estimator {\n",
       "  font-family: monospace;\n",
       "  border: 1px dotted var(--sklearn-color-border-box);\n",
       "  border-radius: 0.25em;\n",
       "  box-sizing: border-box;\n",
       "  margin-bottom: 0.5em;\n",
       "  /* unfitted */\n",
       "  background-color: var(--sklearn-color-unfitted-level-0);\n",
       "}\n",
       "\n",
       "#sk-container-id-1 div.sk-estimator.fitted {\n",
       "  /* fitted */\n",
       "  background-color: var(--sklearn-color-fitted-level-0);\n",
       "}\n",
       "\n",
       "/* on hover */\n",
       "#sk-container-id-1 div.sk-estimator:hover {\n",
       "  /* unfitted */\n",
       "  background-color: var(--sklearn-color-unfitted-level-2);\n",
       "}\n",
       "\n",
       "#sk-container-id-1 div.sk-estimator.fitted:hover {\n",
       "  /* fitted */\n",
       "  background-color: var(--sklearn-color-fitted-level-2);\n",
       "}\n",
       "\n",
       "/* Specification for estimator info (e.g. \"i\" and \"?\") */\n",
       "\n",
       "/* Common style for \"i\" and \"?\" */\n",
       "\n",
       ".sk-estimator-doc-link,\n",
       "a:link.sk-estimator-doc-link,\n",
       "a:visited.sk-estimator-doc-link {\n",
       "  float: right;\n",
       "  font-size: smaller;\n",
       "  line-height: 1em;\n",
       "  font-family: monospace;\n",
       "  background-color: var(--sklearn-color-background);\n",
       "  border-radius: 1em;\n",
       "  height: 1em;\n",
       "  width: 1em;\n",
       "  text-decoration: none !important;\n",
       "  margin-left: 1ex;\n",
       "  /* unfitted */\n",
       "  border: var(--sklearn-color-unfitted-level-1) 1pt solid;\n",
       "  color: var(--sklearn-color-unfitted-level-1);\n",
       "}\n",
       "\n",
       ".sk-estimator-doc-link.fitted,\n",
       "a:link.sk-estimator-doc-link.fitted,\n",
       "a:visited.sk-estimator-doc-link.fitted {\n",
       "  /* fitted */\n",
       "  border: var(--sklearn-color-fitted-level-1) 1pt solid;\n",
       "  color: var(--sklearn-color-fitted-level-1);\n",
       "}\n",
       "\n",
       "/* On hover */\n",
       "div.sk-estimator:hover .sk-estimator-doc-link:hover,\n",
       ".sk-estimator-doc-link:hover,\n",
       "div.sk-label-container:hover .sk-estimator-doc-link:hover,\n",
       ".sk-estimator-doc-link:hover {\n",
       "  /* unfitted */\n",
       "  background-color: var(--sklearn-color-unfitted-level-3);\n",
       "  color: var(--sklearn-color-background);\n",
       "  text-decoration: none;\n",
       "}\n",
       "\n",
       "div.sk-estimator.fitted:hover .sk-estimator-doc-link.fitted:hover,\n",
       ".sk-estimator-doc-link.fitted:hover,\n",
       "div.sk-label-container:hover .sk-estimator-doc-link.fitted:hover,\n",
       ".sk-estimator-doc-link.fitted:hover {\n",
       "  /* fitted */\n",
       "  background-color: var(--sklearn-color-fitted-level-3);\n",
       "  color: var(--sklearn-color-background);\n",
       "  text-decoration: none;\n",
       "}\n",
       "\n",
       "/* Span, style for the box shown on hovering the info icon */\n",
       ".sk-estimator-doc-link span {\n",
       "  display: none;\n",
       "  z-index: 9999;\n",
       "  position: relative;\n",
       "  font-weight: normal;\n",
       "  right: .2ex;\n",
       "  padding: .5ex;\n",
       "  margin: .5ex;\n",
       "  width: min-content;\n",
       "  min-width: 20ex;\n",
       "  max-width: 50ex;\n",
       "  color: var(--sklearn-color-text);\n",
       "  box-shadow: 2pt 2pt 4pt #999;\n",
       "  /* unfitted */\n",
       "  background: var(--sklearn-color-unfitted-level-0);\n",
       "  border: .5pt solid var(--sklearn-color-unfitted-level-3);\n",
       "}\n",
       "\n",
       ".sk-estimator-doc-link.fitted span {\n",
       "  /* fitted */\n",
       "  background: var(--sklearn-color-fitted-level-0);\n",
       "  border: var(--sklearn-color-fitted-level-3);\n",
       "}\n",
       "\n",
       ".sk-estimator-doc-link:hover span {\n",
       "  display: block;\n",
       "}\n",
       "\n",
       "/* \"?\"-specific style due to the `<a>` HTML tag */\n",
       "\n",
       "#sk-container-id-1 a.estimator_doc_link {\n",
       "  float: right;\n",
       "  font-size: 1rem;\n",
       "  line-height: 1em;\n",
       "  font-family: monospace;\n",
       "  background-color: var(--sklearn-color-background);\n",
       "  border-radius: 1rem;\n",
       "  height: 1rem;\n",
       "  width: 1rem;\n",
       "  text-decoration: none;\n",
       "  /* unfitted */\n",
       "  color: var(--sklearn-color-unfitted-level-1);\n",
       "  border: var(--sklearn-color-unfitted-level-1) 1pt solid;\n",
       "}\n",
       "\n",
       "#sk-container-id-1 a.estimator_doc_link.fitted {\n",
       "  /* fitted */\n",
       "  border: var(--sklearn-color-fitted-level-1) 1pt solid;\n",
       "  color: var(--sklearn-color-fitted-level-1);\n",
       "}\n",
       "\n",
       "/* On hover */\n",
       "#sk-container-id-1 a.estimator_doc_link:hover {\n",
       "  /* unfitted */\n",
       "  background-color: var(--sklearn-color-unfitted-level-3);\n",
       "  color: var(--sklearn-color-background);\n",
       "  text-decoration: none;\n",
       "}\n",
       "\n",
       "#sk-container-id-1 a.estimator_doc_link.fitted:hover {\n",
       "  /* fitted */\n",
       "  background-color: var(--sklearn-color-fitted-level-3);\n",
       "}\n",
       "</style><div id=\"sk-container-id-1\" class=\"sk-top-container\"><div class=\"sk-text-repr-fallback\"><pre>ColumnTransformer(remainder=&#x27;passthrough&#x27;,\n",
       "                  transformers=[(&#x27;cat&#x27;,\n",
       "                                 Pipeline(steps=[(&#x27;simpleimputer&#x27;,\n",
       "                                                  SimpleImputer(strategy=&#x27;most_frequent&#x27;)),\n",
       "                                                 (&#x27;onehotencoder&#x27;,\n",
       "                                                  OneHotEncoder(handle_unknown=&#x27;ignore&#x27;,\n",
       "                                                                sparse_output=False))]),\n",
       "                                 Index([&#x27;Supervision Type&#x27;, &#x27;Supervision End Reason&#x27;,\n",
       "       &#x27;Supervision Offense Class&#x27;, &#x27;Supervision Offense Type&#x27;,\n",
       "       &#x27;Supervision Offense Subtype&#x27;],\n",
       "      dtype=&#x27;object&#x27;)),\n",
       "                                (&#x27;num&#x27;,\n",
       "                                 Pipeline(steps=[(&#x27;simpleimputer&#x27;,\n",
       "                                                  SimpleImputer())]),\n",
       "                                 Index([&#x27;Race&#x27;, &#x27;Sex&#x27;, &#x27;Age&#x27;, &#x27;Months Supervised&#x27;], dtype=&#x27;object&#x27;))],\n",
       "                  verbose_feature_names_out=False)</pre><b>In a Jupyter environment, please rerun this cell to show the HTML representation or trust the notebook. <br />On GitHub, the HTML representation is unable to render, please try loading this page with nbviewer.org.</b></div><div class=\"sk-container\" hidden><div class=\"sk-item sk-dashed-wrapped\"><div class=\"sk-label-container\"><div class=\"sk-label  sk-toggleable\"><input class=\"sk-toggleable__control sk-hidden--visually\" id=\"sk-estimator-id-1\" type=\"checkbox\" ><label for=\"sk-estimator-id-1\" class=\"sk-toggleable__label  sk-toggleable__label-arrow \">&nbsp;&nbsp;ColumnTransformer<a class=\"sk-estimator-doc-link \" rel=\"noreferrer\" target=\"_blank\" href=\"https://scikit-learn.org/1.5/modules/generated/sklearn.compose.ColumnTransformer.html\">?<span>Documentation for ColumnTransformer</span></a><span class=\"sk-estimator-doc-link \">i<span>Not fitted</span></span></label><div class=\"sk-toggleable__content \"><pre>ColumnTransformer(remainder=&#x27;passthrough&#x27;,\n",
       "                  transformers=[(&#x27;cat&#x27;,\n",
       "                                 Pipeline(steps=[(&#x27;simpleimputer&#x27;,\n",
       "                                                  SimpleImputer(strategy=&#x27;most_frequent&#x27;)),\n",
       "                                                 (&#x27;onehotencoder&#x27;,\n",
       "                                                  OneHotEncoder(handle_unknown=&#x27;ignore&#x27;,\n",
       "                                                                sparse_output=False))]),\n",
       "                                 Index([&#x27;Supervision Type&#x27;, &#x27;Supervision End Reason&#x27;,\n",
       "       &#x27;Supervision Offense Class&#x27;, &#x27;Supervision Offense Type&#x27;,\n",
       "       &#x27;Supervision Offense Subtype&#x27;],\n",
       "      dtype=&#x27;object&#x27;)),\n",
       "                                (&#x27;num&#x27;,\n",
       "                                 Pipeline(steps=[(&#x27;simpleimputer&#x27;,\n",
       "                                                  SimpleImputer())]),\n",
       "                                 Index([&#x27;Race&#x27;, &#x27;Sex&#x27;, &#x27;Age&#x27;, &#x27;Months Supervised&#x27;], dtype=&#x27;object&#x27;))],\n",
       "                  verbose_feature_names_out=False)</pre></div> </div></div><div class=\"sk-parallel\"><div class=\"sk-parallel-item\"><div class=\"sk-item\"><div class=\"sk-label-container\"><div class=\"sk-label  sk-toggleable\"><input class=\"sk-toggleable__control sk-hidden--visually\" id=\"sk-estimator-id-2\" type=\"checkbox\" ><label for=\"sk-estimator-id-2\" class=\"sk-toggleable__label  sk-toggleable__label-arrow \">cat</label><div class=\"sk-toggleable__content \"><pre>Index([&#x27;Supervision Type&#x27;, &#x27;Supervision End Reason&#x27;,\n",
       "       &#x27;Supervision Offense Class&#x27;, &#x27;Supervision Offense Type&#x27;,\n",
       "       &#x27;Supervision Offense Subtype&#x27;],\n",
       "      dtype=&#x27;object&#x27;)</pre></div> </div></div><div class=\"sk-serial\"><div class=\"sk-item\"><div class=\"sk-serial\"><div class=\"sk-item\"><div class=\"sk-estimator  sk-toggleable\"><input class=\"sk-toggleable__control sk-hidden--visually\" id=\"sk-estimator-id-3\" type=\"checkbox\" ><label for=\"sk-estimator-id-3\" class=\"sk-toggleable__label  sk-toggleable__label-arrow \">&nbsp;SimpleImputer<a class=\"sk-estimator-doc-link \" rel=\"noreferrer\" target=\"_blank\" href=\"https://scikit-learn.org/1.5/modules/generated/sklearn.impute.SimpleImputer.html\">?<span>Documentation for SimpleImputer</span></a></label><div class=\"sk-toggleable__content \"><pre>SimpleImputer(strategy=&#x27;most_frequent&#x27;)</pre></div> </div></div><div class=\"sk-item\"><div class=\"sk-estimator  sk-toggleable\"><input class=\"sk-toggleable__control sk-hidden--visually\" id=\"sk-estimator-id-4\" type=\"checkbox\" ><label for=\"sk-estimator-id-4\" class=\"sk-toggleable__label  sk-toggleable__label-arrow \">&nbsp;OneHotEncoder<a class=\"sk-estimator-doc-link \" rel=\"noreferrer\" target=\"_blank\" href=\"https://scikit-learn.org/1.5/modules/generated/sklearn.preprocessing.OneHotEncoder.html\">?<span>Documentation for OneHotEncoder</span></a></label><div class=\"sk-toggleable__content \"><pre>OneHotEncoder(handle_unknown=&#x27;ignore&#x27;, sparse_output=False)</pre></div> </div></div></div></div></div></div></div><div class=\"sk-parallel-item\"><div class=\"sk-item\"><div class=\"sk-label-container\"><div class=\"sk-label  sk-toggleable\"><input class=\"sk-toggleable__control sk-hidden--visually\" id=\"sk-estimator-id-5\" type=\"checkbox\" ><label for=\"sk-estimator-id-5\" class=\"sk-toggleable__label  sk-toggleable__label-arrow \">num</label><div class=\"sk-toggleable__content \"><pre>Index([&#x27;Race&#x27;, &#x27;Sex&#x27;, &#x27;Age&#x27;, &#x27;Months Supervised&#x27;], dtype=&#x27;object&#x27;)</pre></div> </div></div><div class=\"sk-serial\"><div class=\"sk-item\"><div class=\"sk-serial\"><div class=\"sk-item\"><div class=\"sk-estimator  sk-toggleable\"><input class=\"sk-toggleable__control sk-hidden--visually\" id=\"sk-estimator-id-6\" type=\"checkbox\" ><label for=\"sk-estimator-id-6\" class=\"sk-toggleable__label  sk-toggleable__label-arrow \">&nbsp;SimpleImputer<a class=\"sk-estimator-doc-link \" rel=\"noreferrer\" target=\"_blank\" href=\"https://scikit-learn.org/1.5/modules/generated/sklearn.impute.SimpleImputer.html\">?<span>Documentation for SimpleImputer</span></a></label><div class=\"sk-toggleable__content \"><pre>SimpleImputer()</pre></div> </div></div></div></div></div></div></div><div class=\"sk-parallel-item\"><div class=\"sk-item\"><div class=\"sk-label-container\"><div class=\"sk-label  sk-toggleable\"><input class=\"sk-toggleable__control sk-hidden--visually\" id=\"sk-estimator-id-7\" type=\"checkbox\" ><label for=\"sk-estimator-id-7\" class=\"sk-toggleable__label  sk-toggleable__label-arrow \">remainder</label><div class=\"sk-toggleable__content \"><pre></pre></div> </div></div><div class=\"sk-serial\"><div class=\"sk-item\"><div class=\"sk-estimator  sk-toggleable\"><input class=\"sk-toggleable__control sk-hidden--visually\" id=\"sk-estimator-id-8\" type=\"checkbox\" ><label for=\"sk-estimator-id-8\" class=\"sk-toggleable__label  sk-toggleable__label-arrow \">passthrough</label><div class=\"sk-toggleable__content \"><pre>passthrough</pre></div> </div></div></div></div></div></div></div></div></div>"
      ],
      "text/plain": [
       "ColumnTransformer(remainder='passthrough',\n",
       "                  transformers=[('cat',\n",
       "                                 Pipeline(steps=[('simpleimputer',\n",
       "                                                  SimpleImputer(strategy='most_frequent')),\n",
       "                                                 ('onehotencoder',\n",
       "                                                  OneHotEncoder(handle_unknown='ignore',\n",
       "                                                                sparse_output=False))]),\n",
       "                                 Index(['Supervision Type', 'Supervision End Reason',\n",
       "       'Supervision Offense Class', 'Supervision Offense Type',\n",
       "       'Supervision Offense Subtype'],\n",
       "      dtype='object')),\n",
       "                                ('num',\n",
       "                                 Pipeline(steps=[('simpleimputer',\n",
       "                                                  SimpleImputer())]),\n",
       "                                 Index(['Race', 'Sex', 'Age', 'Months Supervised'], dtype='object'))],\n",
       "                  verbose_feature_names_out=False)"
      ]
     },
     "execution_count": 2,
     "metadata": {},
     "output_type": "execute_result"
    }
   ],
   "source": [
    "\n",
    "## Create the Preprocessor\n",
    "# Categorical Pipeline\n",
    "cat_cols = df.select_dtypes(include='object').columns\n",
    "cat_imputer = SimpleImputer(strategy='most_frequent')\n",
    "ohe = OneHotEncoder(handle_unknown='ignore', sparse_output=False)\n",
    "cat_pipe = make_pipeline(cat_imputer, ohe)\n",
    "\n",
    "\n",
    "# Numeric Pipeline\n",
    "num_cols = df.select_dtypes(include='number').columns\n",
    "num_imputer = SimpleImputer(strategy='mean')\n",
    "num_pipe = make_pipeline(num_imputer)\n",
    "\n",
    "\n",
    "\n",
    "# Convert Boolean Columns to Integers\n",
    "bool_cols = df.select_dtypes(include='bool').columns\n",
    "df[bool_cols] = df[bool_cols].astype(int)\n",
    "\n",
    "\n",
    "\n",
    "# Create the column Transformer\n",
    "preprocessor = ColumnTransformer(transformers=[('cat', cat_pipe, cat_cols),\n",
    "                                               ('num', num_pipe, num_cols)],\n",
    "                                 remainder='passthrough',\n",
    "                                 verbose_feature_names_out=False)\n",
    "\n",
    "preprocessor"
   ]
  },
  {
   "cell_type": "markdown",
   "metadata": {},
   "source": [
    "### Choice: Dataset First or Train-Test-Split First"
   ]
  },
  {
   "cell_type": "markdown",
   "metadata": {},
   "source": [
    "We will perform our train-test-split before applying the preprocessig steps in order to avoid data leakage between the train and test sets.  However, you may see examples and tutorials that use the BinaryLabelDataset built-in `.split()` method for creating training and test datasets. We will avoid doing so to have the most appropriate machine learning workflow possible. "
   ]
  },
  {
   "cell_type": "markdown",
   "metadata": {},
   "source": [
    "#### Train-Test Split"
   ]
  },
  {
   "cell_type": "code",
   "execution_count": 3,
   "metadata": {
    "execution": {
     "iopub.execute_input": "2024-08-02T18:52:00.828998Z",
     "iopub.status.busy": "2024-08-02T18:52:00.828854Z",
     "iopub.status.idle": "2024-08-02T18:52:00.888511Z",
     "shell.execute_reply": "2024-08-02T18:52:00.888207Z",
     "shell.execute_reply.started": "2024-08-02T18:52:00.828987Z"
    }
   },
   "outputs": [
    {
     "data": {
      "text/html": [
       "<div>\n",
       "<style scoped>\n",
       "    .dataframe tbody tr th:only-of-type {\n",
       "        vertical-align: middle;\n",
       "    }\n",
       "\n",
       "    .dataframe tbody tr th {\n",
       "        vertical-align: top;\n",
       "    }\n",
       "\n",
       "    .dataframe thead th {\n",
       "        text-align: right;\n",
       "    }\n",
       "</style>\n",
       "<table border=\"1\" class=\"dataframe\">\n",
       "  <thead>\n",
       "    <tr style=\"text-align: right;\">\n",
       "      <th></th>\n",
       "      <th>Supervision Type_Prison</th>\n",
       "      <th>Supervision Type_Work Release</th>\n",
       "      <th>Supervision End Reason_Discharged - Expiration of Sentence</th>\n",
       "      <th>Supervision End Reason_Parole Granted</th>\n",
       "      <th>Supervision End Reason_Paroled to Detainer - INS</th>\n",
       "      <th>Supervision End Reason_Paroled to Detainer - Iowa</th>\n",
       "      <th>Supervision End Reason_Paroled to Detainer - Out of State</th>\n",
       "      <th>Supervision End Reason_Paroled to Detainer - U.S. Marshall</th>\n",
       "      <th>Supervision End Reason_Paroled w/Immediate Discharge</th>\n",
       "      <th>Supervision End Reason_Released to Special Sentence</th>\n",
       "      <th>Supervision Offense Class_A Felony</th>\n",
       "      <th>Supervision Offense Class_Aggravated Misdemeanor</th>\n",
       "      <th>Supervision Offense Class_B Felony</th>\n",
       "      <th>Supervision Offense Class_C Felony</th>\n",
       "      <th>Supervision Offense Class_D Felony</th>\n",
       "      <th>Supervision Offense Class_Felony - Enhancement to Original Penalty</th>\n",
       "      <th>Supervision Offense Class_Felony - Mandatory Minimum</th>\n",
       "      <th>Supervision Offense Class_Other Felony</th>\n",
       "      <th>Supervision Offense Class_Serious Misdemeanor</th>\n",
       "      <th>Supervision Offense Class_Simple Misdemeanor</th>\n",
       "      <th>Supervision Offense Class_Special Sentence 2005</th>\n",
       "      <th>Supervision Offense Type_Drug</th>\n",
       "      <th>Supervision Offense Type_Other</th>\n",
       "      <th>Supervision Offense Type_Property</th>\n",
       "      <th>Supervision Offense Type_Public Order</th>\n",
       "      <th>Supervision Offense Type_Violent</th>\n",
       "      <th>Supervision Offense Subtype_Alcohol</th>\n",
       "      <th>Supervision Offense Subtype_Animals</th>\n",
       "      <th>Supervision Offense Subtype_Arson</th>\n",
       "      <th>Supervision Offense Subtype_Assault</th>\n",
       "      <th>Supervision Offense Subtype_Burglary</th>\n",
       "      <th>Supervision Offense Subtype_Drug Possession</th>\n",
       "      <th>Supervision Offense Subtype_Flight/Escape</th>\n",
       "      <th>Supervision Offense Subtype_Forgery/Fraud</th>\n",
       "      <th>Supervision Offense Subtype_Kidnap</th>\n",
       "      <th>Supervision Offense Subtype_Murder/Manslaughter</th>\n",
       "      <th>Supervision Offense Subtype_OWI</th>\n",
       "      <th>Supervision Offense Subtype_Other Criminal</th>\n",
       "      <th>Supervision Offense Subtype_Other Drug</th>\n",
       "      <th>Supervision Offense Subtype_Other Government</th>\n",
       "      <th>Supervision Offense Subtype_Other Public Order</th>\n",
       "      <th>Supervision Offense Subtype_Other Violent</th>\n",
       "      <th>Supervision Offense Subtype_Prostitution/Pimping</th>\n",
       "      <th>Supervision Offense Subtype_Robbery</th>\n",
       "      <th>Supervision Offense Subtype_Sex</th>\n",
       "      <th>Supervision Offense Subtype_Stolen Property</th>\n",
       "      <th>Supervision Offense Subtype_Theft</th>\n",
       "      <th>Supervision Offense Subtype_Traffic</th>\n",
       "      <th>Supervision Offense Subtype_Trafficking</th>\n",
       "      <th>Supervision Offense Subtype_Vandalism</th>\n",
       "      <th>Supervision Offense Subtype_Weapons</th>\n",
       "      <th>Race</th>\n",
       "      <th>Sex</th>\n",
       "      <th>Age</th>\n",
       "      <th>Months Supervised</th>\n",
       "      <th>Reincarcerated</th>\n",
       "    </tr>\n",
       "    <tr>\n",
       "      <th>Offender Number</th>\n",
       "      <th></th>\n",
       "      <th></th>\n",
       "      <th></th>\n",
       "      <th></th>\n",
       "      <th></th>\n",
       "      <th></th>\n",
       "      <th></th>\n",
       "      <th></th>\n",
       "      <th></th>\n",
       "      <th></th>\n",
       "      <th></th>\n",
       "      <th></th>\n",
       "      <th></th>\n",
       "      <th></th>\n",
       "      <th></th>\n",
       "      <th></th>\n",
       "      <th></th>\n",
       "      <th></th>\n",
       "      <th></th>\n",
       "      <th></th>\n",
       "      <th></th>\n",
       "      <th></th>\n",
       "      <th></th>\n",
       "      <th></th>\n",
       "      <th></th>\n",
       "      <th></th>\n",
       "      <th></th>\n",
       "      <th></th>\n",
       "      <th></th>\n",
       "      <th></th>\n",
       "      <th></th>\n",
       "      <th></th>\n",
       "      <th></th>\n",
       "      <th></th>\n",
       "      <th></th>\n",
       "      <th></th>\n",
       "      <th></th>\n",
       "      <th></th>\n",
       "      <th></th>\n",
       "      <th></th>\n",
       "      <th></th>\n",
       "      <th></th>\n",
       "      <th></th>\n",
       "      <th></th>\n",
       "      <th></th>\n",
       "      <th></th>\n",
       "      <th></th>\n",
       "      <th></th>\n",
       "      <th></th>\n",
       "      <th></th>\n",
       "      <th></th>\n",
       "      <th></th>\n",
       "      <th></th>\n",
       "      <th></th>\n",
       "      <th></th>\n",
       "      <th></th>\n",
       "    </tr>\n",
       "  </thead>\n",
       "  <tbody>\n",
       "    <tr>\n",
       "      <th>614774</th>\n",
       "      <td>1.0</td>\n",
       "      <td>0.0</td>\n",
       "      <td>0.0</td>\n",
       "      <td>1.0</td>\n",
       "      <td>0.0</td>\n",
       "      <td>0.0</td>\n",
       "      <td>0.0</td>\n",
       "      <td>0.0</td>\n",
       "      <td>0.0</td>\n",
       "      <td>0.0</td>\n",
       "      <td>0.0</td>\n",
       "      <td>0.0</td>\n",
       "      <td>1.0</td>\n",
       "      <td>0.0</td>\n",
       "      <td>0.0</td>\n",
       "      <td>0.0</td>\n",
       "      <td>0.0</td>\n",
       "      <td>0.0</td>\n",
       "      <td>0.0</td>\n",
       "      <td>0.0</td>\n",
       "      <td>0.0</td>\n",
       "      <td>0.0</td>\n",
       "      <td>0.0</td>\n",
       "      <td>0.0</td>\n",
       "      <td>0.0</td>\n",
       "      <td>1.0</td>\n",
       "      <td>0.0</td>\n",
       "      <td>0.0</td>\n",
       "      <td>0.0</td>\n",
       "      <td>0.0</td>\n",
       "      <td>0.0</td>\n",
       "      <td>0.0</td>\n",
       "      <td>0.0</td>\n",
       "      <td>0.0</td>\n",
       "      <td>0.0</td>\n",
       "      <td>1.0</td>\n",
       "      <td>0.0</td>\n",
       "      <td>0.0</td>\n",
       "      <td>0.0</td>\n",
       "      <td>0.0</td>\n",
       "      <td>0.0</td>\n",
       "      <td>0.0</td>\n",
       "      <td>0.0</td>\n",
       "      <td>0.0</td>\n",
       "      <td>0.0</td>\n",
       "      <td>0.0</td>\n",
       "      <td>0.0</td>\n",
       "      <td>0.0</td>\n",
       "      <td>0.0</td>\n",
       "      <td>0.0</td>\n",
       "      <td>0.0</td>\n",
       "      <td>0.0</td>\n",
       "      <td>0.0</td>\n",
       "      <td>60.0</td>\n",
       "      <td>236.0</td>\n",
       "      <td>0</td>\n",
       "    </tr>\n",
       "    <tr>\n",
       "      <th>19154684</th>\n",
       "      <td>0.0</td>\n",
       "      <td>1.0</td>\n",
       "      <td>0.0</td>\n",
       "      <td>1.0</td>\n",
       "      <td>0.0</td>\n",
       "      <td>0.0</td>\n",
       "      <td>0.0</td>\n",
       "      <td>0.0</td>\n",
       "      <td>0.0</td>\n",
       "      <td>0.0</td>\n",
       "      <td>0.0</td>\n",
       "      <td>0.0</td>\n",
       "      <td>0.0</td>\n",
       "      <td>1.0</td>\n",
       "      <td>0.0</td>\n",
       "      <td>0.0</td>\n",
       "      <td>0.0</td>\n",
       "      <td>0.0</td>\n",
       "      <td>0.0</td>\n",
       "      <td>0.0</td>\n",
       "      <td>0.0</td>\n",
       "      <td>1.0</td>\n",
       "      <td>0.0</td>\n",
       "      <td>0.0</td>\n",
       "      <td>0.0</td>\n",
       "      <td>0.0</td>\n",
       "      <td>0.0</td>\n",
       "      <td>0.0</td>\n",
       "      <td>0.0</td>\n",
       "      <td>0.0</td>\n",
       "      <td>0.0</td>\n",
       "      <td>0.0</td>\n",
       "      <td>0.0</td>\n",
       "      <td>0.0</td>\n",
       "      <td>0.0</td>\n",
       "      <td>0.0</td>\n",
       "      <td>0.0</td>\n",
       "      <td>0.0</td>\n",
       "      <td>0.0</td>\n",
       "      <td>0.0</td>\n",
       "      <td>0.0</td>\n",
       "      <td>0.0</td>\n",
       "      <td>0.0</td>\n",
       "      <td>0.0</td>\n",
       "      <td>0.0</td>\n",
       "      <td>0.0</td>\n",
       "      <td>0.0</td>\n",
       "      <td>0.0</td>\n",
       "      <td>1.0</td>\n",
       "      <td>0.0</td>\n",
       "      <td>0.0</td>\n",
       "      <td>0.0</td>\n",
       "      <td>1.0</td>\n",
       "      <td>32.0</td>\n",
       "      <td>4.0</td>\n",
       "      <td>0</td>\n",
       "    </tr>\n",
       "    <tr>\n",
       "      <th>19189433</th>\n",
       "      <td>0.0</td>\n",
       "      <td>1.0</td>\n",
       "      <td>0.0</td>\n",
       "      <td>1.0</td>\n",
       "      <td>0.0</td>\n",
       "      <td>0.0</td>\n",
       "      <td>0.0</td>\n",
       "      <td>0.0</td>\n",
       "      <td>0.0</td>\n",
       "      <td>0.0</td>\n",
       "      <td>0.0</td>\n",
       "      <td>0.0</td>\n",
       "      <td>0.0</td>\n",
       "      <td>1.0</td>\n",
       "      <td>0.0</td>\n",
       "      <td>0.0</td>\n",
       "      <td>0.0</td>\n",
       "      <td>0.0</td>\n",
       "      <td>0.0</td>\n",
       "      <td>0.0</td>\n",
       "      <td>0.0</td>\n",
       "      <td>1.0</td>\n",
       "      <td>0.0</td>\n",
       "      <td>0.0</td>\n",
       "      <td>0.0</td>\n",
       "      <td>0.0</td>\n",
       "      <td>0.0</td>\n",
       "      <td>0.0</td>\n",
       "      <td>0.0</td>\n",
       "      <td>0.0</td>\n",
       "      <td>0.0</td>\n",
       "      <td>0.0</td>\n",
       "      <td>0.0</td>\n",
       "      <td>0.0</td>\n",
       "      <td>0.0</td>\n",
       "      <td>0.0</td>\n",
       "      <td>0.0</td>\n",
       "      <td>0.0</td>\n",
       "      <td>0.0</td>\n",
       "      <td>0.0</td>\n",
       "      <td>0.0</td>\n",
       "      <td>0.0</td>\n",
       "      <td>0.0</td>\n",
       "      <td>0.0</td>\n",
       "      <td>0.0</td>\n",
       "      <td>0.0</td>\n",
       "      <td>0.0</td>\n",
       "      <td>0.0</td>\n",
       "      <td>1.0</td>\n",
       "      <td>0.0</td>\n",
       "      <td>0.0</td>\n",
       "      <td>1.0</td>\n",
       "      <td>0.0</td>\n",
       "      <td>27.0</td>\n",
       "      <td>7.0</td>\n",
       "      <td>0</td>\n",
       "    </tr>\n",
       "    <tr>\n",
       "      <th>147731</th>\n",
       "      <td>0.0</td>\n",
       "      <td>1.0</td>\n",
       "      <td>0.0</td>\n",
       "      <td>1.0</td>\n",
       "      <td>0.0</td>\n",
       "      <td>0.0</td>\n",
       "      <td>0.0</td>\n",
       "      <td>0.0</td>\n",
       "      <td>0.0</td>\n",
       "      <td>0.0</td>\n",
       "      <td>0.0</td>\n",
       "      <td>0.0</td>\n",
       "      <td>1.0</td>\n",
       "      <td>0.0</td>\n",
       "      <td>0.0</td>\n",
       "      <td>0.0</td>\n",
       "      <td>0.0</td>\n",
       "      <td>0.0</td>\n",
       "      <td>0.0</td>\n",
       "      <td>0.0</td>\n",
       "      <td>0.0</td>\n",
       "      <td>0.0</td>\n",
       "      <td>0.0</td>\n",
       "      <td>0.0</td>\n",
       "      <td>0.0</td>\n",
       "      <td>1.0</td>\n",
       "      <td>0.0</td>\n",
       "      <td>0.0</td>\n",
       "      <td>0.0</td>\n",
       "      <td>0.0</td>\n",
       "      <td>0.0</td>\n",
       "      <td>0.0</td>\n",
       "      <td>0.0</td>\n",
       "      <td>0.0</td>\n",
       "      <td>0.0</td>\n",
       "      <td>0.0</td>\n",
       "      <td>0.0</td>\n",
       "      <td>0.0</td>\n",
       "      <td>0.0</td>\n",
       "      <td>0.0</td>\n",
       "      <td>0.0</td>\n",
       "      <td>0.0</td>\n",
       "      <td>0.0</td>\n",
       "      <td>1.0</td>\n",
       "      <td>0.0</td>\n",
       "      <td>0.0</td>\n",
       "      <td>0.0</td>\n",
       "      <td>0.0</td>\n",
       "      <td>0.0</td>\n",
       "      <td>0.0</td>\n",
       "      <td>0.0</td>\n",
       "      <td>1.0</td>\n",
       "      <td>0.0</td>\n",
       "      <td>50.0</td>\n",
       "      <td>3.0</td>\n",
       "      <td>0</td>\n",
       "    </tr>\n",
       "    <tr>\n",
       "      <th>19234385</th>\n",
       "      <td>0.0</td>\n",
       "      <td>1.0</td>\n",
       "      <td>0.0</td>\n",
       "      <td>1.0</td>\n",
       "      <td>0.0</td>\n",
       "      <td>0.0</td>\n",
       "      <td>0.0</td>\n",
       "      <td>0.0</td>\n",
       "      <td>0.0</td>\n",
       "      <td>0.0</td>\n",
       "      <td>0.0</td>\n",
       "      <td>0.0</td>\n",
       "      <td>0.0</td>\n",
       "      <td>1.0</td>\n",
       "      <td>0.0</td>\n",
       "      <td>0.0</td>\n",
       "      <td>0.0</td>\n",
       "      <td>0.0</td>\n",
       "      <td>0.0</td>\n",
       "      <td>0.0</td>\n",
       "      <td>0.0</td>\n",
       "      <td>1.0</td>\n",
       "      <td>0.0</td>\n",
       "      <td>0.0</td>\n",
       "      <td>0.0</td>\n",
       "      <td>0.0</td>\n",
       "      <td>0.0</td>\n",
       "      <td>0.0</td>\n",
       "      <td>0.0</td>\n",
       "      <td>0.0</td>\n",
       "      <td>0.0</td>\n",
       "      <td>0.0</td>\n",
       "      <td>0.0</td>\n",
       "      <td>0.0</td>\n",
       "      <td>0.0</td>\n",
       "      <td>0.0</td>\n",
       "      <td>0.0</td>\n",
       "      <td>0.0</td>\n",
       "      <td>0.0</td>\n",
       "      <td>0.0</td>\n",
       "      <td>0.0</td>\n",
       "      <td>0.0</td>\n",
       "      <td>0.0</td>\n",
       "      <td>0.0</td>\n",
       "      <td>0.0</td>\n",
       "      <td>0.0</td>\n",
       "      <td>0.0</td>\n",
       "      <td>0.0</td>\n",
       "      <td>1.0</td>\n",
       "      <td>0.0</td>\n",
       "      <td>0.0</td>\n",
       "      <td>0.0</td>\n",
       "      <td>0.0</td>\n",
       "      <td>31.0</td>\n",
       "      <td>4.0</td>\n",
       "      <td>1</td>\n",
       "    </tr>\n",
       "  </tbody>\n",
       "</table>\n",
       "</div>"
      ],
      "text/plain": [
       "                 Supervision Type_Prison  Supervision Type_Work Release  \\\n",
       "Offender Number                                                           \n",
       "614774                               1.0                            0.0   \n",
       "19154684                             0.0                            1.0   \n",
       "19189433                             0.0                            1.0   \n",
       "147731                               0.0                            1.0   \n",
       "19234385                             0.0                            1.0   \n",
       "\n",
       "                 Supervision End Reason_Discharged - Expiration of Sentence  \\\n",
       "Offender Number                                                               \n",
       "614774                                                         0.0            \n",
       "19154684                                                       0.0            \n",
       "19189433                                                       0.0            \n",
       "147731                                                         0.0            \n",
       "19234385                                                       0.0            \n",
       "\n",
       "                 Supervision End Reason_Parole Granted  \\\n",
       "Offender Number                                          \n",
       "614774                                             1.0   \n",
       "19154684                                           1.0   \n",
       "19189433                                           1.0   \n",
       "147731                                             1.0   \n",
       "19234385                                           1.0   \n",
       "\n",
       "                 Supervision End Reason_Paroled to Detainer - INS  \\\n",
       "Offender Number                                                     \n",
       "614774                                                        0.0   \n",
       "19154684                                                      0.0   \n",
       "19189433                                                      0.0   \n",
       "147731                                                        0.0   \n",
       "19234385                                                      0.0   \n",
       "\n",
       "                 Supervision End Reason_Paroled to Detainer - Iowa  \\\n",
       "Offender Number                                                      \n",
       "614774                                                         0.0   \n",
       "19154684                                                       0.0   \n",
       "19189433                                                       0.0   \n",
       "147731                                                         0.0   \n",
       "19234385                                                       0.0   \n",
       "\n",
       "                 Supervision End Reason_Paroled to Detainer - Out of State  \\\n",
       "Offender Number                                                              \n",
       "614774                                                         0.0           \n",
       "19154684                                                       0.0           \n",
       "19189433                                                       0.0           \n",
       "147731                                                         0.0           \n",
       "19234385                                                       0.0           \n",
       "\n",
       "                 Supervision End Reason_Paroled to Detainer - U.S. Marshall  \\\n",
       "Offender Number                                                               \n",
       "614774                                                         0.0            \n",
       "19154684                                                       0.0            \n",
       "19189433                                                       0.0            \n",
       "147731                                                         0.0            \n",
       "19234385                                                       0.0            \n",
       "\n",
       "                 Supervision End Reason_Paroled w/Immediate Discharge  \\\n",
       "Offender Number                                                         \n",
       "614774                                                         0.0      \n",
       "19154684                                                       0.0      \n",
       "19189433                                                       0.0      \n",
       "147731                                                         0.0      \n",
       "19234385                                                       0.0      \n",
       "\n",
       "                 Supervision End Reason_Released to Special Sentence  \\\n",
       "Offender Number                                                        \n",
       "614774                                                         0.0     \n",
       "19154684                                                       0.0     \n",
       "19189433                                                       0.0     \n",
       "147731                                                         0.0     \n",
       "19234385                                                       0.0     \n",
       "\n",
       "                 Supervision Offense Class_A Felony  \\\n",
       "Offender Number                                       \n",
       "614774                                          0.0   \n",
       "19154684                                        0.0   \n",
       "19189433                                        0.0   \n",
       "147731                                          0.0   \n",
       "19234385                                        0.0   \n",
       "\n",
       "                 Supervision Offense Class_Aggravated Misdemeanor  \\\n",
       "Offender Number                                                     \n",
       "614774                                                        0.0   \n",
       "19154684                                                      0.0   \n",
       "19189433                                                      0.0   \n",
       "147731                                                        0.0   \n",
       "19234385                                                      0.0   \n",
       "\n",
       "                 Supervision Offense Class_B Felony  \\\n",
       "Offender Number                                       \n",
       "614774                                          1.0   \n",
       "19154684                                        0.0   \n",
       "19189433                                        0.0   \n",
       "147731                                          1.0   \n",
       "19234385                                        0.0   \n",
       "\n",
       "                 Supervision Offense Class_C Felony  \\\n",
       "Offender Number                                       \n",
       "614774                                          0.0   \n",
       "19154684                                        1.0   \n",
       "19189433                                        1.0   \n",
       "147731                                          0.0   \n",
       "19234385                                        1.0   \n",
       "\n",
       "                 Supervision Offense Class_D Felony  \\\n",
       "Offender Number                                       \n",
       "614774                                          0.0   \n",
       "19154684                                        0.0   \n",
       "19189433                                        0.0   \n",
       "147731                                          0.0   \n",
       "19234385                                        0.0   \n",
       "\n",
       "                 Supervision Offense Class_Felony - Enhancement to Original Penalty  \\\n",
       "Offender Number                                                                       \n",
       "614774                                                         0.0                    \n",
       "19154684                                                       0.0                    \n",
       "19189433                                                       0.0                    \n",
       "147731                                                         0.0                    \n",
       "19234385                                                       0.0                    \n",
       "\n",
       "                 Supervision Offense Class_Felony - Mandatory Minimum  \\\n",
       "Offender Number                                                         \n",
       "614774                                                         0.0      \n",
       "19154684                                                       0.0      \n",
       "19189433                                                       0.0      \n",
       "147731                                                         0.0      \n",
       "19234385                                                       0.0      \n",
       "\n",
       "                 Supervision Offense Class_Other Felony  \\\n",
       "Offender Number                                           \n",
       "614774                                              0.0   \n",
       "19154684                                            0.0   \n",
       "19189433                                            0.0   \n",
       "147731                                              0.0   \n",
       "19234385                                            0.0   \n",
       "\n",
       "                 Supervision Offense Class_Serious Misdemeanor  \\\n",
       "Offender Number                                                  \n",
       "614774                                                     0.0   \n",
       "19154684                                                   0.0   \n",
       "19189433                                                   0.0   \n",
       "147731                                                     0.0   \n",
       "19234385                                                   0.0   \n",
       "\n",
       "                 Supervision Offense Class_Simple Misdemeanor  \\\n",
       "Offender Number                                                 \n",
       "614774                                                    0.0   \n",
       "19154684                                                  0.0   \n",
       "19189433                                                  0.0   \n",
       "147731                                                    0.0   \n",
       "19234385                                                  0.0   \n",
       "\n",
       "                 Supervision Offense Class_Special Sentence 2005  \\\n",
       "Offender Number                                                    \n",
       "614774                                                       0.0   \n",
       "19154684                                                     0.0   \n",
       "19189433                                                     0.0   \n",
       "147731                                                       0.0   \n",
       "19234385                                                     0.0   \n",
       "\n",
       "                 Supervision Offense Type_Drug  \\\n",
       "Offender Number                                  \n",
       "614774                                     0.0   \n",
       "19154684                                   1.0   \n",
       "19189433                                   1.0   \n",
       "147731                                     0.0   \n",
       "19234385                                   1.0   \n",
       "\n",
       "                 Supervision Offense Type_Other  \\\n",
       "Offender Number                                   \n",
       "614774                                      0.0   \n",
       "19154684                                    0.0   \n",
       "19189433                                    0.0   \n",
       "147731                                      0.0   \n",
       "19234385                                    0.0   \n",
       "\n",
       "                 Supervision Offense Type_Property  \\\n",
       "Offender Number                                      \n",
       "614774                                         0.0   \n",
       "19154684                                       0.0   \n",
       "19189433                                       0.0   \n",
       "147731                                         0.0   \n",
       "19234385                                       0.0   \n",
       "\n",
       "                 Supervision Offense Type_Public Order  \\\n",
       "Offender Number                                          \n",
       "614774                                             0.0   \n",
       "19154684                                           0.0   \n",
       "19189433                                           0.0   \n",
       "147731                                             0.0   \n",
       "19234385                                           0.0   \n",
       "\n",
       "                 Supervision Offense Type_Violent  \\\n",
       "Offender Number                                     \n",
       "614774                                        1.0   \n",
       "19154684                                      0.0   \n",
       "19189433                                      0.0   \n",
       "147731                                        1.0   \n",
       "19234385                                      0.0   \n",
       "\n",
       "                 Supervision Offense Subtype_Alcohol  \\\n",
       "Offender Number                                        \n",
       "614774                                           0.0   \n",
       "19154684                                         0.0   \n",
       "19189433                                         0.0   \n",
       "147731                                           0.0   \n",
       "19234385                                         0.0   \n",
       "\n",
       "                 Supervision Offense Subtype_Animals  \\\n",
       "Offender Number                                        \n",
       "614774                                           0.0   \n",
       "19154684                                         0.0   \n",
       "19189433                                         0.0   \n",
       "147731                                           0.0   \n",
       "19234385                                         0.0   \n",
       "\n",
       "                 Supervision Offense Subtype_Arson  \\\n",
       "Offender Number                                      \n",
       "614774                                         0.0   \n",
       "19154684                                       0.0   \n",
       "19189433                                       0.0   \n",
       "147731                                         0.0   \n",
       "19234385                                       0.0   \n",
       "\n",
       "                 Supervision Offense Subtype_Assault  \\\n",
       "Offender Number                                        \n",
       "614774                                           0.0   \n",
       "19154684                                         0.0   \n",
       "19189433                                         0.0   \n",
       "147731                                           0.0   \n",
       "19234385                                         0.0   \n",
       "\n",
       "                 Supervision Offense Subtype_Burglary  \\\n",
       "Offender Number                                         \n",
       "614774                                            0.0   \n",
       "19154684                                          0.0   \n",
       "19189433                                          0.0   \n",
       "147731                                            0.0   \n",
       "19234385                                          0.0   \n",
       "\n",
       "                 Supervision Offense Subtype_Drug Possession  \\\n",
       "Offender Number                                                \n",
       "614774                                                   0.0   \n",
       "19154684                                                 0.0   \n",
       "19189433                                                 0.0   \n",
       "147731                                                   0.0   \n",
       "19234385                                                 0.0   \n",
       "\n",
       "                 Supervision Offense Subtype_Flight/Escape  \\\n",
       "Offender Number                                              \n",
       "614774                                                 0.0   \n",
       "19154684                                               0.0   \n",
       "19189433                                               0.0   \n",
       "147731                                                 0.0   \n",
       "19234385                                               0.0   \n",
       "\n",
       "                 Supervision Offense Subtype_Forgery/Fraud  \\\n",
       "Offender Number                                              \n",
       "614774                                                 0.0   \n",
       "19154684                                               0.0   \n",
       "19189433                                               0.0   \n",
       "147731                                                 0.0   \n",
       "19234385                                               0.0   \n",
       "\n",
       "                 Supervision Offense Subtype_Kidnap  \\\n",
       "Offender Number                                       \n",
       "614774                                          0.0   \n",
       "19154684                                        0.0   \n",
       "19189433                                        0.0   \n",
       "147731                                          0.0   \n",
       "19234385                                        0.0   \n",
       "\n",
       "                 Supervision Offense Subtype_Murder/Manslaughter  \\\n",
       "Offender Number                                                    \n",
       "614774                                                       1.0   \n",
       "19154684                                                     0.0   \n",
       "19189433                                                     0.0   \n",
       "147731                                                       0.0   \n",
       "19234385                                                     0.0   \n",
       "\n",
       "                 Supervision Offense Subtype_OWI  \\\n",
       "Offender Number                                    \n",
       "614774                                       0.0   \n",
       "19154684                                     0.0   \n",
       "19189433                                     0.0   \n",
       "147731                                       0.0   \n",
       "19234385                                     0.0   \n",
       "\n",
       "                 Supervision Offense Subtype_Other Criminal  \\\n",
       "Offender Number                                               \n",
       "614774                                                  0.0   \n",
       "19154684                                                0.0   \n",
       "19189433                                                0.0   \n",
       "147731                                                  0.0   \n",
       "19234385                                                0.0   \n",
       "\n",
       "                 Supervision Offense Subtype_Other Drug  \\\n",
       "Offender Number                                           \n",
       "614774                                              0.0   \n",
       "19154684                                            0.0   \n",
       "19189433                                            0.0   \n",
       "147731                                              0.0   \n",
       "19234385                                            0.0   \n",
       "\n",
       "                 Supervision Offense Subtype_Other Government  \\\n",
       "Offender Number                                                 \n",
       "614774                                                    0.0   \n",
       "19154684                                                  0.0   \n",
       "19189433                                                  0.0   \n",
       "147731                                                    0.0   \n",
       "19234385                                                  0.0   \n",
       "\n",
       "                 Supervision Offense Subtype_Other Public Order  \\\n",
       "Offender Number                                                   \n",
       "614774                                                      0.0   \n",
       "19154684                                                    0.0   \n",
       "19189433                                                    0.0   \n",
       "147731                                                      0.0   \n",
       "19234385                                                    0.0   \n",
       "\n",
       "                 Supervision Offense Subtype_Other Violent  \\\n",
       "Offender Number                                              \n",
       "614774                                                 0.0   \n",
       "19154684                                               0.0   \n",
       "19189433                                               0.0   \n",
       "147731                                                 0.0   \n",
       "19234385                                               0.0   \n",
       "\n",
       "                 Supervision Offense Subtype_Prostitution/Pimping  \\\n",
       "Offender Number                                                     \n",
       "614774                                                        0.0   \n",
       "19154684                                                      0.0   \n",
       "19189433                                                      0.0   \n",
       "147731                                                        0.0   \n",
       "19234385                                                      0.0   \n",
       "\n",
       "                 Supervision Offense Subtype_Robbery  \\\n",
       "Offender Number                                        \n",
       "614774                                           0.0   \n",
       "19154684                                         0.0   \n",
       "19189433                                         0.0   \n",
       "147731                                           1.0   \n",
       "19234385                                         0.0   \n",
       "\n",
       "                 Supervision Offense Subtype_Sex  \\\n",
       "Offender Number                                    \n",
       "614774                                       0.0   \n",
       "19154684                                     0.0   \n",
       "19189433                                     0.0   \n",
       "147731                                       0.0   \n",
       "19234385                                     0.0   \n",
       "\n",
       "                 Supervision Offense Subtype_Stolen Property  \\\n",
       "Offender Number                                                \n",
       "614774                                                   0.0   \n",
       "19154684                                                 0.0   \n",
       "19189433                                                 0.0   \n",
       "147731                                                   0.0   \n",
       "19234385                                                 0.0   \n",
       "\n",
       "                 Supervision Offense Subtype_Theft  \\\n",
       "Offender Number                                      \n",
       "614774                                         0.0   \n",
       "19154684                                       0.0   \n",
       "19189433                                       0.0   \n",
       "147731                                         0.0   \n",
       "19234385                                       0.0   \n",
       "\n",
       "                 Supervision Offense Subtype_Traffic  \\\n",
       "Offender Number                                        \n",
       "614774                                           0.0   \n",
       "19154684                                         0.0   \n",
       "19189433                                         0.0   \n",
       "147731                                           0.0   \n",
       "19234385                                         0.0   \n",
       "\n",
       "                 Supervision Offense Subtype_Trafficking  \\\n",
       "Offender Number                                            \n",
       "614774                                               0.0   \n",
       "19154684                                             1.0   \n",
       "19189433                                             1.0   \n",
       "147731                                               0.0   \n",
       "19234385                                             1.0   \n",
       "\n",
       "                 Supervision Offense Subtype_Vandalism  \\\n",
       "Offender Number                                          \n",
       "614774                                             0.0   \n",
       "19154684                                           0.0   \n",
       "19189433                                           0.0   \n",
       "147731                                             0.0   \n",
       "19234385                                           0.0   \n",
       "\n",
       "                 Supervision Offense Subtype_Weapons  Race  Sex   Age  \\\n",
       "Offender Number                                                         \n",
       "614774                                           0.0   0.0  0.0  60.0   \n",
       "19154684                                         0.0   0.0  1.0  32.0   \n",
       "19189433                                         0.0   1.0  0.0  27.0   \n",
       "147731                                           0.0   1.0  0.0  50.0   \n",
       "19234385                                         0.0   0.0  0.0  31.0   \n",
       "\n",
       "                 Months Supervised  Reincarcerated  \n",
       "Offender Number                                     \n",
       "614774                       236.0               0  \n",
       "19154684                       4.0               0  \n",
       "19189433                       7.0               0  \n",
       "147731                         3.0               0  \n",
       "19234385                       4.0               1  "
      ]
     },
     "execution_count": 3,
     "metadata": {},
     "output_type": "execute_result"
    }
   ],
   "source": [
    "from sklearn.model_selection import train_test_split\n",
    "\n",
    "# Conventional train-test split\n",
    "train_df, test_df = train_test_split(df, test_size=0.3, random_state=42)\n",
    "\n",
    "# Preprocess the training set\n",
    "train_df = preprocessor.fit_transform(train_df)\n",
    "\n",
    "# Preprocess the test set\n",
    "test_df = preprocessor.transform(test_df)  # Example preprocessing step\n",
    "\n",
    "train_df.head()"
   ]
  },
  {
   "cell_type": "code",
   "execution_count": 4,
   "metadata": {
    "execution": {
     "iopub.execute_input": "2024-08-02T18:52:00.889137Z",
     "iopub.status.busy": "2024-08-02T18:52:00.889041Z",
     "iopub.status.idle": "2024-08-02T18:52:00.913534Z",
     "shell.execute_reply": "2024-08-02T18:52:00.913250Z",
     "shell.execute_reply.started": "2024-08-02T18:52:00.889127Z"
    }
   },
   "outputs": [
    {
     "data": {
      "text/plain": [
       "(17670, 7574)"
      ]
     },
     "execution_count": 4,
     "metadata": {},
     "output_type": "execute_result"
    }
   ],
   "source": [
    "\n",
    "# Convert to BinaryLabelDatasets\n",
    "train = BinaryLabelDataset(\n",
    "    favorable_label=0, # Not reincarcerated\n",
    "    unfavorable_label=1, # Reincarcerated\n",
    "    df=train_df,\n",
    "    label_names=['Reincarcerated'],\n",
    "    # protected_attribute_names=['Race',\"Sex\"]\n",
    "    protected_attribute_names = [\"Sex\"]\n",
    ")\n",
    "\n",
    "test = BinaryLabelDataset(\n",
    "    favorable_label=0,\n",
    "    unfavorable_label=1,\n",
    "    df=test_df,\n",
    "    label_names=['Reincarcerated'],\n",
    "    # protected_attribute_names=['Race',\"Sex\"]\n",
    "    protected_attribute_names = [\"Sex\"]\n",
    "\n",
    ")\n",
    "\n",
    "len(train.labels), len(test.labels)"
   ]
  },
  {
   "cell_type": "markdown",
   "metadata": {},
   "source": [
    "####"
   ]
  },
  {
   "cell_type": "markdown",
   "metadata": {},
   "source": [
    "We will use the traditional train-test-split method to split the dataset into training and testing sets. Many of the official AIF360 examples use pre-constructed datasets and do not acknowledge the data leakage issue."
   ]
  },
  {
   "cell_type": "markdown",
   "metadata": {},
   "source": [
    "### Assessing Model Bias "
   ]
  },
  {
   "cell_type": "markdown",
   "metadata": {},
   "source": [
    "Before we implement mitgation methods dataset, let' create a baseline model without bias mitigation and examine its fairness metrics."
   ]
  },
  {
   "cell_type": "markdown",
   "metadata": {},
   "source": [
    "We will use the following function to evaluate our machine learning models and to collect and compare their performance at the end of this post. "
   ]
  },
  {
   "cell_type": "code",
   "execution_count": 5,
   "metadata": {
    "execution": {
     "iopub.execute_input": "2024-08-02T18:52:00.914089Z",
     "iopub.status.busy": "2024-08-02T18:52:00.913983Z",
     "iopub.status.idle": "2024-08-02T18:52:00.917530Z",
     "shell.execute_reply": "2024-08-02T18:52:00.917231Z",
     "shell.execute_reply.started": "2024-08-02T18:52:00.914079Z"
    }
   },
   "outputs": [],
   "source": [
    "\n",
    "def evaluate_model(y_true, y_pred, output_dict=False, results_label=''):\n",
    "    \"\"\"\n",
    "    Evaluate the performance of a classification model by calculating classification metrics and displaying a confusion matrix.\n",
    "\n",
    "    Parameters:\n",
    "    - y_true (array-like): The true labels.\n",
    "    - y_pred (array-like): The predicted labels.\n",
    "    - output_dict (bool, optional): Whether to return the classification report as a dictionary. Default is False.\n",
    "    - results_label (str, optional): A label to identify the results. Default is an empty string.\n",
    "\n",
    "    Returns:\n",
    "    - If output_dict is True, a dictionary containing the classification report and the results label.\n",
    "    \"\"\"\n",
    "    print(f\"Classification Metrics: {results_label}\\n\\n\")\n",
    "\n",
    "    print(classification_report(y_true, y_pred))\n",
    "    ax = ConfusionMatrixDisplay.from_predictions(y_true, y_pred,\n",
    "                                            normalize='true',cmap='Greens',\n",
    "                                            display_labels=['Non-Recid','Recid'])\n",
    "    ax = plt.gca()\n",
    "    ax.set_title(f\"Confusion Matrix: {results_label}\")\n",
    "    plt.show()\n",
    "    \n",
    "    if output_dict==True:\n",
    "        report = classification_report(y_true, y_pred, output_dict=True)\n",
    "        report['Label'] = results_label\n",
    "        return report\n"
   ]
  },
  {
   "cell_type": "markdown",
   "metadata": {},
   "source": [
    "##### Baseline Model (No mitigation applied)"
   ]
  },
  {
   "cell_type": "markdown",
   "metadata": {},
   "source": [
    "We will be using a LogisticRegression model throughout this blog post for simplicity. However, this approach can be applied with any machine learning classification model."
   ]
  },
  {
   "cell_type": "code",
   "execution_count": 6,
   "metadata": {
    "execution": {
     "iopub.execute_input": "2024-08-02T18:52:00.919657Z",
     "iopub.status.busy": "2024-08-02T18:52:00.919532Z",
     "iopub.status.idle": "2024-08-02T18:52:01.291522Z",
     "shell.execute_reply": "2024-08-02T18:52:01.291118Z",
     "shell.execute_reply.started": "2024-08-02T18:52:00.919648Z"
    }
   },
   "outputs": [
    {
     "name": "stdout",
     "output_type": "stream",
     "text": [
      "Classification Metrics: Unmitigated Model\n",
      "\n",
      "\n",
      "              precision    recall  f1-score   support\n",
      "\n",
      "         0.0       0.74      0.57      0.64      4738\n",
      "         1.0       0.48      0.67      0.56      2836\n",
      "\n",
      "    accuracy                           0.61      7574\n",
      "   macro avg       0.61      0.62      0.60      7574\n",
      "weighted avg       0.64      0.61      0.61      7574\n",
      "\n"
     ]
    },
    {
     "data": {
      "image/png": "[encoded data removed]",
      "text/plain": [
       "<Figure size 640x480 with 2 Axes>"
      ]
     },
     "metadata": {},
     "output_type": "display_data"
    }
   ],
   "source": [
    "from sklearn.linear_model import LogisticRegression\n",
    "\n",
    "# Extract features and labels from the reweighed dataset\n",
    "X_train = train.features\n",
    "y_train = train.labels.ravel()\n",
    "\n",
    "X_test = test.features\n",
    "y_test = test.labels.ravel()\n",
    "\n",
    "# Train the model\n",
    "model =  LogisticRegression(solver='liblinear', class_weight='balanced', random_state=42)\n",
    "model.fit(X_train, y_train)\n",
    "eval_unmit = evaluate_model(y_test, model.predict(X_test), results_label='Unmitigated Model', output_dict=True) "
   ]
  },
  {
   "cell_type": "markdown",
   "metadata": {},
   "source": [
    "We can see that we have an overall accuracy of 61%, however, when examining the recall scores we can see that the model is more confident in predicting reincarceration(recid) than Non-Recidivism."
   ]
  },
  {
   "cell_type": "markdown",
   "metadata": {},
   "source": [
    "### Fairness Metrics - Model Predictions"
   ]
  },
  {
   "cell_type": "markdown",
   "metadata": {},
   "source": [
    "Evaluating the fairness of a machine learning model is crucial to ensure that the model does not exhibit bias towards any particular group. AI Fairness 360 provides the `ClassificationMetric` class, which offers a variety of fairness metrics to assess the performance of your models. In this section, we'll define key fairness metrics and demonstrate how to calculate them using AI Fairness 360.\n"
   ]
  },
  {
   "cell_type": "markdown",
   "metadata": {},
   "source": [
    "\n",
    "In order to use it, we must have a dataset of true values and a dataset of predicted values. Therefore, we will make a copy of the test dataset before overwriting the `.labels` "
   ]
  },
  {
   "cell_type": "code",
   "execution_count": 7,
   "metadata": {
    "execution": {
     "iopub.execute_input": "2024-08-02T18:52:01.292119Z",
     "iopub.status.busy": "2024-08-02T18:52:01.292028Z",
     "iopub.status.idle": "2024-08-02T18:52:01.295762Z",
     "shell.execute_reply": "2024-08-02T18:52:01.295360Z",
     "shell.execute_reply.started": "2024-08-02T18:52:01.292110Z"
    }
   },
   "outputs": [
    {
     "data": {
      "text/plain": [
       "aif360.datasets.binary_label_dataset.BinaryLabelDataset"
      ]
     },
     "execution_count": 7,
     "metadata": {},
     "output_type": "execute_result"
    }
   ],
   "source": [
    "type(test)"
   ]
  },
  {
   "cell_type": "code",
   "execution_count": 8,
   "metadata": {
    "execution": {
     "iopub.execute_input": "2024-08-02T18:52:01.296528Z",
     "iopub.status.busy": "2024-08-02T18:52:01.296423Z",
     "iopub.status.idle": "2024-08-02T18:52:06.787908Z",
     "shell.execute_reply": "2024-08-02T18:52:06.762538Z",
     "shell.execute_reply.started": "2024-08-02T18:52:01.296519Z"
    }
   },
   "outputs": [
    {
     "name": "stderr",
     "output_type": "stream",
     "text": [
      "/opt/homebrew/Caskroom/miniforge/base/envs/fair-env/lib/python3.12/site-packages/torch/_functorch/deprecated.py:61: UserWarning: We've integrated functorch into PyTorch. As the final step of the integration, functorch.vmap is deprecated as of PyTorch 2.0 and will be deleted in a future version of PyTorch >= 2.3. Please use torch.vmap instead; see the PyTorch 2.0 release notes and/or the torch.func migration guide for more details https://pytorch.org/docs/master/func.migrating.html\n",
      "  warn_deprecated('vmap', 'torch.vmap')\n"
     ]
    }
   ],
   "source": [
    "from aif360.metrics import ClassificationMetric\n",
    "from aif360.explainers import MetricTextExplainer\n",
    "\n",
    "# Get predictions\n",
    "y_pred = model.predict(X_test)\n",
    "\n",
    "# Create a new dataset with predictions\n",
    "test_pred = test.copy()\n",
    "test_pred.labels = y_pred\n",
    "\n",
    "\n",
    "# Define privileged and unprivileged groups\n",
    "privileged_groups = [{'Sex': 0}]  # Male\n",
    "unprivileged_groups = [{'Sex': 1}]  # Female/Other\n",
    "\n",
    "\n",
    "# Evaluate fairness\n",
    "metric = ClassificationMetric(\n",
    "    test,\n",
    "    test_pred,\n",
    "    unprivileged_groups=unprivileged_groups,\n",
    "    privileged_groups=privileged_groups\n",
    ")\n",
    "\n",
    "explainer = MetricTextExplainer(metric)"
   ]
  },
  {
   "cell_type": "markdown",
   "metadata": {},
   "source": [
    "\n",
    "\n",
    "#### **Key Fairness Metrics**\n",
    "\n",
    "1. **Disparate Impact**: Measures the ratio of the favorable outcome rates between the unprivileged and privileged groups. \n",
    "\n",
    "   $$\n",
    "   \\text{Disparate Impact} = \\frac{\\text{P(y=1|unprivileged)}}{\\text{P(y=1|privileged)}}\n",
    "   $$\n",
    "\n",
    "\n",
    "- A value close to 1 indicates fairness.\n",
    "- A value less than 1 indicates bias toward predicting positive outcomes for the privileged class.\n",
    "- A value greater than 1 indicates bias towards the unpriviledged class.\n"
   ]
  },
  {
   "cell_type": "code",
   "execution_count": 9,
   "metadata": {
    "execution": {
     "iopub.execute_input": "2024-08-02T18:52:06.789760Z",
     "iopub.status.busy": "2024-08-02T18:52:06.789104Z",
     "iopub.status.idle": "2024-08-02T18:52:06.832669Z",
     "shell.execute_reply": "2024-08-02T18:52:06.829583Z",
     "shell.execute_reply.started": "2024-08-02T18:52:06.789734Z"
    }
   },
   "outputs": [
    {
     "name": "stdout",
     "output_type": "stream",
     "text": [
      "Disparate Impact: 1.56\n",
      "Disparate impact (probability of favorable outcome for unprivileged instances / probability of favorable outcome for privileged instances): 1.5575745625603374\n"
     ]
    }
   ],
   "source": [
    "# Disparate Impact\n",
    "disparate_impact = metric.disparate_impact()\n",
    "print(f\"Disparate Impact: {disparate_impact:.2f}\")\n",
    "\n",
    "print(explainer.disparate_impact())"
   ]
  },
  {
   "cell_type": "markdown",
   "metadata": {},
   "source": [
    "We can see that, with a value of 1.56, which is significantly than 1, indicating that our baseline model is biased towards predicting a favorable outcome for the unprivileged class."
   ]
  },
  {
   "cell_type": "markdown",
   "metadata": {},
   "source": [
    "\n",
    "2. **Statistical Parity Difference**: The difference in the probability of favorable outcomes between the unprivileged and privileged groups. \n",
    "\n",
    "   $$\n",
    "   \\text{Statistical Parity Difference} = \\text{P(y=1|unprivileged)} - \\text{P(y=1|privileged)}\n",
    "   $$\n",
    "   \n",
    "- Value close to 0 indicates fairness.\n",
    "- Negative Value indicates that the unprivileged group has a lower probability of receiving positive outcomes compared to the privileged group.\n",
    "- Positive Value indicates the privileged group has a lower probability of receiving positive outcomes compare to the unprivileged group."
   ]
  },
  {
   "cell_type": "code",
   "execution_count": 10,
   "metadata": {
    "execution": {
     "iopub.execute_input": "2024-08-02T18:52:06.834588Z",
     "iopub.status.busy": "2024-08-02T18:52:06.834079Z",
     "iopub.status.idle": "2024-08-02T18:52:06.852850Z",
     "shell.execute_reply": "2024-08-02T18:52:06.852034Z",
     "shell.execute_reply.started": "2024-08-02T18:52:06.834553Z"
    }
   },
   "outputs": [
    {
     "name": "stdout",
     "output_type": "stream",
     "text": [
      "Statistical Parity Difference: 0.25\n",
      "Statistical parity difference (probability of favorable outcome for unprivileged instances - probability of favorable outcome for privileged instances): 0.24767723324582192\n"
     ]
    }
   ],
   "source": [
    "# Statistical Parity Difference\n",
    "statistical_parity_difference = metric.statistical_parity_difference()\n",
    "print(f\"Statistical Parity Difference: {statistical_parity_difference:.2f}\")\n",
    "\n",
    "print(explainer.statistical_parity_difference())"
   ]
  },
  {
   "cell_type": "markdown",
   "metadata": {},
   "source": [
    "We can see that unprivileged classes are 4% less likely to be predicted to receive a positive predictio than the privileged class."
   ]
  },
  {
   "cell_type": "markdown",
   "metadata": {},
   "source": [
    "\n",
    "3. **Equal Opportunity Difference**: The difference in the true positive rates between the unprivileged and privileged groups. \n",
    "\n",
    "\n",
    "\n",
    "   $$\n",
    "   \\text{Equal Opportunity Difference} = \\text{TPR(unprivileged)} - \\text{TPR(privileged)}\n",
    "   $$\n",
    "   \n",
    "-\tValue Close to 0: A value close to 0 suggests that the model has similar true positive rates for both groups, indicating fairness in terms of equal opportunity.\n",
    "\n",
    "-\tPositive Value: A positive Equal Opportunity Difference indicates that the unprivileged group has a higher true positive rate compared to the privileged group.\n",
    "-\tNegative Value: A negative Equal Opportunity Difference indicates that the unprivileged group has a lower true positive rate compared to the privileged group."
   ]
  },
  {
   "cell_type": "code",
   "execution_count": 11,
   "metadata": {
    "execution": {
     "iopub.execute_input": "2024-08-02T18:52:06.856550Z",
     "iopub.status.busy": "2024-08-02T18:52:06.856194Z",
     "iopub.status.idle": "2024-08-02T18:52:06.894604Z",
     "shell.execute_reply": "2024-08-02T18:52:06.888796Z",
     "shell.execute_reply.started": "2024-08-02T18:52:06.856514Z"
    }
   },
   "outputs": [
    {
     "name": "stdout",
     "output_type": "stream",
     "text": [
      "Equal Opportunity Difference: 0.19\n",
      "True positive rate difference (true positive rate on unprivileged instances - true positive rate on privileged instances): 0.19284858787621217\n"
     ]
    }
   ],
   "source": [
    "# Equal Opportunity Difference\n",
    "equal_opportunity_difference = metric.equal_opportunity_difference()\n",
    "print(f\"Equal Opportunity Difference: {equal_opportunity_difference:.2f}\")\n",
    "\n",
    "print(explainer.equal_opportunity_difference())"
   ]
  },
  {
   "cell_type": "markdown",
   "metadata": {},
   "source": [
    "\n",
    "4. **Average Odds Difference**: The average difference in false positive rates (FPR) and true positive rates (TPR) between the unprivileged and privileged groups. \n",
    "\n",
    "\n",
    "   $$\n",
    "   \\text{Average Odds Difference} = \\frac{1}{2}[(\\text{FPR(unprivileged)} - \\text{FPR(privileged)}) + (\\text{TPR(unprivileged)} - \\text{TPR(privileged)})]\n",
    "   $$\n",
    "\n",
    "- Value Close to 0: A value close to 0 suggests that the model’s TPR and FPR are similar for both groups, indicating fairness in terms of both positive and negative outcomes.\n",
    "- Positive Value: A positive Average Odds Difference indicates that the unprivileged group has higher FPR and/or higher TPR compared to the privileged group.\n",
    "- Negative Value: A negative Average Odds Difference indicates that the unprivileged group has lower FPR and/or lower TPR compared to the privileged group."
   ]
  },
  {
   "cell_type": "code",
   "execution_count": 12,
   "metadata": {
    "execution": {
     "iopub.execute_input": "2024-08-02T18:52:06.896375Z",
     "iopub.status.busy": "2024-08-02T18:52:06.896178Z",
     "iopub.status.idle": "2024-08-02T18:52:06.929435Z",
     "shell.execute_reply": "2024-08-02T18:52:06.928623Z",
     "shell.execute_reply.started": "2024-08-02T18:52:06.896353Z"
    }
   },
   "outputs": [
    {
     "name": "stdout",
     "output_type": "stream",
     "text": [
      "Average Odds Difference: 0.25\n",
      "Average odds difference (average of TPR difference and FPR difference, 0 = equality of odds): 0.25029379501431104\n"
     ]
    }
   ],
   "source": [
    "# Average Odds Difference\n",
    "average_odds_difference = metric.average_odds_difference()\n",
    "print(f\"Average Odds Difference: {average_odds_difference:.2f}\")\n",
    "\n",
    "print(explainer.average_odds_difference())"
   ]
  },
  {
   "cell_type": "markdown",
   "metadata": {},
   "source": [
    "\n",
    "##### **Metric Interpretation - Rules of Thumb**\n",
    "\n",
    "| Metric                        | Definition                                                                                       | Interpretation                                                                                       | Threshold for Significant Bias                        | Bias Directionality                                            |\n",
    "|-------------------------------|--------------------------------------------------------------------------------------------------|------------------------------------------------------------------------------------------------------|--------------------------------------------------------|------------------------------------------------------------------|\n",
    "| **Disparate Impact**          | Ratio of favorable outcomes between unprivileged and privileged groups.                          | 1 implies perfect fairness.                                                                         | < 0.8 or > 1.25                                         | < 0.8: Against unprivileged<br> > 1.25: Against privileged       |\n",
    "| **Statistical Parity Difference** | Difference in probability of favorable outcomes between unprivileged and privileged groups.     | 0 indicates similar favorable outcomes for both groups.                                              | < -0.1 or > 0.1                                         | < 0: Against unprivileged<br> > 0: Against privileged            |\n",
    "| **Equal Opportunity Difference** | Difference in true positive rates between unprivileged and privileged groups.                   | 0 suggests equal positive prediction rates for both groups.                                          | < -0.1 or > 0.1                                         | < 0: Against unprivileged<br> > 0: Against privileged            |\n",
    "| **Average Odds Difference**   | Average difference in false positive and true positive rates between unprivileged and privileged groups. | 0 indicates similar error rates across both groups.                                                 | < -0.1 or > 0.1                                         | < 0: Against unprivileged<br> > 0: Against privileged            |\n",
    "\n",
    "By calculating these fairness metrics, we can assess the performance and fairness of our baseline logistic regression model. In the next section, we will apply the Reweighing technique to mitigate bias in the dataset and re-evaluate these metrics to observe the improvements in fairness.\n"
   ]
  },
  {
   "cell_type": "code",
   "execution_count": 13,
   "metadata": {
    "execution": {
     "iopub.execute_input": "2024-08-02T18:52:06.931571Z",
     "iopub.status.busy": "2024-08-02T18:52:06.930930Z",
     "iopub.status.idle": "2024-08-02T18:52:06.990045Z",
     "shell.execute_reply": "2024-08-02T18:52:06.989016Z",
     "shell.execute_reply.started": "2024-08-02T18:52:06.931436Z"
    }
   },
   "outputs": [
    {
     "data": {
      "text/plain": [
       "[{'Sex': 0}]"
      ]
     },
     "execution_count": 13,
     "metadata": {},
     "output_type": "execute_result"
    }
   ],
   "source": [
    "privileged_groups"
   ]
  },
  {
   "cell_type": "markdown",
   "metadata": {},
   "source": [
    "### Putting it All Together"
   ]
  },
  {
   "cell_type": "code",
   "execution_count": 14,
   "metadata": {
    "execution": {
     "iopub.execute_input": "2024-08-02T18:52:06.992656Z",
     "iopub.status.busy": "2024-08-02T18:52:06.991163Z",
     "iopub.status.idle": "2024-08-02T18:52:07.018978Z",
     "shell.execute_reply": "2024-08-02T18:52:07.018497Z",
     "shell.execute_reply.started": "2024-08-02T18:52:06.992635Z"
    }
   },
   "outputs": [],
   "source": [
    "from aif360.metrics import ClassificationMetric\n",
    "\n",
    "def evaluate_fairness(test, y_pred, unprivileged_groups, privileged_groups,\n",
    "                      verbose=True, output_dict=False, convert_to_dataset=True, \n",
    "                      results_label=\"\"):\n",
    "    \"\"\"\n",
    "    Evaluates the fairness of a machine learning model's predictions.\n",
    "\n",
    "    Parameters:\n",
    "    - test (Dataset): The test dataset used for evaluation.\n",
    "    - y_pred (array-like): The predicted labels for the test dataset.\n",
    "    - unprivileged_groups (list of dicts): The unprivileged groups for fairness evaluation. e.g.,[{'Sex': 1}]\n",
    "    - privileged_groups (list of dicts): The privileged groups for fairness evaluation.e.g., [{'Sex': 0}]\n",
    "    - verbose (bool, optional): Whether to print the fairness metrics. Defaults to True.\n",
    "    - output_dict (bool, optional): Whether to return the fairness metrics as a dictionary. Defaults to False.\n",
    "    - convert_to_dataset (bool, optional): Whether to convert the test dataset to a new dataset with predictions. Defaults to True.\n",
    "    - results_label (str, optional): A label for the fairness metrics. Defaults to \"\". Also used as value for \"Label\" key in results dict.\n",
    "\n",
    "    Returns:\n",
    "    - metrics_dict (dict, optional): A dictionary containing the fairness metrics if output_dict is True.\n",
    "\n",
    "    \"\"\"\n",
    "    # Create a new dataset with predictions\n",
    "    if convert_to_dataset:\n",
    "        test_pred = test.copy()\n",
    "        test_pred.labels = y_pred\n",
    "    else:\n",
    "        test_pred = y_pred\n",
    "\n",
    "    # Evaluate fairness\n",
    "    metric = ClassificationMetric(\n",
    "        test,\n",
    "        test_pred,\n",
    "        unprivileged_groups=unprivileged_groups,\n",
    "        privileged_groups=privileged_groups\n",
    "    )\n",
    "    \n",
    "    print(f\"Fairness Metrics: {results_label}\")\n",
    "    \n",
    "    metrics_dict = {\n",
    "        \"Disparate Impact\": metric.disparate_impact(),\n",
    "        \"Statistical Parity Difference\": metric.statistical_parity_difference(),\n",
    "        \"Equal Opportunity Difference\": metric.equal_opportunity_difference(),\n",
    "        \"Average Odds Difference\": metric.average_odds_difference()\n",
    "    }\n",
    "    \n",
    "    if verbose:\n",
    "        # Print metrics dict one by one\n",
    "        for k, v in metrics_dict.items():\n",
    "            print(f\"- {k}: {v:.2f}\")\n",
    "        \n",
    "    if output_dict:\n",
    "        metrics_dict['Label'] = results_label\n",
    "        return metrics_dict"
   ]
  },
  {
   "cell_type": "markdown",
   "metadata": {},
   "source": [
    "#### Putting it all together - Baseline Model\n"
   ]
  },
  {
   "cell_type": "code",
   "execution_count": 15,
   "metadata": {
    "execution": {
     "iopub.execute_input": "2024-08-02T18:52:07.019679Z",
     "iopub.status.busy": "2024-08-02T18:52:07.019561Z",
     "iopub.status.idle": "2024-08-02T18:52:07.226970Z",
     "shell.execute_reply": "2024-08-02T18:52:07.217183Z",
     "shell.execute_reply.started": "2024-08-02T18:52:07.019667Z"
    }
   },
   "outputs": [
    {
     "name": "stdout",
     "output_type": "stream",
     "text": [
      "Classification Metrics: Logistic Regression -  Unmitigated\n",
      "\n",
      "\n",
      "              precision    recall  f1-score   support\n",
      "\n",
      "         0.0       0.74      0.57      0.64      4738\n",
      "         1.0       0.48      0.67      0.56      2836\n",
      "\n",
      "    accuracy                           0.61      7574\n",
      "   macro avg       0.61      0.62      0.60      7574\n",
      "weighted avg       0.64      0.61      0.61      7574\n",
      "\n"
     ]
    },
    {
     "data": {
      "image/png": "[encoded data removed]",
      "text/plain": [
       "<Figure size 640x480 with 2 Axes>"
      ]
     },
     "metadata": {},
     "output_type": "display_data"
    },
    {
     "name": "stdout",
     "output_type": "stream",
     "text": [
      "Fairness Metrics: Logistic Regression -  Unmitigated\n",
      "- Disparate Impact: 1.56\n",
      "- Statistical Parity Difference: 0.25\n",
      "- Equal Opportunity Difference: 0.19\n",
      "- Average Odds Difference: 0.25\n"
     ]
    }
   ],
   "source": [
    "# Extract features and labels from the reweighed dataset\n",
    "X_train = train.features\n",
    "y_train = train.labels.ravel()\n",
    "\n",
    "X_test = test.features\n",
    "y_test = test.labels.ravel()\n",
    "\n",
    "# Train the model\n",
    "model =  LogisticRegression(solver='liblinear', class_weight='balanced', random_state=42)\n",
    "model.fit(X_train, y_train)\n",
    "\n",
    "# Ealuate model performance\n",
    "label = \"Logistic Regression -  Unmitigated\"\n",
    "evaluate_model(y_test, model.predict(X_test), results_label=label)\n",
    "\n",
    "\n",
    "# Define privileged and unprivileged groups\n",
    "privileged_groups = [{'Sex': 0}]  # White\n",
    "unprivileged_groups = [{'Sex': 1}]  # Non-White\n",
    "\n",
    "\n",
    "# Evaluate model fairness\n",
    "fairness_unmit = evaluate_fairness(test, model.predict(X_test), unprivileged_groups, privileged_groups,\n",
    "                            verbose=True, output_dict=True, results_label=label)"
   ]
  },
  {
   "cell_type": "markdown",
   "metadata": {},
   "source": [
    "##### Interpreting Our Baseline Model's Fairness\n"
   ]
  },
  {
   "cell_type": "markdown",
   "metadata": {},
   "source": [
    "According to our rules of thumb:\n",
    "- A Disparate Impact of 1.56 suggests significance bias against the privileged class.\n",
    "- A Statistical Parity Difference of 0.25 indicates significant bias against the privileged class.\n",
    "- An Equal Opportunity Difference of 0.19 indicated a significant bias against against the privileged class.\n",
    "- An average odds difference of 0.25 indicate a significant bias against the priviledged class. \n"
   ]
  },
  {
   "cell_type": "markdown",
   "metadata": {},
   "source": [
    "\n",
    "\n",
    "### 2. Apply the Reweighing Algorithm to Address Bias\n"
   ]
  },
  {
   "cell_type": "markdown",
   "metadata": {},
   "source": [
    "\n",
    "Next, we apply the Reweighing algorithm to the dataset. This will create a new dataset with weights assigned to each example to ensure fair representation.\n",
    "\n",
    "`CONFIRM:` We can only mitigate the bias for one protected attribute at a time.\n",
    "\n",
    "\n",
    "In part 1, we found that the dataset was more biased in terms of Sex than Race, so we will use Sex for our examples in this blog post. "
   ]
  },
  {
   "cell_type": "code",
   "execution_count": 16,
   "metadata": {
    "execution": {
     "iopub.execute_input": "2024-08-02T18:52:07.228133Z",
     "iopub.status.busy": "2024-08-02T18:52:07.227924Z",
     "iopub.status.idle": "2024-08-02T18:52:07.293846Z",
     "shell.execute_reply": "2024-08-02T18:52:07.292978Z",
     "shell.execute_reply.started": "2024-08-02T18:52:07.228123Z"
    }
   },
   "outputs": [],
   "source": [
    "from aif360.algorithms.preprocessing import Reweighing\n",
    "\n",
    "# Define privileged and unprivileged groups\n",
    "privileged_groups = [{'Sex': 0}]  # White\n",
    "unprivileged_groups = [{'Sex': 1}]  # Non-White\n",
    "\n",
    "# Apply Reweighing\n",
    "RW = Reweighing(unprivileged_groups=unprivileged_groups, privileged_groups=privileged_groups)\n",
    "reweighed_train = RW.fit_transform(train)\n",
    "reweighed_test = RW.transform(test)\n"
   ]
  },
  {
   "cell_type": "markdown",
   "metadata": {},
   "source": [
    "We have now updated the values stored in the datasets under the `.instance_weights` methods based on the bias in the specified protected attribute."
   ]
  },
  {
   "cell_type": "code",
   "execution_count": 17,
   "metadata": {
    "execution": {
     "iopub.execute_input": "2024-08-02T18:52:07.297980Z",
     "iopub.status.busy": "2024-08-02T18:52:07.297019Z",
     "iopub.status.idle": "2024-08-02T18:52:07.316432Z",
     "shell.execute_reply": "2024-08-02T18:52:07.315612Z",
     "shell.execute_reply.started": "2024-08-02T18:52:07.297951Z"
    }
   },
   "outputs": [
    {
     "data": {
      "text/plain": [
       "array([1., 1., 1., 1., 1.])"
      ]
     },
     "metadata": {},
     "output_type": "display_data"
    },
    {
     "data": {
      "text/plain": [
       "array([1.01838057, 0.90648459, 1.01838057, 1.01838057, 0.97094552])"
      ]
     },
     "execution_count": 17,
     "metadata": {},
     "output_type": "execute_result"
    }
   ],
   "source": [
    "# Comparing original vs. reweighed training datasets\n",
    "display(train.instance_weights[:5])\n",
    "reweighed_train.instance_weights[:5]"
   ]
  },
  {
   "cell_type": "markdown",
   "metadata": {},
   "source": [
    "We can see that the weights have been adjusted to account for the bias in the training dataset."
   ]
  },
  {
   "cell_type": "markdown",
   "metadata": {},
   "source": [
    "#### 3. Train a Machine Learning Model\n",
    "\n",
    "Using the reweighed dataset, we train a machine learning model. For simplicity, we'll use a logistic regression model. We will take advantage of the `sample_weight` argument in the `.fit()` method of the model to pass in the calculated weights.\n",
    "\n"
   ]
  },
  {
   "cell_type": "markdown",
   "metadata": {},
   "source": [
    "##### Applying Reweighed Features"
   ]
  },
  {
   "cell_type": "code",
   "execution_count": 18,
   "metadata": {
    "execution": {
     "iopub.execute_input": "2024-08-02T18:52:07.318361Z",
     "iopub.status.busy": "2024-08-02T18:52:07.318131Z",
     "iopub.status.idle": "2024-08-02T18:52:07.571493Z",
     "shell.execute_reply": "2024-08-02T18:52:07.570666Z",
     "shell.execute_reply.started": "2024-08-02T18:52:07.318343Z"
    }
   },
   "outputs": [
    {
     "name": "stdout",
     "output_type": "stream",
     "text": [
      "Classification Metrics: Logistic Regression - Reweighed\n",
      "\n",
      "\n",
      "              precision    recall  f1-score   support\n",
      "\n",
      "         0.0       0.75      0.55      0.64      4738\n",
      "         1.0       0.48      0.69      0.56      2836\n",
      "\n",
      "    accuracy                           0.60      7574\n",
      "   macro avg       0.61      0.62      0.60      7574\n",
      "weighted avg       0.65      0.60      0.61      7574\n",
      "\n"
     ]
    },
    {
     "data": {
      "image/png": "[encoded data removed]",
      "text/plain": [
       "<Figure size 640x480 with 2 Axes>"
      ]
     },
     "metadata": {},
     "output_type": "display_data"
    }
   ],
   "source": [
    "\n",
    "# Extract features and labels from the reweighed dataset\n",
    "X_train = reweighed_train.features\n",
    "y_train = reweighed_train.labels.ravel()\n",
    "# Extracting the reweighed sample weights\n",
    "sample_weight = reweighed_train.instance_weights\n",
    "\n",
    "\n",
    "X_test = reweighed_test.features\n",
    "y_test = reweighed_test.labels.ravel()\n",
    "\n",
    "# Train the model\n",
    "label=\"Logistic Regression - Reweighed\"\n",
    "model =  LogisticRegression(solver='liblinear', class_weight='balanced', random_state=42)\n",
    "model.fit(X_train, y_train, sample_weight=sample_weight)\n",
    "eval_reweigh = evaluate_model(y_test, model.predict(X_test), results_label=label, output_dict=True)\n",
    "\n"
   ]
  },
  {
   "cell_type": "markdown",
   "metadata": {},
   "source": [
    "\n",
    "\n",
    "**4. Evaluate the Model Using Fairness Metrics**\n",
    "\n",
    "Finally, we evaluate the model's performance and fairness using AIF360's metrics.\n"
   ]
  },
  {
   "cell_type": "code",
   "execution_count": 19,
   "metadata": {
    "execution": {
     "iopub.execute_input": "2024-08-02T18:52:07.572931Z",
     "iopub.status.busy": "2024-08-02T18:52:07.572804Z",
     "iopub.status.idle": "2024-08-02T18:52:07.596032Z",
     "shell.execute_reply": "2024-08-02T18:52:07.595270Z",
     "shell.execute_reply.started": "2024-08-02T18:52:07.572920Z"
    }
   },
   "outputs": [
    {
     "name": "stdout",
     "output_type": "stream",
     "text": [
      "Fairness Metrics: Logistic Regression - Reweighed\n",
      "- Disparate Impact: 0.88\n",
      "- Statistical Parity Difference: -0.06\n",
      "- Equal Opportunity Difference: -0.06\n",
      "- Average Odds Difference: -0.05\n"
     ]
    }
   ],
   "source": [
    "\n",
    "fairness_reweigh = evaluate_fairness(reweighed_test, model.predict(X_test), unprivileged_groups, privileged_groups,\n",
    "                  results_label=label, output_dict=True)"
   ]
  },
  {
   "cell_type": "markdown",
   "metadata": {},
   "source": [
    ">*Simplified Summary Table for Interpretation*\n",
    "\n",
    "| Metric                          | Interpretation                                                               | Threshold for Significant Bias |\n",
    "|---------------------------------|------------------------------------------------------------------------------|--------------------------------|\n",
    "| **Disparate Impact**            | 1 implies perfect fairness.                                                  | < 0.8 or > 1.25                |\n",
    "| **Statistical Parity Difference** | 0 indicates similar favorable outcomes for both groups.                     | < -0.1 or > 0.1                |\n",
    "| **Equal Opportunity Difference** | 0 suggests equal positive prediction rates for both groups.                 | < -0.1 or > 0.1                |\n",
    "| **Average Odds Difference**     | 0 indicates similar error rates across both groups.                          | < -0.1 or > 0.1                |\n"
   ]
  },
  {
   "cell_type": "markdown",
   "metadata": {},
   "source": [
    "After reweighing:\n",
    "- Disparate impact is 0.88, which is above the 0.8 threshold, indicating that there is no significant bias.\n",
    "- Statistical Parity Difference is -0.06, which is within the < -0.1 threshold, indicating no significant bias.\n",
    "- Equal Opportunity Difference is -0.06, which is within the threshold, indicating no significant bias.\n",
    "- Average Odds Difference is -0.05, whic is within the threshold, indicating no significant bias. \n",
    "\n",
    "Applying Reweighing was sufficient to eliminate the bias of our baseline model."
   ]
  },
  {
   "cell_type": "markdown",
   "metadata": {},
   "source": [
    "\n",
    "This example demonstrates how to apply the Reweighing technique to mitigate bias in your dataset before training a model. By ensuring fair representation in the training data, you can develop more equitable AI systems.\n",
    "\n",
    "In the next section, we will explore in-processing techniques to mitigate bias during the training phase. Stay tuned!\n"
   ]
  },
  {
   "cell_type": "markdown",
   "metadata": {},
   "source": [
    "\n",
    "## **B) Implementing In-Processing Techniques**\n"
   ]
  },
  {
   "cell_type": "markdown",
   "metadata": {},
   "source": [
    "\n",
    "In-processing techniques modify the learning algorithm itself to reduce bias during model training. These methods integrate fairness considerations directly into the training process. In this section, we will focus on the Adversarial Debiasing algorithm.\n"
   ]
  },
  {
   "cell_type": "markdown",
   "metadata": {},
   "source": [
    "\n",
    "### **Adversarial Debiasing**\n"
   ]
  },
  {
   "cell_type": "markdown",
   "metadata": {},
   "source": [
    "\n",
    "Adversarial Debiasing uses adversarial learning to minimize bias. It trains the model to make accurate predictions while an adversary tries to detect bias based on the protected attributes. The goal is to improve the fairness of the model by making it difficult for the adversary to distinguish between different protected groups.\n"
   ]
  },
  {
   "cell_type": "markdown",
   "metadata": {},
   "source": [
    "\n",
    "\n",
    "**3. Apply the Adversarial Debiasing Algorithm**\n",
    "\n",
    "Next, we apply the Adversarial Debiasing algorithm to train the model.\n",
    "\n",
    ">Note regarding Variable Scope Reuse: \n",
    "The tf.compat.v1.variable_scope is set with reuse=tf.compat.v1.AUTO_REUSE, allowing the reuse of variables within the same scope. This prevents the ValueError related to existing variables.\n",
    "\n"
   ]
  },
  {
   "cell_type": "code",
   "execution_count": 20,
   "metadata": {
    "execution": {
     "iopub.execute_input": "2024-08-02T18:52:07.610666Z",
     "iopub.status.busy": "2024-08-02T18:52:07.598647Z",
     "iopub.status.idle": "2024-08-02T18:52:15.400267Z",
     "shell.execute_reply": "2024-08-02T18:52:15.399986Z",
     "shell.execute_reply.started": "2024-08-02T18:52:07.610617Z"
    }
   },
   "outputs": [
    {
     "name": "stdout",
     "output_type": "stream",
     "text": [
      "WARNING:tensorflow:From /opt/homebrew/Caskroom/miniforge/base/envs/fair-env/lib/python3.12/site-packages/tensorflow/python/util/dispatch.py:1260: calling dropout (from tensorflow.python.ops.nn_ops) with keep_prob is deprecated and will be removed in a future version.\n",
      "Instructions for updating:\n",
      "Please use `rate` instead of `keep_prob`. Rate should be set to `rate = 1 - keep_prob`.\n"
     ]
    },
    {
     "name": "stderr",
     "output_type": "stream",
     "text": [
      "2024-08-02 14:52:07.862117: I tensorflow/compiler/mlir/mlir_graph_optimization_pass.cc:388] MLIR V1 optimization pass is not enabled\n"
     ]
    },
    {
     "name": "stdout",
     "output_type": "stream",
     "text": [
      "epoch 0; iter: 0; batch classifier loss: 1.612982; batch adversarial loss: 0.600901\n",
      "epoch 1; iter: 0; batch classifier loss: 0.775047; batch adversarial loss: 0.585992\n",
      "epoch 2; iter: 0; batch classifier loss: 0.726446; batch adversarial loss: 0.562675\n",
      "epoch 3; iter: 0; batch classifier loss: 1.033559; batch adversarial loss: 0.546327\n",
      "epoch 4; iter: 0; batch classifier loss: 0.932892; batch adversarial loss: 0.566724\n",
      "epoch 5; iter: 0; batch classifier loss: 0.902458; batch adversarial loss: 0.607745\n",
      "epoch 6; iter: 0; batch classifier loss: 0.755272; batch adversarial loss: 0.625006\n",
      "epoch 7; iter: 0; batch classifier loss: 0.741364; batch adversarial loss: 0.463662\n",
      "epoch 8; iter: 0; batch classifier loss: 0.674213; batch adversarial loss: 0.544812\n",
      "epoch 9; iter: 0; batch classifier loss: 0.639374; batch adversarial loss: 0.451837\n",
      "epoch 10; iter: 0; batch classifier loss: 0.654252; batch adversarial loss: 0.447203\n",
      "epoch 11; iter: 0; batch classifier loss: 0.639386; batch adversarial loss: 0.442813\n",
      "epoch 12; iter: 0; batch classifier loss: 0.710465; batch adversarial loss: 0.457174\n",
      "epoch 13; iter: 0; batch classifier loss: 0.675289; batch adversarial loss: 0.372009\n",
      "epoch 14; iter: 0; batch classifier loss: 0.719537; batch adversarial loss: 0.476921\n",
      "epoch 15; iter: 0; batch classifier loss: 0.656538; batch adversarial loss: 0.384876\n",
      "epoch 16; iter: 0; batch classifier loss: 0.612022; batch adversarial loss: 0.368515\n",
      "epoch 17; iter: 0; batch classifier loss: 0.620742; batch adversarial loss: 0.471665\n",
      "epoch 18; iter: 0; batch classifier loss: 0.618979; batch adversarial loss: 0.384866\n",
      "epoch 19; iter: 0; batch classifier loss: 0.722891; batch adversarial loss: 0.496701\n",
      "epoch 20; iter: 0; batch classifier loss: 0.559045; batch adversarial loss: 0.474010\n",
      "epoch 21; iter: 0; batch classifier loss: 0.562836; batch adversarial loss: 0.408687\n",
      "epoch 22; iter: 0; batch classifier loss: 0.655739; batch adversarial loss: 0.373444\n",
      "epoch 23; iter: 0; batch classifier loss: 0.663526; batch adversarial loss: 0.391315\n",
      "epoch 24; iter: 0; batch classifier loss: 0.606719; batch adversarial loss: 0.351055\n",
      "epoch 25; iter: 0; batch classifier loss: 0.714050; batch adversarial loss: 0.417550\n",
      "epoch 26; iter: 0; batch classifier loss: 0.618568; batch adversarial loss: 0.426313\n",
      "epoch 27; iter: 0; batch classifier loss: 0.642022; batch adversarial loss: 0.450222\n",
      "epoch 28; iter: 0; batch classifier loss: 0.585150; batch adversarial loss: 0.355106\n",
      "epoch 29; iter: 0; batch classifier loss: 0.620913; batch adversarial loss: 0.342492\n",
      "epoch 30; iter: 0; batch classifier loss: 0.629090; batch adversarial loss: 0.448611\n",
      "epoch 31; iter: 0; batch classifier loss: 0.588635; batch adversarial loss: 0.476278\n",
      "epoch 32; iter: 0; batch classifier loss: 0.591457; batch adversarial loss: 0.416445\n",
      "epoch 33; iter: 0; batch classifier loss: 0.628513; batch adversarial loss: 0.380825\n",
      "epoch 34; iter: 0; batch classifier loss: 0.637307; batch adversarial loss: 0.407390\n",
      "epoch 35; iter: 0; batch classifier loss: 0.661927; batch adversarial loss: 0.418905\n",
      "epoch 36; iter: 0; batch classifier loss: 0.575842; batch adversarial loss: 0.420911\n",
      "epoch 37; iter: 0; batch classifier loss: 0.623764; batch adversarial loss: 0.427711\n",
      "epoch 38; iter: 0; batch classifier loss: 0.650178; batch adversarial loss: 0.451093\n",
      "epoch 39; iter: 0; batch classifier loss: 0.575283; batch adversarial loss: 0.473690\n",
      "epoch 40; iter: 0; batch classifier loss: 0.617539; batch adversarial loss: 0.316627\n",
      "epoch 41; iter: 0; batch classifier loss: 0.666945; batch adversarial loss: 0.378264\n",
      "epoch 42; iter: 0; batch classifier loss: 0.655537; batch adversarial loss: 0.495861\n",
      "epoch 43; iter: 0; batch classifier loss: 0.594885; batch adversarial loss: 0.473660\n",
      "epoch 44; iter: 0; batch classifier loss: 0.615691; batch adversarial loss: 0.373581\n",
      "epoch 45; iter: 0; batch classifier loss: 0.577053; batch adversarial loss: 0.418978\n",
      "epoch 46; iter: 0; batch classifier loss: 0.592739; batch adversarial loss: 0.445270\n",
      "epoch 47; iter: 0; batch classifier loss: 0.609106; batch adversarial loss: 0.364682\n",
      "epoch 48; iter: 0; batch classifier loss: 0.616219; batch adversarial loss: 0.402312\n",
      "epoch 49; iter: 0; batch classifier loss: 0.590119; batch adversarial loss: 0.457990\n"
     ]
    },
    {
     "data": {
      "text/plain": [
       "<aif360.algorithms.inprocessing.adversarial_debiasing.AdversarialDebiasing at 0x33ebd3080>"
      ]
     },
     "execution_count": 20,
     "metadata": {},
     "output_type": "execute_result"
    }
   ],
   "source": [
    "\n",
    "from aif360.algorithms.inprocessing import AdversarialDebiasing\n",
    "import tensorflow as tf\n",
    "\n",
    "\n",
    "# Ensure compatibility with TensorFlow 2.x\n",
    "tf.compat.v1.disable_eager_execution()\n",
    "\n",
    "# Define the adversarial debiasing model\n",
    "sess = tf.compat.v1.Session()\n",
    "with tf.compat.v1.variable_scope('debiasing', reuse=tf.compat.v1.AUTO_REUSE):\n",
    "\n",
    "    adversarial_debiasing = AdversarialDebiasing(\n",
    "        privileged_groups=privileged_groups,\n",
    "        unprivileged_groups=unprivileged_groups,\n",
    "        scope_name='debiasing',\n",
    "        debias=True,\n",
    "        sess=sess,\n",
    "    )\n",
    "\n",
    "# Train the model\n",
    "adversarial_debiasing.fit(train)\n",
    "\n"
   ]
  },
  {
   "cell_type": "markdown",
   "metadata": {},
   "source": [
    "\n",
    "**4. Make Predictions and Create Predicted Dataset**\n",
    "\n",
    "Make predictions on the test set using the trained Adversarial Debiasing model.\n"
   ]
  },
  {
   "cell_type": "code",
   "execution_count": 21,
   "metadata": {
    "execution": {
     "iopub.execute_input": "2024-08-02T18:52:15.403972Z",
     "iopub.status.busy": "2024-08-02T18:52:15.403853Z",
     "iopub.status.idle": "2024-08-02T18:52:15.621352Z",
     "shell.execute_reply": "2024-08-02T18:52:15.620916Z",
     "shell.execute_reply.started": "2024-08-02T18:52:15.403963Z"
    }
   },
   "outputs": [
    {
     "name": "stdout",
     "output_type": "stream",
     "text": [
      "Classification Metrics: Adversarial Debiasing\n",
      "\n",
      "\n",
      "              precision    recall  f1-score   support\n",
      "\n",
      "         0.0       0.66      0.91      0.77      4738\n",
      "         1.0       0.59      0.22      0.32      2836\n",
      "\n",
      "    accuracy                           0.65      7574\n",
      "   macro avg       0.63      0.56      0.54      7574\n",
      "weighted avg       0.63      0.65      0.60      7574\n",
      "\n"
     ]
    },
    {
     "data": {
      "image/png": "[encoded data removed]",
      "text/plain": [
       "<Figure size 640x480 with 2 Axes>"
      ]
     },
     "metadata": {},
     "output_type": "display_data"
    }
   ],
   "source": [
    "\n",
    "# Make predictions on the test set\n",
    "pred_dataset = adversarial_debiasing.predict(test)\n",
    "\n",
    "# Convert predictions to labels\n",
    "y_pred = pred_dataset.labels\n",
    "\n",
    "label = \"Adversarial Debiasing\"\n",
    "eval_adv_debias = evaluate_model(test.labels, pred_dataset.labels, results_label=label, output_dict=True)"
   ]
  },
  {
   "cell_type": "markdown",
   "metadata": {},
   "source": [
    "\n",
    "**5. Evaluate the Model Using Fairness Metrics**\n",
    "\n",
    "Finally, we evaluate the model's performance and fairness using AIF360's metrics.\n"
   ]
  },
  {
   "cell_type": "code",
   "execution_count": 22,
   "metadata": {
    "execution": {
     "iopub.execute_input": "2024-08-02T18:52:15.621959Z",
     "iopub.status.busy": "2024-08-02T18:52:15.621863Z",
     "iopub.status.idle": "2024-08-02T18:52:15.628275Z",
     "shell.execute_reply": "2024-08-02T18:52:15.627866Z",
     "shell.execute_reply.started": "2024-08-02T18:52:15.621950Z"
    }
   },
   "outputs": [
    {
     "name": "stdout",
     "output_type": "stream",
     "text": [
      "Fairness Metrics: Adversarial Debiasing\n",
      "- Disparate Impact: 1.14\n",
      "- Statistical Parity Difference: 0.12\n",
      "- Equal Opportunity Difference: 0.08\n",
      "- Average Odds Difference: 0.13\n"
     ]
    }
   ],
   "source": [
    "fairness_adv_debias =  evaluate_fairness(test, pred_dataset, unprivileged_groups, privileged_groups,\n",
    "                                         convert_to_dataset=False, output_dict=True, results_label=label)"
   ]
  },
  {
   "cell_type": "markdown",
   "metadata": {},
   "source": [
    "We can see that in-progressing with the Adversarial Debiasing Algorithm was not sufficient to reduce the bias to non-significant values."
   ]
  },
  {
   "cell_type": "markdown",
   "metadata": {},
   "source": [
    "## C) Implementing Post-Processing Techniques\n"
   ]
  },
  {
   "cell_type": "markdown",
   "metadata": {},
   "source": [
    "\n",
    "Post-processing techniques adjust the predictions of a trained model to reduce bias. These methods are applied after the model has been trained and focus on modifying the model’s outputs to ensure fairness. In this section, we will focus on the Equalized Odds Post-Processing algorithm.\n"
   ]
  },
  {
   "cell_type": "markdown",
   "metadata": {},
   "source": [
    "\n",
    "### Equalized Odds Post-Processing\n"
   ]
  },
  {
   "cell_type": "markdown",
   "metadata": {},
   "source": [
    "\n",
    "The Equalized Odds Post-Processing algorithm adjusts the model’s predictions to ensure that the false positive rate and true positive rate are equal across different groups. This technique ensures that the model’s performance is consistent for both the privileged and unprivileged groups.\n",
    "\n",
    "Step-by-Step Guide: Equalized Odds Post-Processing\n",
    "\n",
    "1. Train a Baseline Machine Learning Model\n",
    "\n",
    "We have already trained a baseline logistic regression model and created the train and test datasets.\n"
   ]
  },
  {
   "cell_type": "markdown",
   "metadata": {},
   "source": [
    "\n",
    "\n",
    "2. Make Predictions on the Test Set\n",
    "\n",
    "Make predictions on the test set using the trained model.\n"
   ]
  },
  {
   "cell_type": "code",
   "execution_count": 23,
   "metadata": {
    "execution": {
     "iopub.execute_input": "2024-08-02T18:52:15.628903Z",
     "iopub.status.busy": "2024-08-02T18:52:15.628805Z",
     "iopub.status.idle": "2024-08-02T18:52:15.663246Z",
     "shell.execute_reply": "2024-08-02T18:52:15.661141Z",
     "shell.execute_reply.started": "2024-08-02T18:52:15.628893Z"
    }
   },
   "outputs": [],
   "source": [
    "# Get predictions for test set and convert to dataset object\n",
    "\n",
    "y_pred = model.predict(X_test)\n"
   ]
  },
  {
   "cell_type": "markdown",
   "metadata": {},
   "source": [
    "\n",
    "3. Convert Predictions to AIF360 BinaryLabelDataset\n",
    "\n",
    "Convert the test set and predictions into AIF360 BinaryLabelDataset objects."
   ]
  },
  {
   "cell_type": "code",
   "execution_count": 24,
   "metadata": {
    "execution": {
     "iopub.execute_input": "2024-08-02T18:52:15.664732Z",
     "iopub.status.busy": "2024-08-02T18:52:15.664493Z",
     "iopub.status.idle": "2024-08-02T18:52:15.695636Z",
     "shell.execute_reply": "2024-08-02T18:52:15.693565Z",
     "shell.execute_reply.started": "2024-08-02T18:52:15.664705Z"
    }
   },
   "outputs": [],
   "source": [
    "\n",
    "# Create a new dataset with predictions\n",
    "test_pred = test.copy()\n",
    "test_pred.labels = y_pred.reshape(-1, 1)"
   ]
  },
  {
   "cell_type": "markdown",
   "metadata": {},
   "source": [
    "4. Apply the Equalized Odds Post-Processing Algorithm\n",
    "\n",
    "Apply the Equalized Odds Post-Processing algorithm to adjust the model’s predictions."
   ]
  },
  {
   "cell_type": "code",
   "execution_count": 25,
   "metadata": {
    "execution": {
     "iopub.execute_input": "2024-08-02T18:52:15.697469Z",
     "iopub.status.busy": "2024-08-02T18:52:15.696720Z",
     "iopub.status.idle": "2024-08-02T18:52:15.742030Z",
     "shell.execute_reply": "2024-08-02T18:52:15.739427Z",
     "shell.execute_reply.started": "2024-08-02T18:52:15.697450Z"
    }
   },
   "outputs": [],
   "source": [
    "from aif360.algorithms.postprocessing import EqOddsPostprocessing\n",
    "# Apply Equalized Odds Post-Processing\n",
    "eq_odds = EqOddsPostprocessing(\n",
    "    privileged_groups=privileged_groups,\n",
    "    unprivileged_groups=unprivileged_groups,\n",
    "    seed=42\n",
    ")\n"
   ]
  },
  {
   "cell_type": "code",
   "execution_count": 26,
   "metadata": {
    "execution": {
     "iopub.execute_input": "2024-08-02T18:52:15.744517Z",
     "iopub.status.busy": "2024-08-02T18:52:15.744275Z",
     "iopub.status.idle": "2024-08-02T18:52:15.764251Z",
     "shell.execute_reply": "2024-08-02T18:52:15.763371Z",
     "shell.execute_reply.started": "2024-08-02T18:52:15.744494Z"
    }
   },
   "outputs": [],
   "source": [
    "\n",
    "# Fit the post-processing algorithm to the test data\n",
    "eq_odds.fit(test, test_pred)\n",
    "\n",
    "\n",
    "# Transform the predictions\n",
    "# pred_transformed = eq_odds.transform(test_pred)\n",
    "pred_transformed = eq_odds.predict(test_pred)"
   ]
  },
  {
   "cell_type": "code",
   "execution_count": 27,
   "metadata": {
    "execution": {
     "iopub.execute_input": "2024-08-02T18:52:15.772305Z",
     "iopub.status.busy": "2024-08-02T18:52:15.769123Z",
     "iopub.status.idle": "2024-08-02T18:52:15.912374Z",
     "shell.execute_reply": "2024-08-02T18:52:15.912025Z",
     "shell.execute_reply.started": "2024-08-02T18:52:15.772267Z"
    }
   },
   "outputs": [
    {
     "name": "stdout",
     "output_type": "stream",
     "text": [
      "Classification Metrics: Logistic Regression - EqOdds\n",
      "\n",
      "\n",
      "              precision    recall  f1-score   support\n",
      "\n",
      "         0.0       0.75      0.51      0.60      4738\n",
      "         1.0       0.46      0.71      0.56      2836\n",
      "\n",
      "    accuracy                           0.58      7574\n",
      "   macro avg       0.60      0.61      0.58      7574\n",
      "weighted avg       0.64      0.58      0.59      7574\n",
      "\n"
     ]
    },
    {
     "data": {
      "image/png": "[encoded data removed]",
      "text/plain": [
       "<Figure size 640x480 with 2 Axes>"
      ]
     },
     "metadata": {},
     "output_type": "display_data"
    }
   ],
   "source": [
    "# Evaluate model performance using the transformed predictions\n",
    "label = \"Logistic Regression - EqOdds\"\n",
    "eval_eqodds = evaluate_model(test.labels, pred_transformed.labels, results_label=label, output_dict=True)"
   ]
  },
  {
   "cell_type": "markdown",
   "metadata": {},
   "source": [
    "As we can see, the model performance has decreased after transforming the model predictions. Let's asses fairness now to see if we've reduced the bias from our original model. "
   ]
  },
  {
   "cell_type": "code",
   "execution_count": 28,
   "metadata": {
    "execution": {
     "iopub.execute_input": "2024-08-02T18:52:15.912980Z",
     "iopub.status.busy": "2024-08-02T18:52:15.912882Z",
     "iopub.status.idle": "2024-08-02T18:52:15.918243Z",
     "shell.execute_reply": "2024-08-02T18:52:15.917948Z",
     "shell.execute_reply.started": "2024-08-02T18:52:15.912971Z"
    }
   },
   "outputs": [
    {
     "name": "stdout",
     "output_type": "stream",
     "text": [
      "Fairness Metrics: Logistic Regression - EqOdds\n",
      "- Disparate Impact: 1.04\n",
      "- Statistical Parity Difference: 0.02\n",
      "- Equal Opportunity Difference: 0.01\n",
      "- Average Odds Difference: -0.00\n"
     ]
    }
   ],
   "source": [
    "fairness_eqodds = evaluate_fairness(test, pred_transformed, unprivileged_groups, privileged_groups, \n",
    "                                    convert_to_dataset=False, output_dict=True, results_label=label)"
   ]
  },
  {
   "cell_type": "markdown",
   "metadata": {},
   "source": [
    "By applying the Equalized Odds Post-Processing algorithm, we were able to adjust the model’s predictions to ensure fairness across different groups. After applying this technique, we re-evaluated the model’s fairness using key metrics to determine the effectiveness of the post-processing adjustments and confirmed that the model's fairness metrics are all inidcating no significant bias."
   ]
  },
  {
   "cell_type": "markdown",
   "metadata": {},
   "source": [
    "### **5. Comparing Mitigation Techniques**\n",
    "\n",
    "In this section, we will compare the effectiveness of the different bias mitigation techniques we have implemented: pre-processing (Reweighing), in-processing (Adversarial Debiasing), and post-processing (Equalized Odds Post-Processing). We will use fairness metrics to evaluate each technique's impact on the model and discuss the trade-offs between accuracy and fairness.\n"
   ]
  },
  {
   "cell_type": "markdown",
   "metadata": {},
   "source": [
    "\n",
    "### **Comparative Analysis**\n",
    "\n"
   ]
  },
  {
   "cell_type": "code",
   "execution_count": 29,
   "metadata": {
    "execution": {
     "iopub.execute_input": "2024-08-02T18:52:15.919033Z",
     "iopub.status.busy": "2024-08-02T18:52:15.918889Z",
     "iopub.status.idle": "2024-08-02T18:52:15.924356Z",
     "shell.execute_reply": "2024-08-02T18:52:15.923947Z",
     "shell.execute_reply.started": "2024-08-02T18:52:15.919020Z"
    }
   },
   "outputs": [
    {
     "data": {
      "text/html": [
       "<div>\n",
       "<style scoped>\n",
       "    .dataframe tbody tr th:only-of-type {\n",
       "        vertical-align: middle;\n",
       "    }\n",
       "\n",
       "    .dataframe tbody tr th {\n",
       "        vertical-align: top;\n",
       "    }\n",
       "\n",
       "    .dataframe thead th {\n",
       "        text-align: right;\n",
       "    }\n",
       "</style>\n",
       "<table border=\"1\" class=\"dataframe\">\n",
       "  <thead>\n",
       "    <tr style=\"text-align: right;\">\n",
       "      <th></th>\n",
       "      <th>Disparate Impact</th>\n",
       "      <th>Statistical Parity Difference</th>\n",
       "      <th>Equal Opportunity Difference</th>\n",
       "      <th>Average Odds Difference</th>\n",
       "    </tr>\n",
       "    <tr>\n",
       "      <th>Label</th>\n",
       "      <th></th>\n",
       "      <th></th>\n",
       "      <th></th>\n",
       "      <th></th>\n",
       "    </tr>\n",
       "  </thead>\n",
       "  <tbody>\n",
       "    <tr>\n",
       "      <th>Logistic Regression -  Unmitigated</th>\n",
       "      <td>1.557575</td>\n",
       "      <td>0.247677</td>\n",
       "      <td>0.192849</td>\n",
       "      <td>0.250294</td>\n",
       "    </tr>\n",
       "    <tr>\n",
       "      <th>Logistic Regression - Reweighed</th>\n",
       "      <td>0.882272</td>\n",
       "      <td>-0.055594</td>\n",
       "      <td>-0.064862</td>\n",
       "      <td>-0.054568</td>\n",
       "    </tr>\n",
       "    <tr>\n",
       "      <th>Adversarial Debiasing</th>\n",
       "      <td>1.144927</td>\n",
       "      <td>0.122611</td>\n",
       "      <td>0.082567</td>\n",
       "      <td>0.130413</td>\n",
       "    </tr>\n",
       "    <tr>\n",
       "      <th>Logistic Regression - EqOdds</th>\n",
       "      <td>1.041196</td>\n",
       "      <td>0.017411</td>\n",
       "      <td>0.005085</td>\n",
       "      <td>-0.003514</td>\n",
       "    </tr>\n",
       "  </tbody>\n",
       "</table>\n",
       "</div>"
      ],
      "text/plain": [
       "                                    Disparate Impact  \\\n",
       "Label                                                  \n",
       "Logistic Regression -  Unmitigated          1.557575   \n",
       "Logistic Regression - Reweighed             0.882272   \n",
       "Adversarial Debiasing                       1.144927   \n",
       "Logistic Regression - EqOdds                1.041196   \n",
       "\n",
       "                                    Statistical Parity Difference  \\\n",
       "Label                                                               \n",
       "Logistic Regression -  Unmitigated                       0.247677   \n",
       "Logistic Regression - Reweighed                         -0.055594   \n",
       "Adversarial Debiasing                                    0.122611   \n",
       "Logistic Regression - EqOdds                             0.017411   \n",
       "\n",
       "                                    Equal Opportunity Difference  \\\n",
       "Label                                                              \n",
       "Logistic Regression -  Unmitigated                      0.192849   \n",
       "Logistic Regression - Reweighed                        -0.064862   \n",
       "Adversarial Debiasing                                   0.082567   \n",
       "Logistic Regression - EqOdds                            0.005085   \n",
       "\n",
       "                                    Average Odds Difference  \n",
       "Label                                                        \n",
       "Logistic Regression -  Unmitigated                 0.250294  \n",
       "Logistic Regression - Reweighed                   -0.054568  \n",
       "Adversarial Debiasing                              0.130413  \n",
       "Logistic Regression - EqOdds                      -0.003514  "
      ]
     },
     "execution_count": 29,
     "metadata": {},
     "output_type": "execute_result"
    }
   ],
   "source": [
    "# Combine the fairness metrics into a DataFrame\n",
    "df_fairness = pd.DataFrame([fairness_unmit, fairness_reweigh, fairness_adv_debias, fairness_eqodds])\n",
    "df_fairness = df_fairness.set_index('Label')\n",
    "df_fairness\n"
   ]
  },
  {
   "cell_type": "markdown",
   "metadata": {},
   "source": [
    "To ease interpretation, we will use Pandas Styling to annotate any metrics that have crossed the fairness thresholds."
   ]
  },
  {
   "cell_type": "markdown",
   "metadata": {},
   "source": [
    ">*Simplified Summary Table for Interpretation*\n",
    "\n",
    "| Metric                          | Interpretation                                                               | Threshold for Significant Bias |\n",
    "|---------------------------------|------------------------------------------------------------------------------|--------------------------------|\n",
    "| **Disparate Impact**            | 1 implies perfect fairness.                                                  | < 0.8 or > 1.25                |\n",
    "| **Statistical Parity Difference** | 0 indicates similar favorable outcomes for both groups.                     | < -0.1 or > 0.1                |\n",
    "| **Equal Opportunity Difference** | 0 suggests equal positive prediction rates for both groups.                 | < -0.1 or > 0.1                |\n",
    "| **Average Odds Difference**     | 0 indicates similar error rates across both groups.                          | < -0.1 or > 0.1                |\n"
   ]
  },
  {
   "cell_type": "code",
   "execution_count": 30,
   "metadata": {
    "execution": {
     "iopub.execute_input": "2024-08-02T18:52:15.925284Z",
     "iopub.status.busy": "2024-08-02T18:52:15.925167Z",
     "iopub.status.idle": "2024-08-02T18:52:15.990622Z",
     "shell.execute_reply": "2024-08-02T18:52:15.990333Z",
     "shell.execute_reply.started": "2024-08-02T18:52:15.925273Z"
    }
   },
   "outputs": [
    {
     "data": {
      "text/html": [
       "<style type=\"text/css\">\n",
       "#T_cccdd_row0_col0, #T_cccdd_row0_col1, #T_cccdd_row0_col2, #T_cccdd_row0_col3, #T_cccdd_row2_col1, #T_cccdd_row2_col3 {\n",
       "  color: red;\n",
       "}\n",
       "</style>\n",
       "<table id=\"T_cccdd\">\n",
       "  <caption>Comparison of Mitigation Technique Fairness Metrics</caption>\n",
       "  <thead>\n",
       "    <tr>\n",
       "      <th class=\"blank level0\" >&nbsp;</th>\n",
       "      <th id=\"T_cccdd_level0_col0\" class=\"col_heading level0 col0\" >Disparate Impact</th>\n",
       "      <th id=\"T_cccdd_level0_col1\" class=\"col_heading level0 col1\" >Statistical Parity Difference</th>\n",
       "      <th id=\"T_cccdd_level0_col2\" class=\"col_heading level0 col2\" >Equal Opportunity Difference</th>\n",
       "      <th id=\"T_cccdd_level0_col3\" class=\"col_heading level0 col3\" >Average Odds Difference</th>\n",
       "    </tr>\n",
       "    <tr>\n",
       "      <th class=\"index_name level0\" >Label</th>\n",
       "      <th class=\"blank col0\" >&nbsp;</th>\n",
       "      <th class=\"blank col1\" >&nbsp;</th>\n",
       "      <th class=\"blank col2\" >&nbsp;</th>\n",
       "      <th class=\"blank col3\" >&nbsp;</th>\n",
       "    </tr>\n",
       "  </thead>\n",
       "  <tbody>\n",
       "    <tr>\n",
       "      <th id=\"T_cccdd_level0_row0\" class=\"row_heading level0 row0\" >Logistic Regression -  Unmitigated</th>\n",
       "      <td id=\"T_cccdd_row0_col0\" class=\"data row0 col0\" >1.56</td>\n",
       "      <td id=\"T_cccdd_row0_col1\" class=\"data row0 col1\" >0.25</td>\n",
       "      <td id=\"T_cccdd_row0_col2\" class=\"data row0 col2\" >0.19</td>\n",
       "      <td id=\"T_cccdd_row0_col3\" class=\"data row0 col3\" >0.25</td>\n",
       "    </tr>\n",
       "    <tr>\n",
       "      <th id=\"T_cccdd_level0_row1\" class=\"row_heading level0 row1\" >Logistic Regression - Reweighed</th>\n",
       "      <td id=\"T_cccdd_row1_col0\" class=\"data row1 col0\" >0.88</td>\n",
       "      <td id=\"T_cccdd_row1_col1\" class=\"data row1 col1\" >-0.06</td>\n",
       "      <td id=\"T_cccdd_row1_col2\" class=\"data row1 col2\" >-0.06</td>\n",
       "      <td id=\"T_cccdd_row1_col3\" class=\"data row1 col3\" >-0.05</td>\n",
       "    </tr>\n",
       "    <tr>\n",
       "      <th id=\"T_cccdd_level0_row2\" class=\"row_heading level0 row2\" >Adversarial Debiasing</th>\n",
       "      <td id=\"T_cccdd_row2_col0\" class=\"data row2 col0\" >1.14</td>\n",
       "      <td id=\"T_cccdd_row2_col1\" class=\"data row2 col1\" >0.12</td>\n",
       "      <td id=\"T_cccdd_row2_col2\" class=\"data row2 col2\" >0.08</td>\n",
       "      <td id=\"T_cccdd_row2_col3\" class=\"data row2 col3\" >0.13</td>\n",
       "    </tr>\n",
       "    <tr>\n",
       "      <th id=\"T_cccdd_level0_row3\" class=\"row_heading level0 row3\" >Logistic Regression - EqOdds</th>\n",
       "      <td id=\"T_cccdd_row3_col0\" class=\"data row3 col0\" >1.04</td>\n",
       "      <td id=\"T_cccdd_row3_col1\" class=\"data row3 col1\" >0.02</td>\n",
       "      <td id=\"T_cccdd_row3_col2\" class=\"data row3 col2\" >0.01</td>\n",
       "      <td id=\"T_cccdd_row3_col3\" class=\"data row3 col3\" >-0.00</td>\n",
       "    </tr>\n",
       "  </tbody>\n",
       "</table>\n"
      ],
      "text/plain": [
       "<pandas.io.formats.style.Styler at 0x33ec18bc0>"
      ]
     },
     "execution_count": 30,
     "metadata": {},
     "output_type": "execute_result"
    }
   ],
   "source": [
    "# Define styling functions\n",
    "def style_di(val):\n",
    "    \"\"\"Style function for 'Disparate Impact' column centered around 1.\"\"\"\n",
    "    if (val > 1.2) or (val < 0.8):\n",
    "        return 'color: red;'\n",
    "    else:\n",
    "        return ''\n",
    "\n",
    "def style_diff(val):\n",
    "    \"\"\"Style function for difference columns centered around 0.\"\"\"\n",
    "    if (val > 0.1) or (val < -0.1):\n",
    "        return 'color: red;'\n",
    "    else:\n",
    "        return ''\n",
    "    \n",
    "# Apply styles\n",
    "styled_df = df_fairness.style.map(style_di, subset=['Disparate Impact']) \\\n",
    "                            .map(style_diff, subset=['Statistical Parity Difference', \n",
    "                                                          'Equal Opportunity Difference', \n",
    "                                                          'Average Odds Difference']) \\\n",
    "                            .format('{:.2f}') \\\n",
    "                            .set_caption(\"Comparison of Mitigation Technique Fairness Metrics\")\n",
    "\n",
    "styled_df\n"
   ]
  },
  {
   "cell_type": "markdown",
   "metadata": {},
   "source": [
    "- Equal Odds Postprocessing produced the most fair model predictions.\n",
    "- Reweighing produced the second most fair model predictions.\n",
    "- Adversarial Deibiasing was still biased.\n"
   ]
  },
  {
   "cell_type": "markdown",
   "metadata": {},
   "source": [
    "\n",
    "**Trade-Offs Between Accuracy and Fairness**\n"
   ]
  },
  {
   "cell_type": "markdown",
   "metadata": {},
   "source": [
    "Let's compare the performance metrics of the 3 mitigation approaches to see the trade-off between fairness and performance."
   ]
  },
  {
   "cell_type": "code",
   "execution_count": 31,
   "metadata": {
    "execution": {
     "iopub.execute_input": "2024-08-02T18:52:15.991472Z",
     "iopub.status.busy": "2024-08-02T18:52:15.991260Z",
     "iopub.status.idle": "2024-08-02T18:52:15.994053Z",
     "shell.execute_reply": "2024-08-02T18:52:15.993804Z",
     "shell.execute_reply.started": "2024-08-02T18:52:15.991461Z"
    }
   },
   "outputs": [
    {
     "data": {
      "text/plain": [
       "{'accuracy': 0.6062846580406654,\n",
       " 'avg recall': 0.6188526310399787,\n",
       " 'recall 1.0': 0.6688998589562765,\n",
       " 'recall 0.0': 0.5688054031236809}"
      ]
     },
     "execution_count": 31,
     "metadata": {},
     "output_type": "execute_result"
    }
   ],
   "source": [
    "# Demonstrating slices results from eval dicts\n",
    "{'accuracy':eval_unmit['accuracy'], \n",
    " \"avg recall\":eval_unmit[\"macro avg\"]['recall'],\n",
    " \"recall 1.0\":eval_unmit[\"1.0\"]['recall'],\n",
    " \"recall 0.0\":eval_unmit[\"0.0\"]['recall']}"
   ]
  },
  {
   "cell_type": "code",
   "execution_count": 32,
   "metadata": {
    "execution": {
     "iopub.execute_input": "2024-08-02T18:52:15.994624Z",
     "iopub.status.busy": "2024-08-02T18:52:15.994544Z",
     "iopub.status.idle": "2024-08-02T18:52:16.003979Z",
     "shell.execute_reply": "2024-08-02T18:52:16.003687Z",
     "shell.execute_reply.started": "2024-08-02T18:52:15.994616Z"
    }
   },
   "outputs": [
    {
     "data": {
      "text/html": [
       "<style type=\"text/css\">\n",
       "#T_b10cb_row0_col0 {\n",
       "  background-color: #005f26;\n",
       "  color: #f1f1f1;\n",
       "}\n",
       "#T_b10cb_row0_col1 {\n",
       "  background-color: #def2d9;\n",
       "  color: #000000;\n",
       "}\n",
       "#T_b10cb_row0_col2 {\n",
       "  background-color: #00451c;\n",
       "  color: #f1f1f1;\n",
       "}\n",
       "#T_b10cb_row0_col3 {\n",
       "  background-color: #a7dba0;\n",
       "  color: #000000;\n",
       "}\n",
       "#T_b10cb_row0_col4, #T_b10cb_row1_col2, #T_b10cb_row2_col1, #T_b10cb_row2_col3, #T_b10cb_row2_col5, #T_b10cb_row3_col0 {\n",
       "  background-color: #00441b;\n",
       "  color: #f1f1f1;\n",
       "}\n",
       "#T_b10cb_row0_col5 {\n",
       "  background-color: #aadda4;\n",
       "  color: #000000;\n",
       "}\n",
       "#T_b10cb_row1_col0 {\n",
       "  background-color: #005522;\n",
       "  color: #f1f1f1;\n",
       "}\n",
       "#T_b10cb_row1_col1 {\n",
       "  background-color: #e7f6e2;\n",
       "  color: #000000;\n",
       "}\n",
       "#T_b10cb_row1_col3 {\n",
       "  background-color: #9bd696;\n",
       "  color: #000000;\n",
       "}\n",
       "#T_b10cb_row1_col4 {\n",
       "  background-color: #005020;\n",
       "  color: #f1f1f1;\n",
       "}\n",
       "#T_b10cb_row1_col5 {\n",
       "  background-color: #bae3b3;\n",
       "  color: #000000;\n",
       "}\n",
       "#T_b10cb_row2_col0, #T_b10cb_row2_col2, #T_b10cb_row2_col4, #T_b10cb_row3_col1, #T_b10cb_row3_col3, #T_b10cb_row3_col5 {\n",
       "  background-color: #f7fcf5;\n",
       "  color: #000000;\n",
       "}\n",
       "#T_b10cb_row3_col2 {\n",
       "  background-color: #127c39;\n",
       "  color: #f1f1f1;\n",
       "}\n",
       "#T_b10cb_row3_col4 {\n",
       "  background-color: #359e53;\n",
       "  color: #f1f1f1;\n",
       "}\n",
       "</style>\n",
       "<table id=\"T_b10cb\">\n",
       "  <caption>Comparison of Model Performance</caption>\n",
       "  <thead>\n",
       "    <tr>\n",
       "      <th class=\"blank level0\" >&nbsp;</th>\n",
       "      <th id=\"T_b10cb_level0_col0\" class=\"col_heading level0 col0\" >Recall(1.0)</th>\n",
       "      <th id=\"T_b10cb_level0_col1\" class=\"col_heading level0 col1\" >Recall(0.0)</th>\n",
       "      <th id=\"T_b10cb_level0_col2\" class=\"col_heading level0 col2\" >Average Recall</th>\n",
       "      <th id=\"T_b10cb_level0_col3\" class=\"col_heading level0 col3\" >Average Precision</th>\n",
       "      <th id=\"T_b10cb_level0_col4\" class=\"col_heading level0 col4\" >Average F1-Score</th>\n",
       "      <th id=\"T_b10cb_level0_col5\" class=\"col_heading level0 col5\" >Accuracy</th>\n",
       "    </tr>\n",
       "    <tr>\n",
       "      <th class=\"index_name level0\" >Label</th>\n",
       "      <th class=\"blank col0\" >&nbsp;</th>\n",
       "      <th class=\"blank col1\" >&nbsp;</th>\n",
       "      <th class=\"blank col2\" >&nbsp;</th>\n",
       "      <th class=\"blank col3\" >&nbsp;</th>\n",
       "      <th class=\"blank col4\" >&nbsp;</th>\n",
       "      <th class=\"blank col5\" >&nbsp;</th>\n",
       "    </tr>\n",
       "  </thead>\n",
       "  <tbody>\n",
       "    <tr>\n",
       "      <th id=\"T_b10cb_level0_row0\" class=\"row_heading level0 row0\" >Unmitigated Model</th>\n",
       "      <td id=\"T_b10cb_row0_col0\" class=\"data row0 col0\" >0.67</td>\n",
       "      <td id=\"T_b10cb_row0_col1\" class=\"data row0 col1\" >0.57</td>\n",
       "      <td id=\"T_b10cb_row0_col2\" class=\"data row0 col2\" >0.62</td>\n",
       "      <td id=\"T_b10cb_row0_col3\" class=\"data row0 col3\" >0.61</td>\n",
       "      <td id=\"T_b10cb_row0_col4\" class=\"data row0 col4\" >0.60</td>\n",
       "      <td id=\"T_b10cb_row0_col5\" class=\"data row0 col5\" >0.61</td>\n",
       "    </tr>\n",
       "    <tr>\n",
       "      <th id=\"T_b10cb_level0_row1\" class=\"row_heading level0 row1\" >Logistic Regression - Reweighed</th>\n",
       "      <td id=\"T_b10cb_row1_col0\" class=\"data row1 col0\" >0.69</td>\n",
       "      <td id=\"T_b10cb_row1_col1\" class=\"data row1 col1\" >0.55</td>\n",
       "      <td id=\"T_b10cb_row1_col2\" class=\"data row1 col2\" >0.62</td>\n",
       "      <td id=\"T_b10cb_row1_col3\" class=\"data row1 col3\" >0.61</td>\n",
       "      <td id=\"T_b10cb_row1_col4\" class=\"data row1 col4\" >0.60</td>\n",
       "      <td id=\"T_b10cb_row1_col5\" class=\"data row1 col5\" >0.60</td>\n",
       "    </tr>\n",
       "    <tr>\n",
       "      <th id=\"T_b10cb_level0_row2\" class=\"row_heading level0 row2\" >Adversarial Debiasing</th>\n",
       "      <td id=\"T_b10cb_row2_col0\" class=\"data row2 col0\" >0.22</td>\n",
       "      <td id=\"T_b10cb_row2_col1\" class=\"data row2 col1\" >0.91</td>\n",
       "      <td id=\"T_b10cb_row2_col2\" class=\"data row2 col2\" >0.56</td>\n",
       "      <td id=\"T_b10cb_row2_col3\" class=\"data row2 col3\" >0.63</td>\n",
       "      <td id=\"T_b10cb_row2_col4\" class=\"data row2 col4\" >0.54</td>\n",
       "      <td id=\"T_b10cb_row2_col5\" class=\"data row2 col5\" >0.65</td>\n",
       "    </tr>\n",
       "    <tr>\n",
       "      <th id=\"T_b10cb_level0_row3\" class=\"row_heading level0 row3\" >Logistic Regression - EqOdds</th>\n",
       "      <td id=\"T_b10cb_row3_col0\" class=\"data row3 col0\" >0.71</td>\n",
       "      <td id=\"T_b10cb_row3_col1\" class=\"data row3 col1\" >0.51</td>\n",
       "      <td id=\"T_b10cb_row3_col2\" class=\"data row3 col2\" >0.61</td>\n",
       "      <td id=\"T_b10cb_row3_col3\" class=\"data row3 col3\" >0.60</td>\n",
       "      <td id=\"T_b10cb_row3_col4\" class=\"data row3 col4\" >0.58</td>\n",
       "      <td id=\"T_b10cb_row3_col5\" class=\"data row3 col5\" >0.58</td>\n",
       "    </tr>\n",
       "  </tbody>\n",
       "</table>\n"
      ],
      "text/plain": [
       "<pandas.io.formats.style.Styler at 0x33eba44d0>"
      ]
     },
     "execution_count": 32,
     "metadata": {},
     "output_type": "execute_result"
    }
   ],
   "source": [
    "# Convert the evaluation results to a DataFrame\n",
    "eval_dicts = [eval_unmit, eval_reweigh, eval_adv_debias, eval_eqodds]\n",
    "results_eval = []\n",
    "for d in eval_dicts:\n",
    "    results_eval.append({\"Label\":d['Label'], # Model Label\n",
    "                         \"Recall(1.0)\":d[\"1.0\"]['recall'], # Recall for class 1\n",
    "                         \"Recall(0.0)\":d[\"0.0\"]['recall'], # Recall for class 0\n",
    "                         \"Average Recall\":d[\"macro avg\"]['recall'], # Average Recall\n",
    "                         \"Average Precision\":d[\"macro avg\"]['precision'], # Average Precision\n",
    "                         'Average F1-Score':d[\"macro avg\"]['f1-score'], # Average F1 Score\n",
    "                        'Accuracy':d['accuracy'],  # Accuracy\n",
    "                         }\n",
    "                        )\n",
    "df_eval = pd.DataFrame(results_eval).set_index('Label')\n",
    "df_eval.style.background_gradient(#subset=['Accuracy','Recall(1.0)','Recall(0.0)', \"Average F1-Score\"],\n",
    "                                  cmap='Greens', axis=0).format(\"{:.2f}\").set_caption(\"Comparison of Model Performance\")"
   ]
  },
  {
   "cell_type": "markdown",
   "metadata": {},
   "source": [
    "\n",
    "1. **Reweighed Model**: This technique adjusts the dataset before training, which can lead to improved fairness but might slightly reduce the model's accuracy. It's a good balance for scenarios where data preprocessing is feasible. \n",
    "- Indeed, we saw a very slight decrease in accuracy from 0.61 to 0.60. However, our average recall, precision, and f1-score are unchanged.\n",
    "\n",
    "2. **Adversarial Debiasing Model**: This technique incorporates fairness constraints directly into the training process, often achieving significant fairness improvements. However, it can be computationally intensive and might require more tuning.\n",
    "- Without additional tuning Adversarial Debiasing is the most accurate model (0.65), but has terrible Recall for the 0 class (0.28),and the worse F1-score. \n",
    "\n",
    "3. **Equalized Odds Post-Processing Model**: This technique adjusts the model's predictions after training, which can be simpler to implement and often leads to noticeable fairness improvements. However, it might introduce a trade-off with accuracy depending on the degree of adjustment required. \n",
    "- EqOdds did indeed significantly decrease the accuracy by 3% (0.61 to 0.58), however it actually improved the model's recall for the 1.0 class. \n"
   ]
  },
  {
   "cell_type": "markdown",
   "metadata": {},
   "source": [
    "### **6. Conclusion**\n",
    "\n",
    "In this series, we have explored the critical aspects of bias in machine learning models and the importance of fairness in AI systems. We started with understanding and detecting bias using AI Fairness 360, then moved on to implementing various bias mitigation techniques, including pre-processing, in-processing, and post-processing methods. Here's a brief recap and the key takeaways from our journey:\n",
    "\n",
    "#### **Recap of Bias Mitigation Techniques**\n",
    "\n",
    "1. **Pre-Processing Techniques (Reweighing)**\n",
    "   - Modify the training data to reduce bias before model training.\n",
    "   - Ensures fair representation in the dataset, leading to more balanced model outcomes.\n",
    "\n",
    "2. **In-Processing Techniques (Adversarial Debiasing)**\n",
    "   - Incorporate fairness constraints directly into the training process.\n",
    "   - Aim to make the model's predictions less distinguishable based on protected attributes.\n",
    "\n",
    "3. **Post-Processing Techniques (Equalized Odds Post-Processing)**\n",
    "   - Adjust the model's predictions after training to ensure fairness.\n",
    "   - Focus on balancing false positive and true positive rates across different groups.\n",
    "\n",
    "#### **Key Takeaways**\n",
    "\n",
    "- **Understanding Bias**: Recognizing the different types of bias (data bias, algorithmic bias, and societal bias) is the first step towards building fair AI systems.\n",
    "- **Detecting Bias**: Utilizing fairness metrics such as Disparate Impact, Statistical Parity Difference, Equal Opportunity Difference, and Average Odds Difference to evaluate model fairness.\n",
    "- **Mitigating Bias**: Implementing bias mitigation techniques at different stages of the machine learning pipeline to reduce unfairness and improve equity.\n",
    "- **Comparing Techniques**: Assessing the effectiveness of each mitigation technique and understanding the trade-offs between accuracy and fairness.\n",
    "\n",
    "#### **Importance of Continuous Monitoring**\n",
    "\n",
    "Fairness in AI is not a one-time effort but a continuous process. It is crucial to regularly monitor and evaluate the fairness of AI models as new data and scenarios emerge. By doing so, we can ensure that AI systems remain equitable and do not inadvertently perpetuate biases.\n",
    "\n",
    "#### **Future Directions**\n",
    "\n",
    "As AI technology continues to evolve, so will the approaches to ensuring fairness. Future advancements may include more sophisticated bias detection and mitigation techniques, integration of fairness considerations into all stages of AI development, and broader adoption of fairness standards and regulations.\n",
    "\n",
    "### **Call to Action**\n",
    "\n",
    "- **Implement Bias Mitigation**: Apply the techniques discussed in this series to your own projects to develop fairer AI models.\n",
    "- **Engage in Discussions**: Join the conversation on AI fairness by sharing your experiences, challenges, and solutions on social media or in professional forums.\n",
    "- **Explore Further**: Continue learning about AI fairness through additional resources, research papers, and case studies.\n",
    "\n",
    "By prioritizing fairness in AI, we can build systems that not only perform well but also promote equity and justice in society. Together, we can make a significant impact on the future of AI.\n",
    "\n",
    "Thank you for following along with this series. Stay tuned for the next part, where we will delve into advanced topics or case studies to further illustrate the application of AI Fairness 360 in real-world scenarios."
   ]
  },
  {
   "cell_type": "markdown",
   "metadata": {
    "jp-MarkdownHeadingCollapsed": true
   },
   "source": [
    "# APPENDIX/CUT"
   ]
  },
  {
   "cell_type": "code",
   "execution_count": 33,
   "metadata": {
    "execution": {
     "iopub.execute_input": "2024-08-02T18:52:16.004614Z",
     "iopub.status.busy": "2024-08-02T18:52:16.004500Z",
     "iopub.status.idle": "2024-08-02T18:52:16.094516Z",
     "shell.execute_reply": "2024-08-02T18:52:16.093867Z",
     "shell.execute_reply.started": "2024-08-02T18:52:16.004605Z"
    }
   },
   "outputs": [
    {
     "ename": "Exception",
     "evalue": "End of blog post",
     "output_type": "error",
     "traceback": [
      "\u001b[0;31m---------------------------------------------------------------------------\u001b[0m",
      "\u001b[0;31mException\u001b[0m                                 Traceback (most recent call last)",
      "Cell \u001b[0;32mIn[33], line 1\u001b[0m\n\u001b[0;32m----> 1\u001b[0m \u001b[38;5;28;01mraise\u001b[39;00m \u001b[38;5;167;01mException\u001b[39;00m(\u001b[38;5;124m\"\u001b[39m\u001b[38;5;124mEnd of blog post\u001b[39m\u001b[38;5;124m\"\u001b[39m)\n",
      "\u001b[0;31mException\u001b[0m: End of blog post"
     ]
    }
   ],
   "source": [
    "raise Exception(\"End of blog post\")"
   ]
  },
  {
   "cell_type": "markdown",
   "metadata": {},
   "source": []
  },
  {
   "cell_type": "markdown",
   "metadata": {},
   "source": [
    "## Modeling with AIF360"
   ]
  },
  {
   "cell_type": "code",
   "execution_count": null,
   "metadata": {
    "execution": {
     "iopub.status.busy": "2024-08-02T18:52:16.094771Z",
     "iopub.status.idle": "2024-08-02T18:52:16.094888Z",
     "shell.execute_reply": "2024-08-02T18:52:16.094829Z",
     "shell.execute_reply.started": "2024-08-02T18:52:16.094824Z"
    }
   },
   "outputs": [],
   "source": [
    "train, test = binary_dataset.split([0.8], shuffle=True)\n",
    "len(train.labels), len(test.labels)\n"
   ]
  },
  {
   "cell_type": "code",
   "execution_count": null,
   "metadata": {
    "execution": {
     "iopub.status.busy": "2024-08-02T18:52:16.095668Z",
     "iopub.status.idle": "2024-08-02T18:52:16.095837Z",
     "shell.execute_reply": "2024-08-02T18:52:16.095774Z",
     "shell.execute_reply.started": "2024-08-02T18:52:16.095768Z"
    }
   },
   "outputs": [],
   "source": [
    "from sklearn.ensemble import RandomForestClassifier\n",
    "from sklearn.linear_model import LogisticRegression, LogisticRegressionCV\n",
    "from sklearn.metrics import ConfusionMatrixDisplay, classification_report"
   ]
  },
  {
   "cell_type": "code",
   "execution_count": null,
   "metadata": {
    "execution": {
     "iopub.status.busy": "2024-08-02T18:52:16.096348Z",
     "iopub.status.idle": "2024-08-02T18:52:16.096477Z",
     "shell.execute_reply": "2024-08-02T18:52:16.096415Z",
     "shell.execute_reply.started": "2024-08-02T18:52:16.096410Z"
    }
   },
   "outputs": [],
   "source": [
    "\n",
    "def evaluate_model(y_true, y_pred):\n",
    "    \"\"\"Minimal evaluation of a model's performance.\"\"\"\n",
    "    print(classification_report(y_true, y_pred))\n",
    "    ConfusionMatrixDisplay.from_predictions(y_true, y_pred,\n",
    "                                            normalize='true',cmap='Greens',\n",
    "                                            display_labels=['Non-Recid','Recid'])"
   ]
  },
  {
   "cell_type": "code",
   "execution_count": null,
   "metadata": {
    "execution": {
     "iopub.status.busy": "2024-08-02T18:52:16.096896Z",
     "iopub.status.idle": "2024-08-02T18:52:16.097128Z",
     "shell.execute_reply": "2024-08-02T18:52:16.097023Z",
     "shell.execute_reply.started": "2024-08-02T18:52:16.097012Z"
    }
   },
   "outputs": [],
   "source": [
    "# Training Model #1\n",
    "clf_rf = RandomForestClassifier(\n",
    "                             max_depth=12,\n",
    "                             random_state=42, \n",
    "                             class_weight='balanced')\n",
    "clf_rf.fit(train.features, train.labels.ravel())\n",
    "\n",
    "# Evaluate model\n",
    "y_hat_test_rf = clf_rf.predict(test.features)\n",
    "evaluate_model(test.labels, y_hat_test_rf)"
   ]
  },
  {
   "cell_type": "code",
   "execution_count": null,
   "metadata": {
    "execution": {
     "iopub.status.busy": "2024-08-02T18:52:16.098108Z",
     "iopub.status.idle": "2024-08-02T18:52:16.098500Z",
     "shell.execute_reply": "2024-08-02T18:52:16.098324Z",
     "shell.execute_reply.started": "2024-08-02T18:52:16.098310Z"
    }
   },
   "outputs": [],
   "source": [
    "# Training Model #2\n",
    "# Logistic Regression\n",
    "clf_logreg = LogisticRegression(max_iter=2000, \n",
    "                                random_state=42,\n",
    "                             class_weight='balanced'\n",
    "                             )\n",
    "clf_logreg.fit(train.features, train.labels.ravel())\n",
    "\n",
    "# Evaluate model\n",
    "y_hat_test_logreg = clf_logreg.predict(test.features)\n",
    "evaluate_model(test.labels, y_hat_test_logreg)"
   ]
  },
  {
   "cell_type": "code",
   "execution_count": null,
   "metadata": {
    "execution": {
     "iopub.status.busy": "2024-08-02T18:52:16.099961Z",
     "iopub.status.idle": "2024-08-02T18:52:16.100212Z",
     "shell.execute_reply": "2024-08-02T18:52:16.100140Z",
     "shell.execute_reply.started": "2024-08-02T18:52:16.100134Z"
    }
   },
   "outputs": [],
   "source": [
    "# Training Model #3\n",
    "from sklearn.svm import SVC\n",
    "clf_svc = SVC(#probability=True, \n",
    "          kernel='rbf', class_weight='balanced')\n",
    "clf_svc.fit(train.features, train.labels.ravel())\n",
    "\n",
    "# Evaluate model\n",
    "y_hat_test_svc = clf_svc.predict(test.features)\n",
    "evaluate_model(test.labels, y_hat_test_svc) "
   ]
  },
  {
   "cell_type": "code",
   "execution_count": null,
   "metadata": {
    "execution": {
     "iopub.status.busy": "2024-08-02T18:52:16.100637Z",
     "iopub.status.idle": "2024-08-02T18:52:16.100769Z",
     "shell.execute_reply": "2024-08-02T18:52:16.100697Z",
     "shell.execute_reply.started": "2024-08-02T18:52:16.100692Z"
    }
   },
   "outputs": [],
   "source": [
    "import xgboost as xgb\n",
    "\n",
    "# Training Model #1\n",
    "clf_xgb = xgb.XGBClassifier(\n",
    "    random_state=42,\n",
    "    scale_pos_weight=(1 - train.labels.mean()) / train.labels.mean() # Mimic class_weight='balanced'\n",
    ")\n",
    "clf_xgb.fit(train.features, train.labels.ravel())\n",
    "\n",
    "# Evaluate model\n",
    "y_hat_test_xgb = clf_xgb.predict(test.features)\n",
    "evaluate_model(test.labels, y_hat_test_xgb)"
   ]
  },
  {
   "cell_type": "markdown",
   "metadata": {},
   "source": [
    "### ANN"
   ]
  },
  {
   "cell_type": "code",
   "execution_count": null,
   "metadata": {
    "execution": {
     "iopub.status.busy": "2024-08-02T18:52:16.101183Z",
     "iopub.status.idle": "2024-08-02T18:52:16.101296Z",
     "shell.execute_reply": "2024-08-02T18:52:16.101239Z",
     "shell.execute_reply.started": "2024-08-02T18:52:16.101234Z"
    }
   },
   "outputs": [],
   "source": [
    "# import tensorflow as tf\n",
    "# from tensorflow.keras.models import Sequential\n",
    "# from tensorflow.keras.layers import Dense, Dropout\n",
    "# # from tensorflow.keras.wrappers.scikit_learn import KerasClassifier\n",
    "\n",
    "# # Define the neural network model\n",
    "# def create_model():\n",
    "#     model = Sequential()\n",
    "#     model.add(Dense(64, input_dim=X_train.shape[1], activation='relu'))\n",
    "#     model.add(Dropout(0.5))\n",
    "#     model.add(Dense(32, activation='relu'))\n",
    "#     model.add(Dropout(0.5))\n",
    "#     model.add(Dense(16, activation='relu'))\n",
    "#     model.add(Dense(1, activation='sigmoid'))\n",
    "    \n",
    "#     model.compile(optimizer='adam', loss='binary_crossentropy', metrics=['accuracy'])\n",
    "#     return model\n",
    "\n",
    "\n",
    "\n",
    "\n",
    "# # Make the data compatible with the model\n",
    "# X_train, y_train = train.features, train.labels.ravel()\n",
    "# X_test, y_test = test.features, test.labels.ravel()\n",
    "\n",
    "\n",
    "# # Wrap the model using KerasClassifier for compatibility with scikit-learn\n",
    "# model = create_model()\n",
    "# # Train the model\n",
    "# history = model.fit(X_train, y_train, validation_split=0.2, verbose=True, epochs=50)\n"
   ]
  },
  {
   "cell_type": "code",
   "execution_count": null,
   "metadata": {
    "execution": {
     "iopub.status.busy": "2024-08-02T18:52:16.101626Z",
     "iopub.status.idle": "2024-08-02T18:52:16.101743Z",
     "shell.execute_reply": "2024-08-02T18:52:16.101674Z",
     "shell.execute_reply.started": "2024-08-02T18:52:16.101669Z"
    }
   },
   "outputs": [],
   "source": [
    "# y_hat_test = model.predict(X_test)\n",
    "# y_hat_test = (y_hat_test > 0.5).astype(int)\n",
    "# y_hat_test = y_hat_test.ravel()\n",
    "\n",
    "# evaluate_model(y_test, y_hat_test)"
   ]
  }
 ],
 "metadata": {
  "kernelspec": {
   "display_name": "Python(fair-env)",
   "language": "python",
   "name": "fair-env"
  },
  "language_info": {
   "codemirror_mode": {
    "name": "ipython",
    "version": 3
   },
   "file_extension": ".py",
   "mimetype": "text/x-python",
   "name": "python",
   "nbconvert_exporter": "python",
   "pygments_lexer": "ipython3",
   "version": "3.12.4"
  }
 },
 "nbformat": 4,
 "nbformat_minor": 4
}
