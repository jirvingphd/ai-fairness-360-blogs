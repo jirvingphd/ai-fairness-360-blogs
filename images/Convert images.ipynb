{
 "cells": [
  {
   "cell_type": "code",
   "execution_count": null,
   "metadata": {},
   "outputs": [],
   "source": [
    "from PIL import Image\n",
    "import os\n",
    "\n",
    "def convert_webp_to_png(input_path, output_path):\n",
    "    # Open the WebP image\n",
    "    with Image.open(input_path) as img:\n",
    "        # Convert the image to PNG format\n",
    "        img = img.convert('RGBA')  # Ensure image is in RGBA to preserve transparency\n",
    "        # Save the image as PNG\n",
    "        img.save(output_path, 'PNG')\n",
    "\n",
    "# Example usage\n",
    "input_webp = 'path/to/your/image.webp'  # Replace with your WebP image path\n",
    "output_png = 'path/to/save/image.png'   # Replace with your desired PNG output path\n",
    "\n",
    "convert_webp_to_png(input_webp, output_png)\n",
    "\n",
    "# Check if the conversion was successful\n",
    "if os.pat\n"
   ]
  }
 ],
 "metadata": {
  "language_info": {
   "name": "python"
  }
 },
 "nbformat": 4,
 "nbformat_minor": 2
}
