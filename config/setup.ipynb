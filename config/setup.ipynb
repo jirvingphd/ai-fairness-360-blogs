{
 "cells": [
  {
   "cell_type": "code",
   "execution_count": 2,
   "metadata": {},
   "outputs": [],
   "source": [
    "# Env creation script\n",
    "# Cut from conda create command: conda-forge::aif360\n",
    "env_script_mac = \"\"\"conda create --name fair-env python=3.12 jupyter notebook pandas scikit-learn matplotlib seaborn  conda-forge::lightgbm -y\n",
    "conda activate fair-env\n",
    "python -m ipykernel install --user --name=fair-env\n",
    "pip install -r requirements-macos.txt\n",
    "\n",
    "# pip install igraph\n",
    "# pip install torch torchvision torchaudio\n",
    "# pip install tensorflow-macos tensorflow-metal\n",
    "# pip install 'aif360[Reductions]'\n",
    "# pip install 'aif360[OptimalTransport]'\n",
    "# pip install 'aif360[inFairness]'\n",
    "# pip install 'aif360[FairAdapt]'\n",
    "# pip install 'aif360[AdversarialDebiasing]'\n",
    "# pip install pycairo\n",
    "\n",
    "echo \"Environment created\"\n",
    "\n",
    "\"\"\"\n",
    "\n",
    "# Save mac script\n",
    "script_fname = 'environment-creation-aifair360-macos.sh'\n",
    "with open(script_fname, 'w') as f:\n",
    "    f.write(env_script_mac)\n",
    "    \n",
    "# make script executable\n",
    "!chmod +x $script_fname\n",
    "    \n",
    "    \n",
    "# Save windows script\n",
    "env_script_win = env_script_mac.replace(\"requirements-macos.txt\", \"requirements-win.txt\")\n",
    "script_fname = 'environment-creation-aifair360-windows.sh'\n",
    "with open(script_fname, 'w') as f:\n",
    "    f.write(env_script_win)\n",
    "    \n",
    "# make script executable\n",
    "!chmod +x $script_fname\n",
    "    \n",
    "    \n",
    "    \n",
    "## removal script\n",
    "remove_script = \"\"\"conda deactivate\n",
    "conda remove --name fair-env --all -y \n",
    "echo \"Environment removed\"\n",
    "\"\"\"\n",
    "script_fname = 'environment-deletion-aifair360.sh'\n",
    "with open(script_fname, 'w') as f:\n",
    "    f.write(remove_script)\n",
    "    \n",
    "# make script executable\n",
    "!chmod +x $script_fname"
   ]
  },
  {
   "cell_type": "markdown",
   "metadata": {},
   "source": [
    "To create the environment, run the following command in the terminal:\n",
    "```bash\n",
    "cd config\n",
    "./environment-creation-aifair360.sh\n",
    "```\n",
    "\n",
    "To remove the environment, run the following command in the terminal:\n",
    "```bash\n",
    "cd config\n",
    "./environment-deletion-aifair360.sh\n",
    "```"
   ]
  }
 ],
 "metadata": {
  "kernelspec": {
   "display_name": "fair-env",
   "language": "python",
   "name": "python3"
  },
  "language_info": {
   "codemirror_mode": {
    "name": "ipython",
    "version": 3
   },
   "file_extension": ".py",
   "mimetype": "text/x-python",
   "name": "python",
   "nbconvert_exporter": "python",
   "pygments_lexer": "ipython3",
   "version": "3.12.4"
  }
 },
 "nbformat": 4,
 "nbformat_minor": 2
}
